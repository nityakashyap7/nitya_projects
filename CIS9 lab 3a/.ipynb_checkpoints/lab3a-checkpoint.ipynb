{
 "cells": [
  {
   "cell_type": "markdown",
   "id": "11548204",
   "metadata": {},
   "source": [
    "### CIS 9 - Lab 3a\n",
    "\n",
    "Supervised Learning: Regression and Classification"
   ]
  },
  {
   "cell_type": "code",
   "execution_count": null,
   "id": "1fcaf98e",
   "metadata": {},
   "outputs": [],
   "source": [
    "# Name: "
   ]
  },
  {
   "cell_type": "markdown",
   "id": "1ffce929",
   "metadata": {},
   "source": [
    "There are 2 parts to this lab, each part works with a different input file and solves a different type of ML problem. "
   ]
  },
  {
   "cell_type": "code",
   "execution_count": null,
   "id": "18b42eee",
   "metadata": {},
   "outputs": [],
   "source": [
    "# import modules\n",
    "import pandas as pd"
   ]
  },
  {
   "cell_type": "markdown",
   "id": "104d0e8f",
   "metadata": {},
   "source": [
    "#### Part 1\n",
    "\n",
    "You're asked by a bank to create and train an ML model to predict whether a customer will accept an offer for a new credit card from the bank.\n",
    "\n",
    "One of the primary ways that a bank makes money is through interest from credit card accounts, so the bank would like to know which customers would be more likely to accept a credit card offer, given their banking status.\n",
    "\n",
    "The input fle is `cc.csv` ([source](https://www.kaggle.com/datasets/thedevastator/unlocking-credit-card-offer-acceptance-trends-in?select=creditcardmarketing-bbm.csv))"
   ]
  },
  {
   "cell_type": "markdown",
   "id": "f071db26",
   "metadata": {},
   "source": [
    "1. Read and inspect data\n",
    "\n",
    "1a. __Read data from `cc.csv` into a DataFrame__.<br>\n",
    "Then __print the number of rows and columns of the DataFrame__<br>\n",
    "and __print the first 5 rows__.<br>"
   ]
  },
  {
   "cell_type": "code",
   "execution_count": null,
   "id": "c684792e",
   "metadata": {},
   "outputs": [],
   "source": [
    "cc = pd.read_csv(\"cc.csv\")\n",
    "print(\"rows, columns:\", cc.shape)\n"
   ]
  },
  {
   "cell_type": "markdown",
   "id": "51d45aa4",
   "metadata": {},
   "source": [
    "1b. The `Offer Accepted` value of 'Yes' is of interest to the bank.<br> \n",
    "__Show the number of 'Yes' and 'No' in the `Offer Accepted` column__."
   ]
  },
  {
   "cell_type": "code",
   "execution_count": null,
   "id": "409ff839",
   "metadata": {},
   "outputs": [],
   "source": []
  },
  {
   "cell_type": "markdown",
   "id": "db9a5c50",
   "metadata": {},
   "source": [
    "2. Data Cleaning\n",
    "\n",
    "2a. __Show the number of NaNs__ in each column, and __drop any rows with NaN__.<br>\n",
    "Then __print the number of rows and columns of the DataFrame__ to confirm that there are still a majority of data available."
   ]
  },
  {
   "cell_type": "code",
   "execution_count": null,
   "id": "bc0cdaf5",
   "metadata": {},
   "outputs": [],
   "source": []
  },
  {
   "cell_type": "markdown",
   "id": "10ecca11",
   "metadata": {},
   "source": [
    "2b. It looks like the `Average Balance` column is the average of the `Q1, Q2, Q3, Q4 Balances`.<br>\n",
    "Write code to __confirm that the `Average Balance` is the same as the average of the last 4 balance columns__.\n",
    "\n",
    "_You should not have to use a loop to check. Instead, think of how pandas (numpy) checks for the count of boolean results_."
   ]
  },
  {
   "cell_type": "code",
   "execution_count": null,
   "id": "0fa36d69",
   "metadata": {},
   "outputs": [],
   "source": []
  },
  {
   "cell_type": "markdown",
   "id": "e65ac248",
   "metadata": {},
   "source": [
    "2c. Since the `Average Balance` is representative of the 4 quarter balances, __remove the `Q1, Q2, Q3, Q4 Balances`__.<br>\n",
    "Also __remove any additional columns that will not be helpful to the ML model__.<br>\n",
    "Then __print the first 5 rows of the DataFrame__."
   ]
  },
  {
   "cell_type": "code",
   "execution_count": null,
   "id": "7933b34c",
   "metadata": {},
   "outputs": [],
   "source": []
  },
  {
   "cell_type": "markdown",
   "id": "0cb84920",
   "metadata": {},
   "source": [
    "2d. Create a Raw NBConvert cell to __explain why you removed the additional columns__ of step 2c."
   ]
  },
  {
   "cell_type": "markdown",
   "id": "2d1690a0",
   "metadata": {},
   "source": [
    "3. Data Preparation\n",
    "\n",
    "3a. __Change all the \"Yes\" strings to the number 1, and all the \"No\" strings to the number 0__ in the DataFrame."
   ]
  },
  {
   "cell_type": "code",
   "execution_count": null,
   "id": "dd4716d1",
   "metadata": {},
   "outputs": [],
   "source": []
  },
  {
   "cell_type": "markdown",
   "id": "1731a97d",
   "metadata": {},
   "source": [
    "3b. __Print all the unique values of `Income Level` and of `Credit Rating`__ to confirm that both columns use the 3 values: Low, Medium, High.<br>\n",
    "Then __change \"Low\" to 0, \"Medium\" to 1, and \"High\" to 2__ in the DataFrame<br>\n",
    "and __print the first 5 rows__ to check your result."
   ]
  },
  {
   "cell_type": "code",
   "execution_count": null,
   "id": "68c74547",
   "metadata": {},
   "outputs": [],
   "source": []
  },
  {
   "cell_type": "markdown",
   "id": "920cdd67",
   "metadata": {},
   "source": [
    "3c. __Change values of `Reward` and `Mailer Type` to numbers__<br>\n",
    "then __print the first 5 rows of the DataFrame__."
   ]
  },
  {
   "cell_type": "code",
   "execution_count": null,
   "id": "eb8de44c",
   "metadata": {},
   "outputs": [],
   "source": []
  },
  {
   "cell_type": "markdown",
   "id": "516b6989",
   "metadata": {},
   "source": [
    "3d. __Print the data type of each column__ to confirm that all values in the DataFrame is a number."
   ]
  },
  {
   "cell_type": "code",
   "execution_count": null,
   "id": "d7b7eb7e",
   "metadata": {},
   "outputs": [],
   "source": []
  },
  {
   "cell_type": "markdown",
   "id": "1994d817",
   "metadata": {},
   "source": [
    "4. Data Analysis\n",
    "\n",
    "4a. Create a plot with 12 subplots to __show the distribution of each feature__ (column).<br>\n",
    "The plot should be 2 rows of 6 subplots each, and each subplot should have a title to specify which distribution is shown.\n",
    "\n",
    "_You should use a loop to create the 12 subplots, don't copy-paste code 12 times_"
   ]
  },
  {
   "cell_type": "code",
   "execution_count": null,
   "id": "9479a342",
   "metadata": {},
   "outputs": [],
   "source": []
  },
  {
   "cell_type": "markdown",
   "id": "697a5498",
   "metadata": {},
   "source": [
    "4c. Create a Raw NBConvert cell to __explain whether there are outliers or anything unusual__ in any of the features."
   ]
  },
  {
   "cell_type": "markdown",
   "id": "46875b57",
   "metadata": {},
   "source": [
    "5. Create training and testing datasets\n",
    "\n",
    "5a. __Create the X and y datasets__<br>\n",
    "and __show the number of rows and columns of each dataset__."
   ]
  },
  {
   "cell_type": "code",
   "execution_count": null,
   "id": "55f4b27e",
   "metadata": {},
   "outputs": [],
   "source": []
  },
  {
   "cell_type": "markdown",
   "id": "c2d71e63",
   "metadata": {},
   "source": [
    "5b. __Create the training and testing sets__ and __show their dimensions__."
   ]
  },
  {
   "cell_type": "code",
   "execution_count": null,
   "id": "fd5f843b",
   "metadata": {},
   "outputs": [],
   "source": []
  },
  {
   "cell_type": "markdown",
   "id": "523eaa19",
   "metadata": {},
   "source": [
    "6. Train and measure the accuracy of appropriate ML models. <br>\n",
    "\n",
    "__Create, train, test, and evaluate the accuracy of _all_ the appropriate machine learning models__ that we've discussed in class to predict the customer response.<br>\n",
    "\n",
    "- It's a good idea to create one or more Code cells for _each_ type of machine learning model.<br>\n",
    "(Don't have one huge Code cell that has all the models, it makes debugging more difficult)\n",
    "- For each model, make sure to show all the accuracy measurements that we've discussed in class for the model.<br>\n",
    "_(Hint: there is more than one measurement)_"
   ]
  },
  {
   "cell_type": "code",
   "execution_count": null,
   "id": "28ca88d4",
   "metadata": {},
   "outputs": [],
   "source": []
  },
  {
   "cell_type": "markdown",
   "id": "6ac25af0",
   "metadata": {},
   "source": [
    "7. Based on the accuracy measurements, what would you recommend to the bank?<br>\n",
    "Create a Raw NBConvert to show your recommendation."
   ]
  },
  {
   "cell_type": "markdown",
   "id": "5bcfc4dc",
   "metadata": {},
   "source": [
    "---"
   ]
  },
  {
   "cell_type": "markdown",
   "id": "d96a2043",
   "metadata": {},
   "source": [
    "#### Part 2\n",
    "\n",
    "Create and train an ML model to predict the price of a house, given some common features of the house.<br>\n",
    "The input file is `house.csv` ([source](https://www.kaggle.com/datasets/praveenobulreddy/usa-housing-dataset))."
   ]
  },
  {
   "cell_type": "markdown",
   "id": "0124785f",
   "metadata": {},
   "source": [
    "1. Read and inspect data\n",
    "\n",
    "1a. __Read data from `house.csv` into a DataFrame__.<br>\n",
    "Then __print the number of rows and columns of the DataFrame__<br>\n",
    "and __print the first 5 rows__."
   ]
  },
  {
   "cell_type": "code",
   "execution_count": null,
   "id": "19e4f1c3",
   "metadata": {},
   "outputs": [],
   "source": []
  },
  {
   "cell_type": "markdown",
   "id": "11098d43",
   "metadata": {},
   "source": [
    "1b. __Remove any unnecessary columns__."
   ]
  },
  {
   "cell_type": "code",
   "execution_count": null,
   "id": "662febbb",
   "metadata": {},
   "outputs": [],
   "source": []
  },
  {
   "cell_type": "markdown",
   "id": "4a8f63e0",
   "metadata": {},
   "source": [
    "1c. __Check for NaNs and drop rows with NaNs__."
   ]
  },
  {
   "cell_type": "code",
   "execution_count": null,
   "id": "2a41f9ab",
   "metadata": {},
   "outputs": [],
   "source": []
  },
  {
   "cell_type": "markdown",
   "id": "56bdea29",
   "metadata": {},
   "source": [
    "2. Data Cleaning\n",
    "\n",
    "__Shorten the column headers to the last word__ only.<br>\n",
    "For example, \"Avg. Area Income\" becomes \"Income\"<br>\n",
    "Then __show the first 5 rows of the DataFrame__."
   ]
  },
  {
   "cell_type": "code",
   "execution_count": null,
   "id": "73347596",
   "metadata": {},
   "outputs": [],
   "source": []
  },
  {
   "cell_type": "markdown",
   "id": "60268182",
   "metadata": {},
   "source": [
    "3. Data Analysis\n",
    "\n",
    "3a. __Plot the distribution of the Price__ column<br>\n",
    "The plot should have a title."
   ]
  },
  {
   "cell_type": "code",
   "execution_count": null,
   "id": "34eaa307",
   "metadata": {},
   "outputs": [],
   "source": []
  },
  {
   "cell_type": "markdown",
   "id": "ba233b8b",
   "metadata": {},
   "source": [
    "3b. Create a Raw NBConvert cell to __explain whether the data is balanced__, based on the plot."
   ]
  },
  {
   "cell_type": "markdown",
   "id": "09a6163d",
   "metadata": {},
   "source": [
    "3c. Create a plot with 5 subplots to __show any correlation between each feature and the price__.<br>\n",
    "The plot should be in 2 rows of 2-3 subplots each, and each subplot should have a title to specify which distribution is shown.\n",
    "\n",
    "_You should use a loop to create the subplots._"
   ]
  },
  {
   "cell_type": "code",
   "execution_count": null,
   "id": "0c8996c7",
   "metadata": {},
   "outputs": [],
   "source": []
  },
  {
   "cell_type": "markdown",
   "id": "aa521faf",
   "metadata": {},
   "source": [
    "3d. Is there any correlation between the features and the price?<br>\n",
    "Create a Raw NBConvert to __explain any correlation__."
   ]
  },
  {
   "cell_type": "markdown",
   "id": "36d52ad3",
   "metadata": {},
   "source": [
    "4.Create training and testing datasets\n",
    "\n",
    "4a. __Create the X and y datasets__<br>\n",
    "and __show the number of rows and columns of each dataset__."
   ]
  },
  {
   "cell_type": "code",
   "execution_count": null,
   "id": "22350c90",
   "metadata": {},
   "outputs": [],
   "source": []
  },
  {
   "cell_type": "markdown",
   "id": "e5c00ce0",
   "metadata": {},
   "source": [
    "4b. __Create the training and testing sets__ and __show their dimensions__."
   ]
  },
  {
   "cell_type": "code",
   "execution_count": null,
   "id": "d8716981",
   "metadata": {},
   "outputs": [],
   "source": []
  },
  {
   "cell_type": "markdown",
   "id": "1727fa16",
   "metadata": {},
   "source": [
    "5. Train and measure accuracy of appropriate ML models. <br>\n",
    "\n",
    "__Create, train, test, and evaluate the accuracy of _all_ the appropriate machine learning models__ that we've discussed in class to predict the customer response.<br>\n",
    "\n",
    "- It's a good idea to create one or more Code cells for _each_ type of machine learning model.<br>\n",
    "(Don't have one huge Code cell that has all the models, it makes debugging more difficult)\n",
    "- For each model, make sure to show all the accuracy measurements that we've discussed in class for the model.<br>\n",
    "_(Hint: there is more than one measurement)_"
   ]
  },
  {
   "cell_type": "code",
   "execution_count": null,
   "id": "169dd3db",
   "metadata": {},
   "outputs": [],
   "source": []
  },
  {
   "cell_type": "markdown",
   "id": "b6417ddb",
   "metadata": {},
   "source": [
    "6. For the models that you used, do they have the same list of important features?\n",
    "Create a Raw NBConvert cell to __compare the lists of important features__."
   ]
  },
  {
   "cell_type": "code",
   "execution_count": null,
   "id": "4baccbde",
   "metadata": {},
   "outputs": [],
   "source": []
  }
 ],
 "metadata": {
  "kernelspec": {
   "display_name": "Python 3 (ipykernel)",
   "language": "python",
   "name": "python3"
  },
  "language_info": {
   "codemirror_mode": {
    "name": "ipython",
    "version": 3
   },
   "file_extension": ".py",
   "mimetype": "text/x-python",
   "name": "python",
   "nbconvert_exporter": "python",
   "pygments_lexer": "ipython3",
   "version": "3.10.9"
  }
 },
 "nbformat": 4,
 "nbformat_minor": 5
}
