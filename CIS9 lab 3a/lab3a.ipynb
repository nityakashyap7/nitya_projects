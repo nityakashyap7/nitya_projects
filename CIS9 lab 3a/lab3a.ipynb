{
 "cells": [
  {
   "cell_type": "markdown",
   "id": "11548204",
   "metadata": {},
   "source": [
    "### CIS 9 - Lab 3a\n",
    "\n",
    "Supervised Learning: Regression and Classification"
   ]
  },
  {
   "cell_type": "code",
   "execution_count": 6,
   "id": "1fcaf98e",
   "metadata": {},
   "outputs": [],
   "source": [
    "# Name: Nitya Kashyap"
   ]
  },
  {
   "cell_type": "markdown",
   "id": "1ffce929",
   "metadata": {},
   "source": [
    "There are 2 parts to this lab, each part works with a different input file and solves a different type of ML problem. "
   ]
  },
  {
   "cell_type": "code",
   "execution_count": 7,
   "id": "18b42eee",
   "metadata": {},
   "outputs": [],
   "source": [
    "# import modules\n",
    "import pandas as pd\n",
    "import numpy as np\n",
    "import matplotlib.pyplot as plt\n",
    "import matplotlib\n",
    "from sklearn.model_selection import train_test_split\n",
    "from sklearn import metrics\n",
    "from sklearn.metrics import f1_score\n",
    "from sklearn.neighbors import KNeighborsClassifier\n",
    "from sklearn.naive_bayes import GaussianNB\n",
    "from sklearn.ensemble import RandomForestClassifier\n",
    "from sklearn.tree import DecisionTreeClassifier\n",
    "import sklearn.linear_model as lm\n",
    "from sklearn.tree import DecisionTreeRegressor"
   ]
  },
  {
   "cell_type": "markdown",
   "id": "104d0e8f",
   "metadata": {},
   "source": [
    "#### Part 1\n",
    "\n",
    "You're asked by a bank to create and train an ML model to predict whether a customer will accept an offer for a new credit card from the bank.\n",
    "\n",
    "One of the primary ways that a bank makes money is through interest from credit card accounts, so the bank would like to know which customers would be more likely to accept a credit card offer, given their banking status.\n",
    "\n",
    "The input fle is `cc.csv` ([source](https://www.kaggle.com/datasets/thedevastator/unlocking-credit-card-offer-acceptance-trends-in?select=creditcardmarketing-bbm.csv))"
   ]
  },
  {
   "cell_type": "markdown",
   "id": "f071db26",
   "metadata": {},
   "source": [
    "1. Read and inspect data\n",
    "\n",
    "1a. __Read data from `cc.csv` into a DataFrame__.<br>\n",
    "Then __print the number of rows and columns of the DataFrame__<br>\n",
    "and __print the first 5 rows__.<br>"
   ]
  },
  {
   "cell_type": "code",
   "execution_count": 8,
   "id": "c684792e",
   "metadata": {},
   "outputs": [
    {
     "name": "stdout",
     "output_type": "stream",
     "text": [
      "rows, columns: (18000, 18)\n",
      "first 5 rows:\n"
     ]
    },
    {
     "data": {
      "text/html": [
       "<div>\n",
       "<style scoped>\n",
       "    .dataframe tbody tr th:only-of-type {\n",
       "        vertical-align: middle;\n",
       "    }\n",
       "\n",
       "    .dataframe tbody tr th {\n",
       "        vertical-align: top;\n",
       "    }\n",
       "\n",
       "    .dataframe thead th {\n",
       "        text-align: right;\n",
       "    }\n",
       "</style>\n",
       "<table border=\"1\" class=\"dataframe\">\n",
       "  <thead>\n",
       "    <tr style=\"text-align: right;\">\n",
       "      <th></th>\n",
       "      <th>index</th>\n",
       "      <th>Customer Number</th>\n",
       "      <th>Offer Accepted</th>\n",
       "      <th>Reward</th>\n",
       "      <th>Mailer Type</th>\n",
       "      <th>Income Level</th>\n",
       "      <th># Bank Accounts Open</th>\n",
       "      <th>Overdraft Protection</th>\n",
       "      <th>Credit Rating</th>\n",
       "      <th># Credit Cards Held</th>\n",
       "      <th># Homes Owned</th>\n",
       "      <th>Household Size</th>\n",
       "      <th>Own Your Home</th>\n",
       "      <th>Average Balance</th>\n",
       "      <th>Q1 Balance</th>\n",
       "      <th>Q2 Balance</th>\n",
       "      <th>Q3 Balance</th>\n",
       "      <th>Q4 Balance</th>\n",
       "    </tr>\n",
       "  </thead>\n",
       "  <tbody>\n",
       "    <tr>\n",
       "      <th>0</th>\n",
       "      <td>0</td>\n",
       "      <td>1</td>\n",
       "      <td>No</td>\n",
       "      <td>Air Miles</td>\n",
       "      <td>Letter</td>\n",
       "      <td>High</td>\n",
       "      <td>1</td>\n",
       "      <td>No</td>\n",
       "      <td>High</td>\n",
       "      <td>2</td>\n",
       "      <td>1</td>\n",
       "      <td>4</td>\n",
       "      <td>No</td>\n",
       "      <td>1160.75</td>\n",
       "      <td>1669.0</td>\n",
       "      <td>877.0</td>\n",
       "      <td>1095.0</td>\n",
       "      <td>1002.0</td>\n",
       "    </tr>\n",
       "    <tr>\n",
       "      <th>1</th>\n",
       "      <td>1</td>\n",
       "      <td>2</td>\n",
       "      <td>No</td>\n",
       "      <td>Air Miles</td>\n",
       "      <td>Letter</td>\n",
       "      <td>Medium</td>\n",
       "      <td>1</td>\n",
       "      <td>No</td>\n",
       "      <td>Medium</td>\n",
       "      <td>2</td>\n",
       "      <td>2</td>\n",
       "      <td>5</td>\n",
       "      <td>Yes</td>\n",
       "      <td>147.25</td>\n",
       "      <td>39.0</td>\n",
       "      <td>106.0</td>\n",
       "      <td>78.0</td>\n",
       "      <td>366.0</td>\n",
       "    </tr>\n",
       "    <tr>\n",
       "      <th>2</th>\n",
       "      <td>2</td>\n",
       "      <td>3</td>\n",
       "      <td>No</td>\n",
       "      <td>Air Miles</td>\n",
       "      <td>Postcard</td>\n",
       "      <td>High</td>\n",
       "      <td>2</td>\n",
       "      <td>No</td>\n",
       "      <td>Medium</td>\n",
       "      <td>2</td>\n",
       "      <td>1</td>\n",
       "      <td>2</td>\n",
       "      <td>Yes</td>\n",
       "      <td>276.50</td>\n",
       "      <td>367.0</td>\n",
       "      <td>352.0</td>\n",
       "      <td>145.0</td>\n",
       "      <td>242.0</td>\n",
       "    </tr>\n",
       "    <tr>\n",
       "      <th>3</th>\n",
       "      <td>3</td>\n",
       "      <td>4</td>\n",
       "      <td>No</td>\n",
       "      <td>Air Miles</td>\n",
       "      <td>Letter</td>\n",
       "      <td>Medium</td>\n",
       "      <td>2</td>\n",
       "      <td>No</td>\n",
       "      <td>High</td>\n",
       "      <td>1</td>\n",
       "      <td>1</td>\n",
       "      <td>4</td>\n",
       "      <td>No</td>\n",
       "      <td>1219.00</td>\n",
       "      <td>1578.0</td>\n",
       "      <td>1760.0</td>\n",
       "      <td>1119.0</td>\n",
       "      <td>419.0</td>\n",
       "    </tr>\n",
       "    <tr>\n",
       "      <th>4</th>\n",
       "      <td>4</td>\n",
       "      <td>5</td>\n",
       "      <td>No</td>\n",
       "      <td>Air Miles</td>\n",
       "      <td>Letter</td>\n",
       "      <td>Medium</td>\n",
       "      <td>1</td>\n",
       "      <td>No</td>\n",
       "      <td>Medium</td>\n",
       "      <td>2</td>\n",
       "      <td>1</td>\n",
       "      <td>6</td>\n",
       "      <td>Yes</td>\n",
       "      <td>1211.00</td>\n",
       "      <td>2140.0</td>\n",
       "      <td>1357.0</td>\n",
       "      <td>982.0</td>\n",
       "      <td>365.0</td>\n",
       "    </tr>\n",
       "  </tbody>\n",
       "</table>\n",
       "</div>"
      ],
      "text/plain": [
       "   index  Customer Number Offer Accepted     Reward Mailer Type Income Level  \\\n",
       "0      0                1             No  Air Miles      Letter         High   \n",
       "1      1                2             No  Air Miles      Letter       Medium   \n",
       "2      2                3             No  Air Miles    Postcard         High   \n",
       "3      3                4             No  Air Miles      Letter       Medium   \n",
       "4      4                5             No  Air Miles      Letter       Medium   \n",
       "\n",
       "   # Bank Accounts Open Overdraft Protection Credit Rating  \\\n",
       "0                     1                   No          High   \n",
       "1                     1                   No        Medium   \n",
       "2                     2                   No        Medium   \n",
       "3                     2                   No          High   \n",
       "4                     1                   No        Medium   \n",
       "\n",
       "   # Credit Cards Held  # Homes Owned  Household Size Own Your Home  \\\n",
       "0                    2              1               4            No   \n",
       "1                    2              2               5           Yes   \n",
       "2                    2              1               2           Yes   \n",
       "3                    1              1               4            No   \n",
       "4                    2              1               6           Yes   \n",
       "\n",
       "   Average Balance  Q1 Balance  Q2 Balance  Q3 Balance  Q4 Balance  \n",
       "0          1160.75      1669.0       877.0      1095.0      1002.0  \n",
       "1           147.25        39.0       106.0        78.0       366.0  \n",
       "2           276.50       367.0       352.0       145.0       242.0  \n",
       "3          1219.00      1578.0      1760.0      1119.0       419.0  \n",
       "4          1211.00      2140.0      1357.0       982.0       365.0  "
      ]
     },
     "execution_count": 8,
     "metadata": {},
     "output_type": "execute_result"
    }
   ],
   "source": [
    "cc = pd.read_csv(\"cc.csv\")\n",
    "print(\"rows, columns:\", cc.shape)\n",
    "print(\"first 5 rows:\")\n",
    "cc.head()"
   ]
  },
  {
   "cell_type": "markdown",
   "id": "51d45aa4",
   "metadata": {},
   "source": [
    "1b. The `Offer Accepted` value of 'Yes' is of interest to the bank.<br> \n",
    "__Show the number of 'Yes' and 'No' in the `Offer Accepted` column__."
   ]
  },
  {
   "cell_type": "code",
   "execution_count": 9,
   "id": "409ff839",
   "metadata": {},
   "outputs": [
    {
     "name": "stdout",
     "output_type": "stream",
     "text": [
      "No     16977\n",
      "Yes     1023\n",
      "Name: Offer Accepted, dtype: int64\n"
     ]
    }
   ],
   "source": [
    "print(cc[\"Offer Accepted\"].value_counts())"
   ]
  },
  {
   "cell_type": "markdown",
   "id": "db9a5c50",
   "metadata": {},
   "source": [
    "2. Data Cleaning\n",
    "\n",
    "2a. __Show the number of NaNs__ in each column, and __drop any rows with NaN__.<br>\n",
    "Then __print the number of rows and columns of the DataFrame__ to confirm that there are still a majority of data available."
   ]
  },
  {
   "cell_type": "code",
   "execution_count": 10,
   "id": "bc0cdaf5",
   "metadata": {},
   "outputs": [
    {
     "name": "stdout",
     "output_type": "stream",
     "text": [
      "check for NaNs:\n",
      "index                    0\n",
      "Customer Number          0\n",
      "Offer Accepted           0\n",
      "Reward                   0\n",
      "Mailer Type              0\n",
      "Income Level             0\n",
      "# Bank Accounts Open     0\n",
      "Overdraft Protection     0\n",
      "Credit Rating            0\n",
      "# Credit Cards Held      0\n",
      "# Homes Owned            0\n",
      "Household Size           0\n",
      "Own Your Home            0\n",
      "Average Balance         24\n",
      "Q1 Balance              24\n",
      "Q2 Balance              24\n",
      "Q3 Balance              24\n",
      "Q4 Balance              24\n",
      "dtype: int64\n",
      "\n",
      "cleaned data rows, columns: (17976, 18)\n"
     ]
    }
   ],
   "source": [
    "print(\"check for NaNs:\")\n",
    "print(cc.isna().sum())\n",
    "cc = cc.dropna()\n",
    "print(\"\\ncleaned data rows, columns:\", cc.shape)"
   ]
  },
  {
   "cell_type": "markdown",
   "id": "10ecca11",
   "metadata": {},
   "source": [
    "2b. It looks like the `Average Balance` column is the average of the `Q1, Q2, Q3, Q4 Balances`.<br>\n",
    "Write code to __confirm that the `Average Balance` is the same as the average of the last 4 balance columns__.\n",
    "\n",
    "_You should not have to use a loop to check. Instead, think of how pandas (numpy) checks for the count of boolean results_."
   ]
  },
  {
   "cell_type": "code",
   "execution_count": 11,
   "id": "0fa36d69",
   "metadata": {},
   "outputs": [
    {
     "name": "stdout",
     "output_type": "stream",
     "text": [
      "There are 0 number of rows in which Average Balance does not match the average of the last 4 balance columns\n"
     ]
    }
   ],
   "source": [
    "# create view of just Q1-4 balances, find the mean of those (across the rows, hence axis=1)\n",
    "balances = cc.loc[:, [\"Q1 Balance\", \"Q2 Balance\", \"Q3 Balance\", \"Q4 Balance\"]]\n",
    "print(f\"There are {cc[balances.mean(axis=1) != cc['Average Balance']].shape[0]} number of rows in which Average Balance does not match the average of the last 4 balance columns\")"
   ]
  },
  {
   "cell_type": "raw",
   "id": "a7692ff5",
   "metadata": {},
   "source": [
    "Thus, the Average Balance column is the same as the average of the last 4 balance columns."
   ]
  },
  {
   "cell_type": "markdown",
   "id": "e65ac248",
   "metadata": {},
   "source": [
    "2c. Since the `Average Balance` is representative of the 4 quarter balances, __remove the `Q1, Q2, Q3, Q4 Balances`__.<br>\n",
    "Also __remove any additional columns that will not be helpful to the ML model__.<br>\n",
    "Then __print the first 5 rows of the DataFrame__."
   ]
  },
  {
   "cell_type": "code",
   "execution_count": 12,
   "id": "7933b34c",
   "metadata": {},
   "outputs": [
    {
     "data": {
      "text/html": [
       "<div>\n",
       "<style scoped>\n",
       "    .dataframe tbody tr th:only-of-type {\n",
       "        vertical-align: middle;\n",
       "    }\n",
       "\n",
       "    .dataframe tbody tr th {\n",
       "        vertical-align: top;\n",
       "    }\n",
       "\n",
       "    .dataframe thead th {\n",
       "        text-align: right;\n",
       "    }\n",
       "</style>\n",
       "<table border=\"1\" class=\"dataframe\">\n",
       "  <thead>\n",
       "    <tr style=\"text-align: right;\">\n",
       "      <th></th>\n",
       "      <th>Offer Accepted</th>\n",
       "      <th>Reward</th>\n",
       "      <th>Mailer Type</th>\n",
       "      <th>Income Level</th>\n",
       "      <th># Bank Accounts Open</th>\n",
       "      <th>Overdraft Protection</th>\n",
       "      <th>Credit Rating</th>\n",
       "      <th># Credit Cards Held</th>\n",
       "      <th># Homes Owned</th>\n",
       "      <th>Household Size</th>\n",
       "      <th>Own Your Home</th>\n",
       "      <th>Average Balance</th>\n",
       "    </tr>\n",
       "  </thead>\n",
       "  <tbody>\n",
       "    <tr>\n",
       "      <th>0</th>\n",
       "      <td>No</td>\n",
       "      <td>Air Miles</td>\n",
       "      <td>Letter</td>\n",
       "      <td>High</td>\n",
       "      <td>1</td>\n",
       "      <td>No</td>\n",
       "      <td>High</td>\n",
       "      <td>2</td>\n",
       "      <td>1</td>\n",
       "      <td>4</td>\n",
       "      <td>No</td>\n",
       "      <td>1160.75</td>\n",
       "    </tr>\n",
       "    <tr>\n",
       "      <th>1</th>\n",
       "      <td>No</td>\n",
       "      <td>Air Miles</td>\n",
       "      <td>Letter</td>\n",
       "      <td>Medium</td>\n",
       "      <td>1</td>\n",
       "      <td>No</td>\n",
       "      <td>Medium</td>\n",
       "      <td>2</td>\n",
       "      <td>2</td>\n",
       "      <td>5</td>\n",
       "      <td>Yes</td>\n",
       "      <td>147.25</td>\n",
       "    </tr>\n",
       "    <tr>\n",
       "      <th>2</th>\n",
       "      <td>No</td>\n",
       "      <td>Air Miles</td>\n",
       "      <td>Postcard</td>\n",
       "      <td>High</td>\n",
       "      <td>2</td>\n",
       "      <td>No</td>\n",
       "      <td>Medium</td>\n",
       "      <td>2</td>\n",
       "      <td>1</td>\n",
       "      <td>2</td>\n",
       "      <td>Yes</td>\n",
       "      <td>276.50</td>\n",
       "    </tr>\n",
       "    <tr>\n",
       "      <th>3</th>\n",
       "      <td>No</td>\n",
       "      <td>Air Miles</td>\n",
       "      <td>Letter</td>\n",
       "      <td>Medium</td>\n",
       "      <td>2</td>\n",
       "      <td>No</td>\n",
       "      <td>High</td>\n",
       "      <td>1</td>\n",
       "      <td>1</td>\n",
       "      <td>4</td>\n",
       "      <td>No</td>\n",
       "      <td>1219.00</td>\n",
       "    </tr>\n",
       "    <tr>\n",
       "      <th>4</th>\n",
       "      <td>No</td>\n",
       "      <td>Air Miles</td>\n",
       "      <td>Letter</td>\n",
       "      <td>Medium</td>\n",
       "      <td>1</td>\n",
       "      <td>No</td>\n",
       "      <td>Medium</td>\n",
       "      <td>2</td>\n",
       "      <td>1</td>\n",
       "      <td>6</td>\n",
       "      <td>Yes</td>\n",
       "      <td>1211.00</td>\n",
       "    </tr>\n",
       "  </tbody>\n",
       "</table>\n",
       "</div>"
      ],
      "text/plain": [
       "  Offer Accepted     Reward Mailer Type Income Level  # Bank Accounts Open  \\\n",
       "0             No  Air Miles      Letter         High                     1   \n",
       "1             No  Air Miles      Letter       Medium                     1   \n",
       "2             No  Air Miles    Postcard         High                     2   \n",
       "3             No  Air Miles      Letter       Medium                     2   \n",
       "4             No  Air Miles      Letter       Medium                     1   \n",
       "\n",
       "  Overdraft Protection Credit Rating  # Credit Cards Held  # Homes Owned  \\\n",
       "0                   No          High                    2              1   \n",
       "1                   No        Medium                    2              2   \n",
       "2                   No        Medium                    2              1   \n",
       "3                   No          High                    1              1   \n",
       "4                   No        Medium                    2              1   \n",
       "\n",
       "   Household Size Own Your Home  Average Balance  \n",
       "0               4            No          1160.75  \n",
       "1               5           Yes           147.25  \n",
       "2               2           Yes           276.50  \n",
       "3               4            No          1219.00  \n",
       "4               6           Yes          1211.00  "
      ]
     },
     "execution_count": 12,
     "metadata": {},
     "output_type": "execute_result"
    }
   ],
   "source": [
    "cc.dtypes\n",
    "cc[\"Q1 Balance\"]\n",
    "cc.drop(columns=[\"Q1 Balance\", \"Q2 Balance\", \"Q3 Balance\", \"Q4 Balance\", \"Customer Number\", \"index\"], inplace=True)\n",
    "cc.head()"
   ]
  },
  {
   "cell_type": "markdown",
   "id": "0cb84920",
   "metadata": {},
   "source": [
    "2d. Create a Raw NBConvert cell to __explain why you removed the additional columns__ of step 2c."
   ]
  },
  {
   "cell_type": "raw",
   "id": "ebd3e8c0",
   "metadata": {},
   "source": [
    "Customer Number and index are both unique identifiers of each row, which does not pertain to the model's predictions."
   ]
  },
  {
   "cell_type": "markdown",
   "id": "2d1690a0",
   "metadata": {},
   "source": [
    "3. Data Preparation\n",
    "\n",
    "3a. __Change all the \"Yes\" strings to the number 1, and all the \"No\" strings to the number 0__ in the DataFrame."
   ]
  },
  {
   "cell_type": "code",
   "execution_count": 13,
   "id": "dd4716d1",
   "metadata": {},
   "outputs": [
    {
     "data": {
      "text/html": [
       "<div>\n",
       "<style scoped>\n",
       "    .dataframe tbody tr th:only-of-type {\n",
       "        vertical-align: middle;\n",
       "    }\n",
       "\n",
       "    .dataframe tbody tr th {\n",
       "        vertical-align: top;\n",
       "    }\n",
       "\n",
       "    .dataframe thead th {\n",
       "        text-align: right;\n",
       "    }\n",
       "</style>\n",
       "<table border=\"1\" class=\"dataframe\">\n",
       "  <thead>\n",
       "    <tr style=\"text-align: right;\">\n",
       "      <th></th>\n",
       "      <th>Offer Accepted</th>\n",
       "      <th>Reward</th>\n",
       "      <th>Mailer Type</th>\n",
       "      <th>Income Level</th>\n",
       "      <th># Bank Accounts Open</th>\n",
       "      <th>Overdraft Protection</th>\n",
       "      <th>Credit Rating</th>\n",
       "      <th># Credit Cards Held</th>\n",
       "      <th># Homes Owned</th>\n",
       "      <th>Household Size</th>\n",
       "      <th>Own Your Home</th>\n",
       "      <th>Average Balance</th>\n",
       "    </tr>\n",
       "  </thead>\n",
       "  <tbody>\n",
       "    <tr>\n",
       "      <th>0</th>\n",
       "      <td>0</td>\n",
       "      <td>Air Miles</td>\n",
       "      <td>Letter</td>\n",
       "      <td>High</td>\n",
       "      <td>1</td>\n",
       "      <td>0</td>\n",
       "      <td>High</td>\n",
       "      <td>2</td>\n",
       "      <td>1</td>\n",
       "      <td>4</td>\n",
       "      <td>0</td>\n",
       "      <td>1160.75</td>\n",
       "    </tr>\n",
       "    <tr>\n",
       "      <th>1</th>\n",
       "      <td>0</td>\n",
       "      <td>Air Miles</td>\n",
       "      <td>Letter</td>\n",
       "      <td>Medium</td>\n",
       "      <td>1</td>\n",
       "      <td>0</td>\n",
       "      <td>Medium</td>\n",
       "      <td>2</td>\n",
       "      <td>2</td>\n",
       "      <td>5</td>\n",
       "      <td>1</td>\n",
       "      <td>147.25</td>\n",
       "    </tr>\n",
       "    <tr>\n",
       "      <th>2</th>\n",
       "      <td>0</td>\n",
       "      <td>Air Miles</td>\n",
       "      <td>Postcard</td>\n",
       "      <td>High</td>\n",
       "      <td>2</td>\n",
       "      <td>0</td>\n",
       "      <td>Medium</td>\n",
       "      <td>2</td>\n",
       "      <td>1</td>\n",
       "      <td>2</td>\n",
       "      <td>1</td>\n",
       "      <td>276.50</td>\n",
       "    </tr>\n",
       "    <tr>\n",
       "      <th>3</th>\n",
       "      <td>0</td>\n",
       "      <td>Air Miles</td>\n",
       "      <td>Letter</td>\n",
       "      <td>Medium</td>\n",
       "      <td>2</td>\n",
       "      <td>0</td>\n",
       "      <td>High</td>\n",
       "      <td>1</td>\n",
       "      <td>1</td>\n",
       "      <td>4</td>\n",
       "      <td>0</td>\n",
       "      <td>1219.00</td>\n",
       "    </tr>\n",
       "    <tr>\n",
       "      <th>4</th>\n",
       "      <td>0</td>\n",
       "      <td>Air Miles</td>\n",
       "      <td>Letter</td>\n",
       "      <td>Medium</td>\n",
       "      <td>1</td>\n",
       "      <td>0</td>\n",
       "      <td>Medium</td>\n",
       "      <td>2</td>\n",
       "      <td>1</td>\n",
       "      <td>6</td>\n",
       "      <td>1</td>\n",
       "      <td>1211.00</td>\n",
       "    </tr>\n",
       "  </tbody>\n",
       "</table>\n",
       "</div>"
      ],
      "text/plain": [
       "   Offer Accepted     Reward Mailer Type Income Level  # Bank Accounts Open  \\\n",
       "0               0  Air Miles      Letter         High                     1   \n",
       "1               0  Air Miles      Letter       Medium                     1   \n",
       "2               0  Air Miles    Postcard         High                     2   \n",
       "3               0  Air Miles      Letter       Medium                     2   \n",
       "4               0  Air Miles      Letter       Medium                     1   \n",
       "\n",
       "   Overdraft Protection Credit Rating  # Credit Cards Held  # Homes Owned  \\\n",
       "0                     0          High                    2              1   \n",
       "1                     0        Medium                    2              2   \n",
       "2                     0        Medium                    2              1   \n",
       "3                     0          High                    1              1   \n",
       "4                     0        Medium                    2              1   \n",
       "\n",
       "   Household Size  Own Your Home  Average Balance  \n",
       "0               4              0          1160.75  \n",
       "1               5              1           147.25  \n",
       "2               2              1           276.50  \n",
       "3               4              0          1219.00  \n",
       "4               6              1          1211.00  "
      ]
     },
     "execution_count": 13,
     "metadata": {},
     "output_type": "execute_result"
    }
   ],
   "source": [
    "yn = {\"Yes\":1, \"No\":0}\n",
    "cc.replace(yn,inplace=True)\n",
    "cc.head()"
   ]
  },
  {
   "cell_type": "markdown",
   "id": "1731a97d",
   "metadata": {},
   "source": [
    "3b. __Print all the unique values of `Income Level` and of `Credit Rating`__ to confirm that both columns use the 3 values: Low, Medium, High.<br>\n",
    "Then __change \"Low\" to 0, \"Medium\" to 1, and \"High\" to 2__ in the DataFrame<br>\n",
    "and __print the first 5 rows__ to check your result."
   ]
  },
  {
   "cell_type": "code",
   "execution_count": 14,
   "id": "68c74547",
   "metadata": {},
   "outputs": [
    {
     "name": "stdout",
     "output_type": "stream",
     "text": [
      "Unique Income Level values: High, Low, Medium\n",
      "Unique Credit Rating values: High, Low, Medium\n"
     ]
    },
    {
     "data": {
      "text/html": [
       "<div>\n",
       "<style scoped>\n",
       "    .dataframe tbody tr th:only-of-type {\n",
       "        vertical-align: middle;\n",
       "    }\n",
       "\n",
       "    .dataframe tbody tr th {\n",
       "        vertical-align: top;\n",
       "    }\n",
       "\n",
       "    .dataframe thead th {\n",
       "        text-align: right;\n",
       "    }\n",
       "</style>\n",
       "<table border=\"1\" class=\"dataframe\">\n",
       "  <thead>\n",
       "    <tr style=\"text-align: right;\">\n",
       "      <th></th>\n",
       "      <th>Offer Accepted</th>\n",
       "      <th>Reward</th>\n",
       "      <th>Mailer Type</th>\n",
       "      <th>Income Level</th>\n",
       "      <th># Bank Accounts Open</th>\n",
       "      <th>Overdraft Protection</th>\n",
       "      <th>Credit Rating</th>\n",
       "      <th># Credit Cards Held</th>\n",
       "      <th># Homes Owned</th>\n",
       "      <th>Household Size</th>\n",
       "      <th>Own Your Home</th>\n",
       "      <th>Average Balance</th>\n",
       "    </tr>\n",
       "  </thead>\n",
       "  <tbody>\n",
       "    <tr>\n",
       "      <th>0</th>\n",
       "      <td>0</td>\n",
       "      <td>Air Miles</td>\n",
       "      <td>Letter</td>\n",
       "      <td>2</td>\n",
       "      <td>1</td>\n",
       "      <td>0</td>\n",
       "      <td>2</td>\n",
       "      <td>2</td>\n",
       "      <td>1</td>\n",
       "      <td>4</td>\n",
       "      <td>0</td>\n",
       "      <td>1160.75</td>\n",
       "    </tr>\n",
       "    <tr>\n",
       "      <th>1</th>\n",
       "      <td>0</td>\n",
       "      <td>Air Miles</td>\n",
       "      <td>Letter</td>\n",
       "      <td>1</td>\n",
       "      <td>1</td>\n",
       "      <td>0</td>\n",
       "      <td>1</td>\n",
       "      <td>2</td>\n",
       "      <td>2</td>\n",
       "      <td>5</td>\n",
       "      <td>1</td>\n",
       "      <td>147.25</td>\n",
       "    </tr>\n",
       "    <tr>\n",
       "      <th>2</th>\n",
       "      <td>0</td>\n",
       "      <td>Air Miles</td>\n",
       "      <td>Postcard</td>\n",
       "      <td>2</td>\n",
       "      <td>2</td>\n",
       "      <td>0</td>\n",
       "      <td>1</td>\n",
       "      <td>2</td>\n",
       "      <td>1</td>\n",
       "      <td>2</td>\n",
       "      <td>1</td>\n",
       "      <td>276.50</td>\n",
       "    </tr>\n",
       "    <tr>\n",
       "      <th>3</th>\n",
       "      <td>0</td>\n",
       "      <td>Air Miles</td>\n",
       "      <td>Letter</td>\n",
       "      <td>1</td>\n",
       "      <td>2</td>\n",
       "      <td>0</td>\n",
       "      <td>2</td>\n",
       "      <td>1</td>\n",
       "      <td>1</td>\n",
       "      <td>4</td>\n",
       "      <td>0</td>\n",
       "      <td>1219.00</td>\n",
       "    </tr>\n",
       "    <tr>\n",
       "      <th>4</th>\n",
       "      <td>0</td>\n",
       "      <td>Air Miles</td>\n",
       "      <td>Letter</td>\n",
       "      <td>1</td>\n",
       "      <td>1</td>\n",
       "      <td>0</td>\n",
       "      <td>1</td>\n",
       "      <td>2</td>\n",
       "      <td>1</td>\n",
       "      <td>6</td>\n",
       "      <td>1</td>\n",
       "      <td>1211.00</td>\n",
       "    </tr>\n",
       "  </tbody>\n",
       "</table>\n",
       "</div>"
      ],
      "text/plain": [
       "   Offer Accepted     Reward Mailer Type  Income Level  # Bank Accounts Open  \\\n",
       "0               0  Air Miles      Letter             2                     1   \n",
       "1               0  Air Miles      Letter             1                     1   \n",
       "2               0  Air Miles    Postcard             2                     2   \n",
       "3               0  Air Miles      Letter             1                     2   \n",
       "4               0  Air Miles      Letter             1                     1   \n",
       "\n",
       "   Overdraft Protection  Credit Rating  # Credit Cards Held  # Homes Owned  \\\n",
       "0                     0              2                    2              1   \n",
       "1                     0              1                    2              2   \n",
       "2                     0              1                    2              1   \n",
       "3                     0              2                    1              1   \n",
       "4                     0              1                    2              1   \n",
       "\n",
       "   Household Size  Own Your Home  Average Balance  \n",
       "0               4              0          1160.75  \n",
       "1               5              1           147.25  \n",
       "2               2              1           276.50  \n",
       "3               4              0          1219.00  \n",
       "4               6              1          1211.00  "
      ]
     },
     "execution_count": 14,
     "metadata": {},
     "output_type": "execute_result"
    }
   ],
   "source": [
    "print(f\"Unique Income Level values: {', '.join(set(cc['Income Level']))}\")\n",
    "print(f\"Unique Credit Rating values: {', '.join(set(cc['Credit Rating']))}\")\n",
    "lmh = {\"Low\":0, \"Medium\":1, \"High\":2}\n",
    "cc.replace(lmh,inplace=True)\n",
    "cc.head()"
   ]
  },
  {
   "cell_type": "markdown",
   "id": "920cdd67",
   "metadata": {},
   "source": [
    "3c. __Change values of `Reward` and `Mailer Type` to numbers__<br>\n",
    "then __print the first 5 rows of the DataFrame__."
   ]
  },
  {
   "cell_type": "code",
   "execution_count": 15,
   "id": "eb8de44c",
   "metadata": {},
   "outputs": [
    {
     "name": "stdout",
     "output_type": "stream",
     "text": [
      "Unique Reward values: Cash Back, Points, Air Miles\n",
      "Unique Mailer Type values: Postcard, Letter\n"
     ]
    },
    {
     "data": {
      "text/html": [
       "<div>\n",
       "<style scoped>\n",
       "    .dataframe tbody tr th:only-of-type {\n",
       "        vertical-align: middle;\n",
       "    }\n",
       "\n",
       "    .dataframe tbody tr th {\n",
       "        vertical-align: top;\n",
       "    }\n",
       "\n",
       "    .dataframe thead th {\n",
       "        text-align: right;\n",
       "    }\n",
       "</style>\n",
       "<table border=\"1\" class=\"dataframe\">\n",
       "  <thead>\n",
       "    <tr style=\"text-align: right;\">\n",
       "      <th></th>\n",
       "      <th>Offer Accepted</th>\n",
       "      <th>Reward</th>\n",
       "      <th>Mailer Type</th>\n",
       "      <th>Income Level</th>\n",
       "      <th># Bank Accounts Open</th>\n",
       "      <th>Overdraft Protection</th>\n",
       "      <th>Credit Rating</th>\n",
       "      <th># Credit Cards Held</th>\n",
       "      <th># Homes Owned</th>\n",
       "      <th>Household Size</th>\n",
       "      <th>Own Your Home</th>\n",
       "      <th>Average Balance</th>\n",
       "    </tr>\n",
       "  </thead>\n",
       "  <tbody>\n",
       "    <tr>\n",
       "      <th>0</th>\n",
       "      <td>0</td>\n",
       "      <td>2</td>\n",
       "      <td>2</td>\n",
       "      <td>2</td>\n",
       "      <td>1</td>\n",
       "      <td>0</td>\n",
       "      <td>2</td>\n",
       "      <td>2</td>\n",
       "      <td>1</td>\n",
       "      <td>4</td>\n",
       "      <td>0</td>\n",
       "      <td>1160.75</td>\n",
       "    </tr>\n",
       "    <tr>\n",
       "      <th>1</th>\n",
       "      <td>0</td>\n",
       "      <td>2</td>\n",
       "      <td>2</td>\n",
       "      <td>1</td>\n",
       "      <td>1</td>\n",
       "      <td>0</td>\n",
       "      <td>1</td>\n",
       "      <td>2</td>\n",
       "      <td>2</td>\n",
       "      <td>5</td>\n",
       "      <td>1</td>\n",
       "      <td>147.25</td>\n",
       "    </tr>\n",
       "    <tr>\n",
       "      <th>2</th>\n",
       "      <td>0</td>\n",
       "      <td>2</td>\n",
       "      <td>1</td>\n",
       "      <td>2</td>\n",
       "      <td>2</td>\n",
       "      <td>0</td>\n",
       "      <td>1</td>\n",
       "      <td>2</td>\n",
       "      <td>1</td>\n",
       "      <td>2</td>\n",
       "      <td>1</td>\n",
       "      <td>276.50</td>\n",
       "    </tr>\n",
       "    <tr>\n",
       "      <th>3</th>\n",
       "      <td>0</td>\n",
       "      <td>2</td>\n",
       "      <td>2</td>\n",
       "      <td>1</td>\n",
       "      <td>2</td>\n",
       "      <td>0</td>\n",
       "      <td>2</td>\n",
       "      <td>1</td>\n",
       "      <td>1</td>\n",
       "      <td>4</td>\n",
       "      <td>0</td>\n",
       "      <td>1219.00</td>\n",
       "    </tr>\n",
       "    <tr>\n",
       "      <th>4</th>\n",
       "      <td>0</td>\n",
       "      <td>2</td>\n",
       "      <td>2</td>\n",
       "      <td>1</td>\n",
       "      <td>1</td>\n",
       "      <td>0</td>\n",
       "      <td>1</td>\n",
       "      <td>2</td>\n",
       "      <td>1</td>\n",
       "      <td>6</td>\n",
       "      <td>1</td>\n",
       "      <td>1211.00</td>\n",
       "    </tr>\n",
       "  </tbody>\n",
       "</table>\n",
       "</div>"
      ],
      "text/plain": [
       "   Offer Accepted  Reward  Mailer Type  Income Level  # Bank Accounts Open  \\\n",
       "0               0       2            2             2                     1   \n",
       "1               0       2            2             1                     1   \n",
       "2               0       2            1             2                     2   \n",
       "3               0       2            2             1                     2   \n",
       "4               0       2            2             1                     1   \n",
       "\n",
       "   Overdraft Protection  Credit Rating  # Credit Cards Held  # Homes Owned  \\\n",
       "0                     0              2                    2              1   \n",
       "1                     0              1                    2              2   \n",
       "2                     0              1                    2              1   \n",
       "3                     0              2                    1              1   \n",
       "4                     0              1                    2              1   \n",
       "\n",
       "   Household Size  Own Your Home  Average Balance  \n",
       "0               4              0          1160.75  \n",
       "1               5              1           147.25  \n",
       "2               2              1           276.50  \n",
       "3               4              0          1219.00  \n",
       "4               6              1          1211.00  "
      ]
     },
     "execution_count": 15,
     "metadata": {},
     "output_type": "execute_result"
    }
   ],
   "source": [
    "print(f\"Unique Reward values: {', '.join(set(cc['Reward']))}\")\n",
    "print(f\"Unique Mailer Type values: {', '.join(set(cc['Mailer Type']))}\")\n",
    "rewards = {\"Points\":1, \"Air Miles\":2, \"Cash Back\":3}\n",
    "mailertypes = {\"Postcard\":1, \"Letter\":2}\n",
    "cc.replace(rewards,inplace=True)\n",
    "cc.replace(mailertypes,inplace=True)\n",
    "cc.head()"
   ]
  },
  {
   "cell_type": "markdown",
   "id": "516b6989",
   "metadata": {},
   "source": [
    "3d. __Print the data type of each column__ to confirm that each of the values in the DataFrame is a number."
   ]
  },
  {
   "cell_type": "code",
   "execution_count": 16,
   "id": "d7b7eb7e",
   "metadata": {},
   "outputs": [
    {
     "name": "stdout",
     "output_type": "stream",
     "text": [
      "data types:\n",
      " Offer Accepted            int64\n",
      "Reward                    int64\n",
      "Mailer Type               int64\n",
      "Income Level              int64\n",
      "# Bank Accounts Open      int64\n",
      "Overdraft Protection      int64\n",
      "Credit Rating             int64\n",
      "# Credit Cards Held       int64\n",
      "# Homes Owned             int64\n",
      "Household Size            int64\n",
      "Own Your Home             int64\n",
      "Average Balance         float64\n",
      "dtype: object\n"
     ]
    }
   ],
   "source": [
    "print(\"data types:\\n\", cc.dtypes)"
   ]
  },
  {
   "cell_type": "markdown",
   "id": "1994d817",
   "metadata": {},
   "source": [
    "4. Data Analysis\n",
    "\n",
    "4a. Create a plot with 12 subplots to __show the distribution of each feature__ (column).<br>\n",
    "The plot should be 2 rows of 6 subplots each, and each subplot should have a title to specify which distribution is shown.\n",
    "\n",
    "_You should use a loop to create the 12 subplots, don't copy-paste code 12 times_"
   ]
  },
  {
   "cell_type": "code",
   "execution_count": 17,
   "id": "9479a342",
   "metadata": {},
   "outputs": [
    {
     "data": {
      "image/png": "[encoded data removed]",
      "text/plain": [
       "<Figure size 2000x500 with 12 Axes>"
      ]
     },
     "metadata": {},
     "output_type": "display_data"
    }
   ],
   "source": [
    "# print(cc.columns)\n",
    "plt.figure(figsize=(20,5))\n",
    "i = 1\n",
    "for col in cc.columns:\n",
    "    plt.subplot(2, 6, i)\n",
    "    plt.title(col)\n",
    "    plt.hist(cc[col])\n",
    "    plt.plot()\n",
    "    i += 1\n",
    "plt.subplots_adjust(hspace=0.6,wspace=1)\n",
    "# plt.plot()"
   ]
  },
  {
   "cell_type": "markdown",
   "id": "697a5498",
   "metadata": {},
   "source": [
    "4c. Create a Raw NBConvert cell to __explain whether there are outliers or anything unusual__ in any of the features."
   ]
  },
  {
   "cell_type": "raw",
   "id": "cd951f85",
   "metadata": {},
   "source": [
    "In the # Homes Owned plot, it can be seen that the number of people who own 3 or more homes is very little. This seems like a potential outlier. The same goes for the number of people who hold more 4 or more credit cards and the number of people with 3 or more bank accounts open."
   ]
  },
  {
   "cell_type": "markdown",
   "id": "46875b57",
   "metadata": {},
   "source": [
    "5. Create training and testing datasets\n",
    "\n",
    "5a. __Create the X and y datasets__<br>\n",
    "and __show the number of rows and columns of each dataset__."
   ]
  },
  {
   "cell_type": "code",
   "execution_count": 18,
   "id": "55f4b27e",
   "metadata": {},
   "outputs": [
    {
     "data": {
      "text/plain": [
       "0        0\n",
       "1        0\n",
       "2        0\n",
       "3        0\n",
       "4        0\n",
       "        ..\n",
       "17995    0\n",
       "17996    0\n",
       "17997    0\n",
       "17998    0\n",
       "17999    0\n",
       "Name: Offer Accepted, Length: 17976, dtype: int64"
      ]
     },
     "execution_count": 18,
     "metadata": {},
     "output_type": "execute_result"
    }
   ],
   "source": [
    "X = cc.drop(columns=[\"Offer Accepted\"])\n",
    "y = cc[\"Offer Accepted\"]\n",
    "y"
   ]
  },
  {
   "cell_type": "markdown",
   "id": "c2d71e63",
   "metadata": {},
   "source": [
    "5b. __Create the training and testing sets__ and __show their dimensions__."
   ]
  },
  {
   "cell_type": "code",
   "execution_count": 19,
   "id": "fd5f843b",
   "metadata": {},
   "outputs": [
    {
     "name": "stdout",
     "output_type": "stream",
     "text": [
      "X train, X test, y train, y test: (12583, 11) (5393, 11) (12583,) (5393,)\n"
     ]
    }
   ],
   "source": [
    "X_train, X_test, y_train, y_test = train_test_split(X, y, test_size=0.3)\n",
    "print(\"X train, X test, y train, y test:\", X_train.shape, X_test.shape, y_train.shape, y_test.shape)"
   ]
  },
  {
   "cell_type": "markdown",
   "id": "523eaa19",
   "metadata": {},
   "source": [
    "6. Train and measure the accuracy of appropriate ML models. <br>\n",
    "\n",
    "__Create, train, test, and evaluate the accuracy of _all_ the appropriate machine learning models__ that we've discussed in class to predict the customer response.<br>\n",
    "\n",
    "- It's a good idea to create one or more Code cells for _each_ type of machine learning model.<br>\n",
    "(Don't have one huge Code cell that has all the models, it makes debugging more difficult)\n",
    "- For each model, make sure to show all the accuracy measurements that we've discussed in class for the model.<br>\n",
    "_(Hint: there is more than one measurement)_"
   ]
  },
  {
   "cell_type": "code",
   "execution_count": 20,
   "id": "28ca88d4",
   "metadata": {},
   "outputs": [
    {
     "name": "stdout",
     "output_type": "stream",
     "text": [
      "Decision Tree Classifier performance metrics:\n",
      "Accuracy score: 0.8880029668088263\n",
      "F1 score: 0.8949152265802675\n",
      "Confusion Matrix:\n",
      " [[4758  346]\n",
      " [ 258   31]]\n"
     ]
    }
   ],
   "source": [
    "# decision tree classifier\n",
    "# train\n",
    "dtc = DecisionTreeClassifier()\n",
    "dtc = dtc.fit(X_train, y_train)\n",
    "# test\n",
    "y_pred = dtc.predict(X_test)\n",
    "# evaluate (accuracy score, f1 score confusion matrix)\n",
    "print(\"Decision Tree Classifier performance metrics:\")\n",
    "print(\"Accuracy score:\", metrics.accuracy_score(y_test, y_pred))\n",
    "print(\"F1 score:\", f1_score(y_test, y_pred, average='weighted'))\n",
    "print(\"Confusion Matrix:\\n\", metrics.confusion_matrix(y_test, y_pred, labels=[0,1]))"
   ]
  },
  {
   "cell_type": "code",
   "execution_count": 21,
   "id": "a22f87df",
   "metadata": {},
   "outputs": [
    {
     "name": "stdout",
     "output_type": "stream",
     "text": [
      "Random Forest Classifier performance metrics:\n",
      "Accuracy score: 0.9388095679584647\n",
      "F1 score: 0.9180899932720666\n",
      "Confusion Matrix:\n",
      " [[5058   46]\n",
      " [ 284    5]]\n"
     ]
    }
   ],
   "source": [
    "# random forest classifier\n",
    "# train\n",
    "rfc = RandomForestClassifier()\n",
    "rfc = rfc.fit(X_train, y_train)\n",
    "# test\n",
    "y_pred = rfc.predict(X_test)\n",
    "# evaluate (accuracy score, f1 score confusion matrix)\n",
    "print(\"Random Forest Classifier performance metrics:\")\n",
    "print(\"Accuracy score:\", metrics.accuracy_score(y_test, y_pred))\n",
    "print(\"F1 score:\", f1_score(y_test, y_pred, average='weighted'))\n",
    "print(\"Confusion Matrix:\\n\", metrics.confusion_matrix(y_test, y_pred, labels=[0,1]))"
   ]
  },
  {
   "cell_type": "code",
   "execution_count": 22,
   "id": "b4f526c9",
   "metadata": {},
   "outputs": [
    {
     "name": "stdout",
     "output_type": "stream",
     "text": [
      "K-Neighbors Classifier performance metrics:\n",
      "Accuracy score: 0.9441869089560542\n",
      "F1 score: 0.9195912570963991\n",
      "Confusion Matrix:\n",
      " [[5091   13]\n",
      " [ 288    1]]\n"
     ]
    }
   ],
   "source": [
    "# KNeighborsClassifier classifier\n",
    "# train\n",
    "knn = KNeighborsClassifier(n_neighbors=5)\n",
    "knn = knn.fit(X_train, y_train)\n",
    "# test\n",
    "y_pred = knn.predict(X_test)\n",
    "# evaluate (accuracy score, f1 score confusion matrix)\n",
    "print(\"K-Neighbors Classifier performance metrics:\")\n",
    "print(\"Accuracy score:\", metrics.accuracy_score(y_test, y_pred))\n",
    "print(\"F1 score:\", f1_score(y_test, y_pred, average='weighted'))\n",
    "print(\"Confusion Matrix:\\n\", metrics.confusion_matrix(y_test, y_pred, labels=[0,1]))"
   ]
  },
  {
   "cell_type": "code",
   "execution_count": 23,
   "id": "9233d9fd",
   "metadata": {},
   "outputs": [
    {
     "name": "stdout",
     "output_type": "stream",
     "text": [
      "Gausian Naive Bayes Classifier performance metrics:\n",
      "Accuracy score: 0.9464120155757464\n",
      "F1 score: 0.9203557068683642\n",
      "Confusion Matrix:\n",
      " [[5104    0]\n",
      " [ 289    0]]\n"
     ]
    }
   ],
   "source": [
    "# Gausian Naive Bayes classifier\n",
    "# train\n",
    "gnb = GaussianNB()\n",
    "gnb = gnb.fit(X_train, y_train)\n",
    "# test\n",
    "y_pred = gnb.predict(X_test)\n",
    "# evaluate (accuracy score, f1 score confusion matrix)\n",
    "print(\"Gausian Naive Bayes Classifier performance metrics:\")\n",
    "print(\"Accuracy score:\", metrics.accuracy_score(y_test, y_pred))\n",
    "print(\"F1 score:\", f1_score(y_test, y_pred, average='weighted'))\n",
    "print(\"Confusion Matrix:\\n\", metrics.confusion_matrix(y_test, y_pred, labels=[0,1]))"
   ]
  },
  {
   "cell_type": "markdown",
   "id": "6ac25af0",
   "metadata": {},
   "source": [
    "7. Based on the accuracy measurements, what would you recommend to the bank?<br>\n",
    "Create a Raw NBConvert to show your recommendation."
   ]
  },
  {
   "cell_type": "raw",
   "id": "0d92e455",
   "metadata": {},
   "source": [
    "Although the accuracy and F1 scores for all the models are all pretty high (in the high 80s or low 90s range) the confusion matrices indicate that all models perform very poorly when it comes to predicting which customers would accept the credit card offers. This might have to do with the fact that most of the customers in the training data declined their credit offers, so the model seems to be overly trained to predict decline. I would recommend the bank get more balanced data so that the model can identify patterns among the customers who would accept the credit card offer, not just those that would decline."
   ]
  },
  {
   "cell_type": "markdown",
   "id": "5bcfc4dc",
   "metadata": {},
   "source": [
    "---"
   ]
  },
  {
   "cell_type": "markdown",
   "id": "d96a2043",
   "metadata": {},
   "source": [
    "#### Part 2\n",
    "\n",
    "Create and train an ML model to predict the price of a house, given some common features of the house.<br>\n",
    "The input file is `house.csv` ([source](https://www.kaggle.com/datasets/praveenobulreddy/usa-housing-dataset))."
   ]
  },
  {
   "cell_type": "markdown",
   "id": "0124785f",
   "metadata": {},
   "source": [
    "1. Read and inspect data\n",
    "\n",
    "1a. __Read data from `house.csv` into a DataFrame__.<br>\n",
    "Then __print the number of rows and columns of the DataFrame__<br>\n",
    "and __print the first 5 rows__."
   ]
  },
  {
   "cell_type": "code",
   "execution_count": 24,
   "id": "19e4f1c3",
   "metadata": {},
   "outputs": [
    {
     "name": "stdout",
     "output_type": "stream",
     "text": [
      "Number of rows, columns:  (5000, 7)\n"
     ]
    },
    {
     "data": {
      "text/html": [
       "<div>\n",
       "<style scoped>\n",
       "    .dataframe tbody tr th:only-of-type {\n",
       "        vertical-align: middle;\n",
       "    }\n",
       "\n",
       "    .dataframe tbody tr th {\n",
       "        vertical-align: top;\n",
       "    }\n",
       "\n",
       "    .dataframe thead th {\n",
       "        text-align: right;\n",
       "    }\n",
       "</style>\n",
       "<table border=\"1\" class=\"dataframe\">\n",
       "  <thead>\n",
       "    <tr style=\"text-align: right;\">\n",
       "      <th></th>\n",
       "      <th>Avg. Area Income</th>\n",
       "      <th>Avg. Area House Age</th>\n",
       "      <th>Avg. Area Number of Rooms</th>\n",
       "      <th>Avg. Area Number of Bedrooms</th>\n",
       "      <th>Area Population</th>\n",
       "      <th>Price</th>\n",
       "      <th>Address</th>\n",
       "    </tr>\n",
       "  </thead>\n",
       "  <tbody>\n",
       "    <tr>\n",
       "      <th>0</th>\n",
       "      <td>79545.458574</td>\n",
       "      <td>5.682861</td>\n",
       "      <td>7.009188</td>\n",
       "      <td>4.09</td>\n",
       "      <td>23086.800503</td>\n",
       "      <td>1.059034e+06</td>\n",
       "      <td>208 Michael Ferry Apt. 674\\nLaurabury, NE 3701...</td>\n",
       "    </tr>\n",
       "    <tr>\n",
       "      <th>1</th>\n",
       "      <td>79248.642455</td>\n",
       "      <td>6.002900</td>\n",
       "      <td>6.730821</td>\n",
       "      <td>3.09</td>\n",
       "      <td>40173.072174</td>\n",
       "      <td>1.505891e+06</td>\n",
       "      <td>188 Johnson Views Suite 079\\nLake Kathleen, CA...</td>\n",
       "    </tr>\n",
       "    <tr>\n",
       "      <th>2</th>\n",
       "      <td>61287.067179</td>\n",
       "      <td>5.865890</td>\n",
       "      <td>8.512727</td>\n",
       "      <td>5.13</td>\n",
       "      <td>36882.159400</td>\n",
       "      <td>1.058988e+06</td>\n",
       "      <td>9127 Elizabeth Stravenue\\nDanieltown, WI 06482...</td>\n",
       "    </tr>\n",
       "    <tr>\n",
       "      <th>3</th>\n",
       "      <td>63345.240046</td>\n",
       "      <td>7.188236</td>\n",
       "      <td>5.586729</td>\n",
       "      <td>3.26</td>\n",
       "      <td>34310.242831</td>\n",
       "      <td>1.260617e+06</td>\n",
       "      <td>USS Barnett\\nFPO AP 44820</td>\n",
       "    </tr>\n",
       "    <tr>\n",
       "      <th>4</th>\n",
       "      <td>59982.197226</td>\n",
       "      <td>5.040555</td>\n",
       "      <td>7.839388</td>\n",
       "      <td>4.23</td>\n",
       "      <td>26354.109472</td>\n",
       "      <td>6.309435e+05</td>\n",
       "      <td>USNS Raymond\\nFPO AE 09386</td>\n",
       "    </tr>\n",
       "  </tbody>\n",
       "</table>\n",
       "</div>"
      ],
      "text/plain": [
       "   Avg. Area Income  Avg. Area House Age  Avg. Area Number of Rooms  \\\n",
       "0      79545.458574             5.682861                   7.009188   \n",
       "1      79248.642455             6.002900                   6.730821   \n",
       "2      61287.067179             5.865890                   8.512727   \n",
       "3      63345.240046             7.188236                   5.586729   \n",
       "4      59982.197226             5.040555                   7.839388   \n",
       "\n",
       "   Avg. Area Number of Bedrooms  Area Population         Price  \\\n",
       "0                          4.09     23086.800503  1.059034e+06   \n",
       "1                          3.09     40173.072174  1.505891e+06   \n",
       "2                          5.13     36882.159400  1.058988e+06   \n",
       "3                          3.26     34310.242831  1.260617e+06   \n",
       "4                          4.23     26354.109472  6.309435e+05   \n",
       "\n",
       "                                             Address  \n",
       "0  208 Michael Ferry Apt. 674\\nLaurabury, NE 3701...  \n",
       "1  188 Johnson Views Suite 079\\nLake Kathleen, CA...  \n",
       "2  9127 Elizabeth Stravenue\\nDanieltown, WI 06482...  \n",
       "3                          USS Barnett\\nFPO AP 44820  \n",
       "4                         USNS Raymond\\nFPO AE 09386  "
      ]
     },
     "execution_count": 24,
     "metadata": {},
     "output_type": "execute_result"
    }
   ],
   "source": [
    "hp = pd.read_csv(\"house.csv\")\n",
    "print(\"Number of rows, columns: \", hp.shape)\n",
    "hp.head(5)"
   ]
  },
  {
   "cell_type": "markdown",
   "id": "11098d43",
   "metadata": {},
   "source": [
    "1b. __Remove any unnecessary columns__."
   ]
  },
  {
   "cell_type": "code",
   "execution_count": 25,
   "id": "662febbb",
   "metadata": {},
   "outputs": [
    {
     "data": {
      "text/html": [
       "<div>\n",
       "<style scoped>\n",
       "    .dataframe tbody tr th:only-of-type {\n",
       "        vertical-align: middle;\n",
       "    }\n",
       "\n",
       "    .dataframe tbody tr th {\n",
       "        vertical-align: top;\n",
       "    }\n",
       "\n",
       "    .dataframe thead th {\n",
       "        text-align: right;\n",
       "    }\n",
       "</style>\n",
       "<table border=\"1\" class=\"dataframe\">\n",
       "  <thead>\n",
       "    <tr style=\"text-align: right;\">\n",
       "      <th></th>\n",
       "      <th>Avg. Area Income</th>\n",
       "      <th>Avg. Area House Age</th>\n",
       "      <th>Avg. Area Number of Rooms</th>\n",
       "      <th>Avg. Area Number of Bedrooms</th>\n",
       "      <th>Area Population</th>\n",
       "      <th>Price</th>\n",
       "    </tr>\n",
       "  </thead>\n",
       "  <tbody>\n",
       "    <tr>\n",
       "      <th>0</th>\n",
       "      <td>79545.458574</td>\n",
       "      <td>5.682861</td>\n",
       "      <td>7.009188</td>\n",
       "      <td>4.09</td>\n",
       "      <td>23086.800503</td>\n",
       "      <td>1.059034e+06</td>\n",
       "    </tr>\n",
       "    <tr>\n",
       "      <th>1</th>\n",
       "      <td>79248.642455</td>\n",
       "      <td>6.002900</td>\n",
       "      <td>6.730821</td>\n",
       "      <td>3.09</td>\n",
       "      <td>40173.072174</td>\n",
       "      <td>1.505891e+06</td>\n",
       "    </tr>\n",
       "    <tr>\n",
       "      <th>2</th>\n",
       "      <td>61287.067179</td>\n",
       "      <td>5.865890</td>\n",
       "      <td>8.512727</td>\n",
       "      <td>5.13</td>\n",
       "      <td>36882.159400</td>\n",
       "      <td>1.058988e+06</td>\n",
       "    </tr>\n",
       "    <tr>\n",
       "      <th>3</th>\n",
       "      <td>63345.240046</td>\n",
       "      <td>7.188236</td>\n",
       "      <td>5.586729</td>\n",
       "      <td>3.26</td>\n",
       "      <td>34310.242831</td>\n",
       "      <td>1.260617e+06</td>\n",
       "    </tr>\n",
       "    <tr>\n",
       "      <th>4</th>\n",
       "      <td>59982.197226</td>\n",
       "      <td>5.040555</td>\n",
       "      <td>7.839388</td>\n",
       "      <td>4.23</td>\n",
       "      <td>26354.109472</td>\n",
       "      <td>6.309435e+05</td>\n",
       "    </tr>\n",
       "  </tbody>\n",
       "</table>\n",
       "</div>"
      ],
      "text/plain": [
       "   Avg. Area Income  Avg. Area House Age  Avg. Area Number of Rooms  \\\n",
       "0      79545.458574             5.682861                   7.009188   \n",
       "1      79248.642455             6.002900                   6.730821   \n",
       "2      61287.067179             5.865890                   8.512727   \n",
       "3      63345.240046             7.188236                   5.586729   \n",
       "4      59982.197226             5.040555                   7.839388   \n",
       "\n",
       "   Avg. Area Number of Bedrooms  Area Population         Price  \n",
       "0                          4.09     23086.800503  1.059034e+06  \n",
       "1                          3.09     40173.072174  1.505891e+06  \n",
       "2                          5.13     36882.159400  1.058988e+06  \n",
       "3                          3.26     34310.242831  1.260617e+06  \n",
       "4                          4.23     26354.109472  6.309435e+05  "
      ]
     },
     "execution_count": 25,
     "metadata": {},
     "output_type": "execute_result"
    }
   ],
   "source": [
    "hp.drop('Address', axis=1, inplace=True)\n",
    "hp.head()"
   ]
  },
  {
   "cell_type": "raw",
   "id": "8fd87d0c",
   "metadata": {},
   "source": [
    "The address column uniquely identifies each entry, which does not help the model see any patterns in the data. Thus, this is useless and should be dropped."
   ]
  },
  {
   "cell_type": "markdown",
   "id": "4a8f63e0",
   "metadata": {},
   "source": [
    "1c. __Check for NaNs and drop rows with NaNs__."
   ]
  },
  {
   "cell_type": "code",
   "execution_count": 26,
   "id": "2a41f9ab",
   "metadata": {},
   "outputs": [
    {
     "name": "stdout",
     "output_type": "stream",
     "text": [
      "There is no NaN in the data\n"
     ]
    }
   ],
   "source": [
    "if(hp.isna().values.any()):\n",
    "    print ('There are NaNs in the data')\n",
    "    hp.dropna(axis=0, how='any', inplace=True)\n",
    "else:\n",
    "    print ('There is no NaN in the data')"
   ]
  },
  {
   "cell_type": "markdown",
   "id": "56bdea29",
   "metadata": {},
   "source": [
    "2. Data Cleaning\n",
    "\n",
    "__Shorten the column headers to the last word__ only.<br>\n",
    "For example, \"Avg. Area Income\" becomes \"Income\"<br>\n",
    "Then __show the first 5 rows of the DataFrame__."
   ]
  },
  {
   "cell_type": "code",
   "execution_count": 27,
   "id": "73347596",
   "metadata": {},
   "outputs": [
    {
     "data": {
      "text/html": [
       "<div>\n",
       "<style scoped>\n",
       "    .dataframe tbody tr th:only-of-type {\n",
       "        vertical-align: middle;\n",
       "    }\n",
       "\n",
       "    .dataframe tbody tr th {\n",
       "        vertical-align: top;\n",
       "    }\n",
       "\n",
       "    .dataframe thead th {\n",
       "        text-align: right;\n",
       "    }\n",
       "</style>\n",
       "<table border=\"1\" class=\"dataframe\">\n",
       "  <thead>\n",
       "    <tr style=\"text-align: right;\">\n",
       "      <th></th>\n",
       "      <th>Income</th>\n",
       "      <th>Age</th>\n",
       "      <th>Rooms</th>\n",
       "      <th>Bedrooms</th>\n",
       "      <th>Population</th>\n",
       "      <th>Price</th>\n",
       "    </tr>\n",
       "  </thead>\n",
       "  <tbody>\n",
       "    <tr>\n",
       "      <th>0</th>\n",
       "      <td>79545.458574</td>\n",
       "      <td>5.682861</td>\n",
       "      <td>7.009188</td>\n",
       "      <td>4.09</td>\n",
       "      <td>23086.800503</td>\n",
       "      <td>1.059034e+06</td>\n",
       "    </tr>\n",
       "    <tr>\n",
       "      <th>1</th>\n",
       "      <td>79248.642455</td>\n",
       "      <td>6.002900</td>\n",
       "      <td>6.730821</td>\n",
       "      <td>3.09</td>\n",
       "      <td>40173.072174</td>\n",
       "      <td>1.505891e+06</td>\n",
       "    </tr>\n",
       "    <tr>\n",
       "      <th>2</th>\n",
       "      <td>61287.067179</td>\n",
       "      <td>5.865890</td>\n",
       "      <td>8.512727</td>\n",
       "      <td>5.13</td>\n",
       "      <td>36882.159400</td>\n",
       "      <td>1.058988e+06</td>\n",
       "    </tr>\n",
       "    <tr>\n",
       "      <th>3</th>\n",
       "      <td>63345.240046</td>\n",
       "      <td>7.188236</td>\n",
       "      <td>5.586729</td>\n",
       "      <td>3.26</td>\n",
       "      <td>34310.242831</td>\n",
       "      <td>1.260617e+06</td>\n",
       "    </tr>\n",
       "    <tr>\n",
       "      <th>4</th>\n",
       "      <td>59982.197226</td>\n",
       "      <td>5.040555</td>\n",
       "      <td>7.839388</td>\n",
       "      <td>4.23</td>\n",
       "      <td>26354.109472</td>\n",
       "      <td>6.309435e+05</td>\n",
       "    </tr>\n",
       "  </tbody>\n",
       "</table>\n",
       "</div>"
      ],
      "text/plain": [
       "         Income       Age     Rooms  Bedrooms    Population         Price\n",
       "0  79545.458574  5.682861  7.009188      4.09  23086.800503  1.059034e+06\n",
       "1  79248.642455  6.002900  6.730821      3.09  40173.072174  1.505891e+06\n",
       "2  61287.067179  5.865890  8.512727      5.13  36882.159400  1.058988e+06\n",
       "3  63345.240046  7.188236  5.586729      3.26  34310.242831  1.260617e+06\n",
       "4  59982.197226  5.040555  7.839388      4.23  26354.109472  6.309435e+05"
      ]
     },
     "execution_count": 27,
     "metadata": {},
     "output_type": "execute_result"
    }
   ],
   "source": [
    "hp.columns = hp.columns.str.extract('([a-zA-Z]+)$', expand=False)\n",
    "hp.head(5)"
   ]
  },
  {
   "cell_type": "markdown",
   "id": "60268182",
   "metadata": {},
   "source": [
    "3. Data Analysis\n",
    "\n",
    "3a. __Plot the distribution of the Price__ column<br>\n",
    "The plot should have a title."
   ]
  },
  {
   "cell_type": "code",
   "execution_count": 28,
   "id": "34eaa307",
   "metadata": {},
   "outputs": [
    {
     "data": {
      "text/plain": [
       "[]"
      ]
     },
     "execution_count": 28,
     "metadata": {},
     "output_type": "execute_result"
    },
    {
     "data": {
      "image/png": "[encoded data removed]",
      "text/plain": [
       "<Figure size 640x480 with 1 Axes>"
      ]
     },
     "metadata": {},
     "output_type": "display_data"
    }
   ],
   "source": [
    "plt.title(\"Distribution of home prices\")\n",
    "plt.xlabel(\"prices in millions of dollars\",fontsize=12)\n",
    "plt.ylabel(\"frequency\",fontsize=12)\n",
    "plt.hist(hp.Price, bins=25)\n",
    "plt.plot()"
   ]
  },
  {
   "cell_type": "markdown",
   "id": "ba233b8b",
   "metadata": {},
   "source": [
    "3b. Create a Raw NBConvert cell to __explain whether the data is balanced__, based on the plot."
   ]
  },
  {
   "cell_type": "raw",
   "id": "50b4cf34",
   "metadata": {},
   "source": [
    "The price column in the dataset is balanced since the distribution is normal. "
   ]
  },
  {
   "cell_type": "markdown",
   "id": "09a6163d",
   "metadata": {},
   "source": [
    "3c. Create a plot with 5 subplots to __show any correlation between each feature and the price__.<br>\n",
    "The plot should be in 2 rows of 2-3 subplots each, and each subplot should have a title to specify which distribution is shown.\n",
    "\n",
    "_You should use a loop to create the subplots._"
   ]
  },
  {
   "cell_type": "code",
   "execution_count": 29,
   "id": "0c8996c7",
   "metadata": {},
   "outputs": [
    {
     "data": {
      "text/plain": [
       "[]"
      ]
     },
     "execution_count": 29,
     "metadata": {},
     "output_type": "execute_result"
    },
    {
     "data": {
      "image/png": "[encoded data removed]",
      "text/plain": [
       "<Figure size 1200x400 with 5 Axes>"
      ]
     },
     "metadata": {},
     "output_type": "display_data"
    }
   ],
   "source": [
    "fig = plt.figure(figsize=(12,4))\n",
    "for i, col in enumerate(hp.columns):\n",
    "    if(col!='Price'):\n",
    "        plt.subplot(2,3,i+1)\n",
    "        plt.title(col+' vs. '+'Price')\n",
    "        plt.scatter(hp[col],hp.Price)\n",
    "        plt.xlabel(col)\n",
    "        plt.ylabel('Home price')\n",
    "plt.subplots_adjust(hspace=0.6,wspace=0.4)\n",
    "plt.plot()"
   ]
  },
  {
   "cell_type": "markdown",
   "id": "aa521faf",
   "metadata": {},
   "source": [
    "3d. Is there any correlation between the features and the price?<br>\n",
    "Create a Raw NBConvert to __explain any correlation__."
   ]
  },
  {
   "cell_type": "raw",
   "id": "9801899b",
   "metadata": {},
   "source": [
    "The scatter plots show that home price is most strongly correlated to income, out of all the other features. It is also correlated (but a little more weakly) to age, number of rooms, and population. Price does not exhibit a noticeable correlation to number of bedrooms. However, it can be noticed that the range of the prices seems to shift slightly upwards as the number of bedrooms increases; since the ranges are so broad for each bedroom count, no one price value can be predicted given just the number of bedrooms.  "
   ]
  },
  {
   "cell_type": "markdown",
   "id": "36d52ad3",
   "metadata": {},
   "source": [
    "4.Create training and testing datasets\n",
    "\n",
    "4a. __Create the X and y datasets__<br>\n",
    "and __show the number of rows and columns of each dataset__."
   ]
  },
  {
   "cell_type": "code",
   "execution_count": 30,
   "id": "22350c90",
   "metadata": {},
   "outputs": [
    {
     "name": "stdout",
     "output_type": "stream",
     "text": [
      "X and y datasets (rows, columns): (5000, 5) (5000,)\n"
     ]
    }
   ],
   "source": [
    "X = hp[['Income','Age', 'Rooms', 'Bedrooms', 'Population']]\n",
    "y = hp.Price\n",
    "print(\"X and y datasets (rows, columns):\", X.shape, y.shape)"
   ]
  },
  {
   "cell_type": "markdown",
   "id": "e5c00ce0",
   "metadata": {},
   "source": [
    "4b. __Create the training and testing sets__ and __show their dimensions__."
   ]
  },
  {
   "cell_type": "code",
   "execution_count": 31,
   "id": "d8716981",
   "metadata": {},
   "outputs": [
    {
     "name": "stdout",
     "output_type": "stream",
     "text": [
      "X train, test, y train, test: (3500, 5) (3500,) (1500, 5) (1500,)\n"
     ]
    }
   ],
   "source": [
    "X_train, X_test, y_train, y_test = train_test_split(X, y, test_size=0.3)\n",
    "print(\"X train, test, y train, test:\", X_train.shape, y_train.shape, X_test.shape, y_test.shape)"
   ]
  },
  {
   "cell_type": "markdown",
   "id": "1727fa16",
   "metadata": {},
   "source": [
    "5. Train and measure accuracy of appropriate ML models. <br>\n",
    "\n",
    "__Create, train, test, and evaluate the accuracy of _all_ the appropriate machine learning models__ that we've discussed in class to predict the customer response.<br>\n",
    "\n",
    "- It's a good idea to create one or more Code cells for _each_ type of machine learning model.<br>\n",
    "(Don't have one huge Code cell that has all the models, it makes debugging more difficult)\n",
    "- For each model, make sure to show all the accuracy measurements that we've discussed in class for the model.<br>\n",
    "_(Hint: there is more than one measurement)_"
   ]
  },
  {
   "cell_type": "code",
   "execution_count": 32,
   "id": "169dd3db",
   "metadata": {},
   "outputs": [
    {
     "name": "stdout",
     "output_type": "stream",
     "text": [
      "Linear Regression:\n"
     ]
    },
    {
     "data": {
      "text/html": [
       "<div>\n",
       "<style scoped>\n",
       "    .dataframe tbody tr th:only-of-type {\n",
       "        vertical-align: middle;\n",
       "    }\n",
       "\n",
       "    .dataframe tbody tr th {\n",
       "        vertical-align: top;\n",
       "    }\n",
       "\n",
       "    .dataframe thead th {\n",
       "        text-align: right;\n",
       "    }\n",
       "</style>\n",
       "<table border=\"1\" class=\"dataframe\">\n",
       "  <thead>\n",
       "    <tr style=\"text-align: right;\">\n",
       "      <th></th>\n",
       "      <th>Coefficient</th>\n",
       "    </tr>\n",
       "  </thead>\n",
       "  <tbody>\n",
       "    <tr>\n",
       "      <th>Income</th>\n",
       "      <td>21.625803</td>\n",
       "    </tr>\n",
       "    <tr>\n",
       "      <th>Age</th>\n",
       "      <td>166032.076525</td>\n",
       "    </tr>\n",
       "    <tr>\n",
       "      <th>Rooms</th>\n",
       "      <td>121706.598731</td>\n",
       "    </tr>\n",
       "    <tr>\n",
       "      <th>Bedrooms</th>\n",
       "      <td>904.712865</td>\n",
       "    </tr>\n",
       "    <tr>\n",
       "      <th>Population</th>\n",
       "      <td>15.149329</td>\n",
       "    </tr>\n",
       "  </tbody>\n",
       "</table>\n",
       "</div>"
      ],
      "text/plain": [
       "              Coefficient\n",
       "Income          21.625803\n",
       "Age         166032.076525\n",
       "Rooms       121706.598731\n",
       "Bedrooms       904.712865\n",
       "Population      15.149329"
      ]
     },
     "execution_count": 32,
     "metadata": {},
     "output_type": "execute_result"
    }
   ],
   "source": [
    "regr = lm.LinearRegression()\n",
    "regr = regr.fit(X_train, y_train)\n",
    "coeff = pd.DataFrame(regr.coef_, X.columns, columns=['Coefficient'])\n",
    "print(\"Linear Regression:\")\n",
    "coeff"
   ]
  },
  {
   "cell_type": "code",
   "execution_count": 33,
   "id": "88eeb87f",
   "metadata": {},
   "outputs": [
    {
     "name": "stdout",
     "output_type": "stream",
     "text": [
      "Root Mean Squared Error: 102552.81 or 8 percent error\n",
      "R^2 value: 0.92\n"
     ]
    }
   ],
   "source": [
    "y_pred = regr.predict(X_test)\n",
    "df = pd.DataFrame({'Actual': y_test, 'Predicted': y_pred})\n",
    "RMSE = np.sqrt(metrics.mean_squared_error(y_test, y_pred))\n",
    "priceMean = np.mean(y)\n",
    "print('Root Mean Squared Error:',round(RMSE,2),\"or\",round(RMSE/priceMean*100),\"percent error\")\n",
    "print('R^2 value:', round(regr.score(X,y),2))"
   ]
  },
  {
   "cell_type": "code",
   "execution_count": 34,
   "id": "92de37b1",
   "metadata": {},
   "outputs": [],
   "source": [
    "regr = DecisionTreeRegressor()\n",
    "regr = regr.fit(X_train, y_train)\n",
    "# from sklearn import tree\n",
    "# matplotlib.rcParams['figure.figsize'] = (10, 8)\n",
    "# tree.plot_tree(regr, fontsize=10)\n",
    "# plt.show()"
   ]
  },
  {
   "cell_type": "code",
   "execution_count": 35,
   "id": "266f045f",
   "metadata": {},
   "outputs": [
    {
     "name": "stdout",
     "output_type": "stream",
     "text": [
      "(1500, 2)\n"
     ]
    },
    {
     "data": {
      "text/html": [
       "<div>\n",
       "<style scoped>\n",
       "    .dataframe tbody tr th:only-of-type {\n",
       "        vertical-align: middle;\n",
       "    }\n",
       "\n",
       "    .dataframe tbody tr th {\n",
       "        vertical-align: top;\n",
       "    }\n",
       "\n",
       "    .dataframe thead th {\n",
       "        text-align: right;\n",
       "    }\n",
       "</style>\n",
       "<table border=\"1\" class=\"dataframe\">\n",
       "  <thead>\n",
       "    <tr style=\"text-align: right;\">\n",
       "      <th></th>\n",
       "      <th>Actual</th>\n",
       "      <th>Predicted</th>\n",
       "    </tr>\n",
       "  </thead>\n",
       "  <tbody>\n",
       "    <tr>\n",
       "      <th>3892</th>\n",
       "      <td>1.033626e+06</td>\n",
       "      <td>8.723122e+05</td>\n",
       "    </tr>\n",
       "    <tr>\n",
       "      <th>3904</th>\n",
       "      <td>6.944721e+05</td>\n",
       "      <td>7.172732e+05</td>\n",
       "    </tr>\n",
       "    <tr>\n",
       "      <th>4671</th>\n",
       "      <td>8.658167e+05</td>\n",
       "      <td>1.017105e+06</td>\n",
       "    </tr>\n",
       "    <tr>\n",
       "      <th>2083</th>\n",
       "      <td>1.080171e+06</td>\n",
       "      <td>1.170574e+06</td>\n",
       "    </tr>\n",
       "    <tr>\n",
       "      <th>1969</th>\n",
       "      <td>1.387988e+06</td>\n",
       "      <td>1.228880e+06</td>\n",
       "    </tr>\n",
       "    <tr>\n",
       "      <th>...</th>\n",
       "      <td>...</td>\n",
       "      <td>...</td>\n",
       "    </tr>\n",
       "    <tr>\n",
       "      <th>4716</th>\n",
       "      <td>1.267987e+06</td>\n",
       "      <td>5.094996e+05</td>\n",
       "    </tr>\n",
       "    <tr>\n",
       "      <th>4212</th>\n",
       "      <td>1.151129e+06</td>\n",
       "      <td>1.275497e+06</td>\n",
       "    </tr>\n",
       "    <tr>\n",
       "      <th>4526</th>\n",
       "      <td>1.074647e+06</td>\n",
       "      <td>1.533816e+06</td>\n",
       "    </tr>\n",
       "    <tr>\n",
       "      <th>4656</th>\n",
       "      <td>1.592176e+06</td>\n",
       "      <td>1.560870e+06</td>\n",
       "    </tr>\n",
       "    <tr>\n",
       "      <th>603</th>\n",
       "      <td>1.471800e+06</td>\n",
       "      <td>1.532534e+06</td>\n",
       "    </tr>\n",
       "  </tbody>\n",
       "</table>\n",
       "<p>1500 rows × 2 columns</p>\n",
       "</div>"
      ],
      "text/plain": [
       "            Actual     Predicted\n",
       "3892  1.033626e+06  8.723122e+05\n",
       "3904  6.944721e+05  7.172732e+05\n",
       "4671  8.658167e+05  1.017105e+06\n",
       "2083  1.080171e+06  1.170574e+06\n",
       "1969  1.387988e+06  1.228880e+06\n",
       "...            ...           ...\n",
       "4716  1.267987e+06  5.094996e+05\n",
       "4212  1.151129e+06  1.275497e+06\n",
       "4526  1.074647e+06  1.533816e+06\n",
       "4656  1.592176e+06  1.560870e+06\n",
       "603   1.471800e+06  1.532534e+06\n",
       "\n",
       "[1500 rows x 2 columns]"
      ]
     },
     "execution_count": 35,
     "metadata": {},
     "output_type": "execute_result"
    }
   ],
   "source": [
    "y_pred = regr.predict(X_test)\n",
    "df = pd.DataFrame({'Actual': y_test, 'Predicted': y_pred})\n",
    "print(df.shape)\n",
    "df"
   ]
  },
  {
   "cell_type": "code",
   "execution_count": 36,
   "id": "9f13e17d",
   "metadata": {},
   "outputs": [
    {
     "data": {
      "text/html": [
       "<div>\n",
       "<style scoped>\n",
       "    .dataframe tbody tr th:only-of-type {\n",
       "        vertical-align: middle;\n",
       "    }\n",
       "\n",
       "    .dataframe tbody tr th {\n",
       "        vertical-align: top;\n",
       "    }\n",
       "\n",
       "    .dataframe thead th {\n",
       "        text-align: right;\n",
       "    }\n",
       "</style>\n",
       "<table border=\"1\" class=\"dataframe\">\n",
       "  <thead>\n",
       "    <tr style=\"text-align: right;\">\n",
       "      <th></th>\n",
       "      <th>Importance</th>\n",
       "    </tr>\n",
       "  </thead>\n",
       "  <tbody>\n",
       "    <tr>\n",
       "      <th>Income</th>\n",
       "      <td>0.435444</td>\n",
       "    </tr>\n",
       "    <tr>\n",
       "      <th>Age</th>\n",
       "      <td>0.234135</td>\n",
       "    </tr>\n",
       "    <tr>\n",
       "      <th>Rooms</th>\n",
       "      <td>0.131341</td>\n",
       "    </tr>\n",
       "    <tr>\n",
       "      <th>Bedrooms</th>\n",
       "      <td>0.016496</td>\n",
       "    </tr>\n",
       "    <tr>\n",
       "      <th>Population</th>\n",
       "      <td>0.182584</td>\n",
       "    </tr>\n",
       "  </tbody>\n",
       "</table>\n",
       "</div>"
      ],
      "text/plain": [
       "            Importance\n",
       "Income        0.435444\n",
       "Age           0.234135\n",
       "Rooms         0.131341\n",
       "Bedrooms      0.016496\n",
       "Population    0.182584"
      ]
     },
     "execution_count": 36,
     "metadata": {},
     "output_type": "execute_result"
    }
   ],
   "source": [
    "features = pd.DataFrame(regr.feature_importances_, X.columns, columns=['Importance'])\n",
    "features"
   ]
  },
  {
   "cell_type": "markdown",
   "id": "b6417ddb",
   "metadata": {},
   "source": [
    "6. For the models that you used, do they have the same list of important features?\n",
    "Create a Raw NBConvert cell to __compare the lists of important features__."
   ]
  },
  {
   "cell_type": "raw",
   "id": "331e33b1",
   "metadata": {},
   "source": [
    "The Multiple Linear Regression indicates age and rooms as the most important features. In contrast, the Decision Tree Regressor indicates income and Age as the most important features."
   ]
  }
 ],
 "metadata": {
  "kernelspec": {
   "display_name": "Python 3 (ipykernel)",
   "language": "python",
   "name": "python3"
  },
  "language_info": {
   "codemirror_mode": {
    "name": "ipython",
    "version": 3
   },
   "file_extension": ".py",
   "mimetype": "text/x-python",
   "name": "python",
   "nbconvert_exporter": "python",
   "pygments_lexer": "ipython3",
   "version": "3.10.9"
  }
 },
 "nbformat": 4,
 "nbformat_minor": 5
}
