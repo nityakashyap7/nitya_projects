{
 "cells": [
  {
   "cell_type": "markdown",
   "id": "11548204",
   "metadata": {},
   "source": [
    "### CIS 9 - Lab 3a\n",
    "\n",
    "Supervised Learning: Regression and Classification"
   ]
  },
  {
   "cell_type": "code",
   "execution_count": 330,
   "id": "1fcaf98e",
   "metadata": {},
   "outputs": [],
   "source": [
    "# Name: "
   ]
  },
  {
   "cell_type": "markdown",
   "id": "1ffce929",
   "metadata": {},
   "source": [
    "There are 2 parts to this lab, each part works with a different input file and solves a different type of ML problem. "
   ]
  },
  {
   "cell_type": "code",
   "execution_count": 331,
   "id": "18b42eee",
   "metadata": {},
   "outputs": [],
   "source": [
    "# import modules\n",
    "import pandas as pd\n",
    "import numpy as np\n",
    "import matplotlib.pyplot as plt\n",
    "from sklearn.model_selection import train_test_split\n",
    "from sklearn import metrics\n",
    "from sklearn.metrics import f1_score\n",
    "from sklearn.neighbors import KNeighborsClassifier\n",
    "from sklearn.naive_bayes import GaussianNB\n",
    "from sklearn.ensemble import RandomForestClassifier\n",
    "from sklearn.tree import DecisionTreeClassifier"
   ]
  },
  {
   "cell_type": "markdown",
   "id": "104d0e8f",
   "metadata": {},
   "source": [
    "#### Part 1\n",
    "\n",
    "You're asked by a bank to create and train an ML model to predict whether a customer will accept an offer for a new credit card from the bank.\n",
    "\n",
    "One of the primary ways that a bank makes money is through interest from credit card accounts, so the bank would like to know which customers would be more likely to accept a credit card offer, given their banking status.\n",
    "\n",
    "The input fle is `cc.csv` ([source](https://www.kaggle.com/datasets/thedevastator/unlocking-credit-card-offer-acceptance-trends-in?select=creditcardmarketing-bbm.csv))"
   ]
  },
  {
   "cell_type": "markdown",
   "id": "f071db26",
   "metadata": {},
   "source": [
    "1. Read and inspect data\n",
    "\n",
    "1a. __Read data from `cc.csv` into a DataFrame__.<br>\n",
    "Then __print the number of rows and columns of the DataFrame__<br>\n",
    "and __print the first 5 rows__.<br>"
   ]
  },
  {
   "cell_type": "code",
   "execution_count": 332,
   "id": "c684792e",
   "metadata": {},
   "outputs": [
    {
     "name": "stdout",
     "output_type": "stream",
     "text": [
      "rows, columns: (18000, 18)\n",
      "first 5 rows:\n"
     ]
    },
    {
     "data": {
      "text/html": [
       "<div>\n",
       "<style scoped>\n",
       "    .dataframe tbody tr th:only-of-type {\n",
       "        vertical-align: middle;\n",
       "    }\n",
       "\n",
       "    .dataframe tbody tr th {\n",
       "        vertical-align: top;\n",
       "    }\n",
       "\n",
       "    .dataframe thead th {\n",
       "        text-align: right;\n",
       "    }\n",
       "</style>\n",
       "<table border=\"1\" class=\"dataframe\">\n",
       "  <thead>\n",
       "    <tr style=\"text-align: right;\">\n",
       "      <th></th>\n",
       "      <th>index</th>\n",
       "      <th>Customer Number</th>\n",
       "      <th>Offer Accepted</th>\n",
       "      <th>Reward</th>\n",
       "      <th>Mailer Type</th>\n",
       "      <th>Income Level</th>\n",
       "      <th># Bank Accounts Open</th>\n",
       "      <th>Overdraft Protection</th>\n",
       "      <th>Credit Rating</th>\n",
       "      <th># Credit Cards Held</th>\n",
       "      <th># Homes Owned</th>\n",
       "      <th>Household Size</th>\n",
       "      <th>Own Your Home</th>\n",
       "      <th>Average Balance</th>\n",
       "      <th>Q1 Balance</th>\n",
       "      <th>Q2 Balance</th>\n",
       "      <th>Q3 Balance</th>\n",
       "      <th>Q4 Balance</th>\n",
       "    </tr>\n",
       "  </thead>\n",
       "  <tbody>\n",
       "    <tr>\n",
       "      <th>0</th>\n",
       "      <td>0</td>\n",
       "      <td>1</td>\n",
       "      <td>No</td>\n",
       "      <td>Air Miles</td>\n",
       "      <td>Letter</td>\n",
       "      <td>High</td>\n",
       "      <td>1</td>\n",
       "      <td>No</td>\n",
       "      <td>High</td>\n",
       "      <td>2</td>\n",
       "      <td>1</td>\n",
       "      <td>4</td>\n",
       "      <td>No</td>\n",
       "      <td>1160.75</td>\n",
       "      <td>1669.0</td>\n",
       "      <td>877.0</td>\n",
       "      <td>1095.0</td>\n",
       "      <td>1002.0</td>\n",
       "    </tr>\n",
       "    <tr>\n",
       "      <th>1</th>\n",
       "      <td>1</td>\n",
       "      <td>2</td>\n",
       "      <td>No</td>\n",
       "      <td>Air Miles</td>\n",
       "      <td>Letter</td>\n",
       "      <td>Medium</td>\n",
       "      <td>1</td>\n",
       "      <td>No</td>\n",
       "      <td>Medium</td>\n",
       "      <td>2</td>\n",
       "      <td>2</td>\n",
       "      <td>5</td>\n",
       "      <td>Yes</td>\n",
       "      <td>147.25</td>\n",
       "      <td>39.0</td>\n",
       "      <td>106.0</td>\n",
       "      <td>78.0</td>\n",
       "      <td>366.0</td>\n",
       "    </tr>\n",
       "    <tr>\n",
       "      <th>2</th>\n",
       "      <td>2</td>\n",
       "      <td>3</td>\n",
       "      <td>No</td>\n",
       "      <td>Air Miles</td>\n",
       "      <td>Postcard</td>\n",
       "      <td>High</td>\n",
       "      <td>2</td>\n",
       "      <td>No</td>\n",
       "      <td>Medium</td>\n",
       "      <td>2</td>\n",
       "      <td>1</td>\n",
       "      <td>2</td>\n",
       "      <td>Yes</td>\n",
       "      <td>276.50</td>\n",
       "      <td>367.0</td>\n",
       "      <td>352.0</td>\n",
       "      <td>145.0</td>\n",
       "      <td>242.0</td>\n",
       "    </tr>\n",
       "    <tr>\n",
       "      <th>3</th>\n",
       "      <td>3</td>\n",
       "      <td>4</td>\n",
       "      <td>No</td>\n",
       "      <td>Air Miles</td>\n",
       "      <td>Letter</td>\n",
       "      <td>Medium</td>\n",
       "      <td>2</td>\n",
       "      <td>No</td>\n",
       "      <td>High</td>\n",
       "      <td>1</td>\n",
       "      <td>1</td>\n",
       "      <td>4</td>\n",
       "      <td>No</td>\n",
       "      <td>1219.00</td>\n",
       "      <td>1578.0</td>\n",
       "      <td>1760.0</td>\n",
       "      <td>1119.0</td>\n",
       "      <td>419.0</td>\n",
       "    </tr>\n",
       "    <tr>\n",
       "      <th>4</th>\n",
       "      <td>4</td>\n",
       "      <td>5</td>\n",
       "      <td>No</td>\n",
       "      <td>Air Miles</td>\n",
       "      <td>Letter</td>\n",
       "      <td>Medium</td>\n",
       "      <td>1</td>\n",
       "      <td>No</td>\n",
       "      <td>Medium</td>\n",
       "      <td>2</td>\n",
       "      <td>1</td>\n",
       "      <td>6</td>\n",
       "      <td>Yes</td>\n",
       "      <td>1211.00</td>\n",
       "      <td>2140.0</td>\n",
       "      <td>1357.0</td>\n",
       "      <td>982.0</td>\n",
       "      <td>365.0</td>\n",
       "    </tr>\n",
       "  </tbody>\n",
       "</table>\n",
       "</div>"
      ],
      "text/plain": [
       "   index  Customer Number Offer Accepted     Reward Mailer Type Income Level  \\\n",
       "0      0                1             No  Air Miles      Letter         High   \n",
       "1      1                2             No  Air Miles      Letter       Medium   \n",
       "2      2                3             No  Air Miles    Postcard         High   \n",
       "3      3                4             No  Air Miles      Letter       Medium   \n",
       "4      4                5             No  Air Miles      Letter       Medium   \n",
       "\n",
       "   # Bank Accounts Open Overdraft Protection Credit Rating  \\\n",
       "0                     1                   No          High   \n",
       "1                     1                   No        Medium   \n",
       "2                     2                   No        Medium   \n",
       "3                     2                   No          High   \n",
       "4                     1                   No        Medium   \n",
       "\n",
       "   # Credit Cards Held  # Homes Owned  Household Size Own Your Home  \\\n",
       "0                    2              1               4            No   \n",
       "1                    2              2               5           Yes   \n",
       "2                    2              1               2           Yes   \n",
       "3                    1              1               4            No   \n",
       "4                    2              1               6           Yes   \n",
       "\n",
       "   Average Balance  Q1 Balance  Q2 Balance  Q3 Balance  Q4 Balance  \n",
       "0          1160.75      1669.0       877.0      1095.0      1002.0  \n",
       "1           147.25        39.0       106.0        78.0       366.0  \n",
       "2           276.50       367.0       352.0       145.0       242.0  \n",
       "3          1219.00      1578.0      1760.0      1119.0       419.0  \n",
       "4          1211.00      2140.0      1357.0       982.0       365.0  "
      ]
     },
     "execution_count": 332,
     "metadata": {},
     "output_type": "execute_result"
    }
   ],
   "source": [
    "cc = pd.read_csv(\"cc.csv\")\n",
    "print(\"rows, columns:\", cc.shape)\n",
    "print(\"first 5 rows:\")\n",
    "cc.head()"
   ]
  },
  {
   "cell_type": "markdown",
   "id": "51d45aa4",
   "metadata": {},
   "source": [
    "1b. The `Offer Accepted` value of 'Yes' is of interest to the bank.<br> \n",
    "__Show the number of 'Yes' and 'No' in the `Offer Accepted` column__."
   ]
  },
  {
   "cell_type": "code",
   "execution_count": 333,
   "id": "409ff839",
   "metadata": {},
   "outputs": [
    {
     "name": "stdout",
     "output_type": "stream",
     "text": [
      "No     16977\n",
      "Yes     1023\n",
      "Name: Offer Accepted, dtype: int64\n"
     ]
    }
   ],
   "source": [
    "print(cc[\"Offer Accepted\"].value_counts())"
   ]
  },
  {
   "cell_type": "markdown",
   "id": "db9a5c50",
   "metadata": {},
   "source": [
    "2. Data Cleaning\n",
    "\n",
    "2a. __Show the number of NaNs__ in each column, and __drop any rows with NaN__.<br>\n",
    "Then __print the number of rows and columns of the DataFrame__ to confirm that there are still a majority of data available."
   ]
  },
  {
   "cell_type": "code",
   "execution_count": 334,
   "id": "bc0cdaf5",
   "metadata": {},
   "outputs": [
    {
     "name": "stdout",
     "output_type": "stream",
     "text": [
      "check for NaNs:\n",
      "index                    0\n",
      "Customer Number          0\n",
      "Offer Accepted           0\n",
      "Reward                   0\n",
      "Mailer Type              0\n",
      "Income Level             0\n",
      "# Bank Accounts Open     0\n",
      "Overdraft Protection     0\n",
      "Credit Rating            0\n",
      "# Credit Cards Held      0\n",
      "# Homes Owned            0\n",
      "Household Size           0\n",
      "Own Your Home            0\n",
      "Average Balance         24\n",
      "Q1 Balance              24\n",
      "Q2 Balance              24\n",
      "Q3 Balance              24\n",
      "Q4 Balance              24\n",
      "dtype: int64\n",
      "\n",
      "cleaned data rows, columns: (17976, 18)\n"
     ]
    }
   ],
   "source": [
    "print(\"check for NaNs:\")\n",
    "print(cc.isna().sum())\n",
    "cc = cc.dropna()\n",
    "print(\"\\ncleaned data rows, columns:\", cc.shape)"
   ]
  },
  {
   "cell_type": "markdown",
   "id": "10ecca11",
   "metadata": {},
   "source": [
    "2b. It looks like the `Average Balance` column is the average of the `Q1, Q2, Q3, Q4 Balances`.<br>\n",
    "Write code to __confirm that the `Average Balance` is the same as the average of the last 4 balance columns__.\n",
    "\n",
    "_You should not have to use a loop to check. Instead, think of how pandas (numpy) checks for the count of boolean results_."
   ]
  },
  {
   "cell_type": "code",
   "execution_count": 335,
   "id": "0fa36d69",
   "metadata": {},
   "outputs": [
    {
     "name": "stdout",
     "output_type": "stream",
     "text": [
      "17976 of the 17976 rows have an Average Balance value that's the same as the average of the last 4 balance columns.\n"
     ]
    }
   ],
   "source": [
    "checkAvg = cc[\"Average Balance\"]*4-cc[\"Q1 Balance\"]-cc[\"Q2 Balance\"]-cc[\"Q3 Balance\"]-cc[\"Q4 Balance\"]\n",
    "print(np.sum(checkAvg==0), \"of the\", cc.shape[0], \"rows have an Average Balance value that's the same as the average of the last 4 balance columns.\")\n",
    "# checkAvg[checkAvg==0].value_counts()"
   ]
  },
  {
   "cell_type": "markdown",
   "id": "e65ac248",
   "metadata": {},
   "source": [
    "2c. Since the `Average Balance` is representative of the 4 quarter balances, __remove the `Q1, Q2, Q3, Q4 Balances`__.<br>\n",
    "Also __remove any additional columns that will not be helpful to the ML model__.<br>\n",
    "Then __print the first 5 rows of the DataFrame__."
   ]
  },
  {
   "cell_type": "code",
   "execution_count": 336,
   "id": "7933b34c",
   "metadata": {},
   "outputs": [
    {
     "data": {
      "text/html": [
       "<div>\n",
       "<style scoped>\n",
       "    .dataframe tbody tr th:only-of-type {\n",
       "        vertical-align: middle;\n",
       "    }\n",
       "\n",
       "    .dataframe tbody tr th {\n",
       "        vertical-align: top;\n",
       "    }\n",
       "\n",
       "    .dataframe thead th {\n",
       "        text-align: right;\n",
       "    }\n",
       "</style>\n",
       "<table border=\"1\" class=\"dataframe\">\n",
       "  <thead>\n",
       "    <tr style=\"text-align: right;\">\n",
       "      <th></th>\n",
       "      <th>Offer Accepted</th>\n",
       "      <th>Reward</th>\n",
       "      <th>Mailer Type</th>\n",
       "      <th>Income Level</th>\n",
       "      <th># Bank Accounts Open</th>\n",
       "      <th>Overdraft Protection</th>\n",
       "      <th>Credit Rating</th>\n",
       "      <th># Credit Cards Held</th>\n",
       "      <th># Homes Owned</th>\n",
       "      <th>Household Size</th>\n",
       "      <th>Own Your Home</th>\n",
       "      <th>Average Balance</th>\n",
       "    </tr>\n",
       "  </thead>\n",
       "  <tbody>\n",
       "    <tr>\n",
       "      <th>0</th>\n",
       "      <td>No</td>\n",
       "      <td>Air Miles</td>\n",
       "      <td>Letter</td>\n",
       "      <td>High</td>\n",
       "      <td>1</td>\n",
       "      <td>No</td>\n",
       "      <td>High</td>\n",
       "      <td>2</td>\n",
       "      <td>1</td>\n",
       "      <td>4</td>\n",
       "      <td>No</td>\n",
       "      <td>1160.75</td>\n",
       "    </tr>\n",
       "    <tr>\n",
       "      <th>1</th>\n",
       "      <td>No</td>\n",
       "      <td>Air Miles</td>\n",
       "      <td>Letter</td>\n",
       "      <td>Medium</td>\n",
       "      <td>1</td>\n",
       "      <td>No</td>\n",
       "      <td>Medium</td>\n",
       "      <td>2</td>\n",
       "      <td>2</td>\n",
       "      <td>5</td>\n",
       "      <td>Yes</td>\n",
       "      <td>147.25</td>\n",
       "    </tr>\n",
       "    <tr>\n",
       "      <th>2</th>\n",
       "      <td>No</td>\n",
       "      <td>Air Miles</td>\n",
       "      <td>Postcard</td>\n",
       "      <td>High</td>\n",
       "      <td>2</td>\n",
       "      <td>No</td>\n",
       "      <td>Medium</td>\n",
       "      <td>2</td>\n",
       "      <td>1</td>\n",
       "      <td>2</td>\n",
       "      <td>Yes</td>\n",
       "      <td>276.50</td>\n",
       "    </tr>\n",
       "    <tr>\n",
       "      <th>3</th>\n",
       "      <td>No</td>\n",
       "      <td>Air Miles</td>\n",
       "      <td>Letter</td>\n",
       "      <td>Medium</td>\n",
       "      <td>2</td>\n",
       "      <td>No</td>\n",
       "      <td>High</td>\n",
       "      <td>1</td>\n",
       "      <td>1</td>\n",
       "      <td>4</td>\n",
       "      <td>No</td>\n",
       "      <td>1219.00</td>\n",
       "    </tr>\n",
       "    <tr>\n",
       "      <th>4</th>\n",
       "      <td>No</td>\n",
       "      <td>Air Miles</td>\n",
       "      <td>Letter</td>\n",
       "      <td>Medium</td>\n",
       "      <td>1</td>\n",
       "      <td>No</td>\n",
       "      <td>Medium</td>\n",
       "      <td>2</td>\n",
       "      <td>1</td>\n",
       "      <td>6</td>\n",
       "      <td>Yes</td>\n",
       "      <td>1211.00</td>\n",
       "    </tr>\n",
       "  </tbody>\n",
       "</table>\n",
       "</div>"
      ],
      "text/plain": [
       "  Offer Accepted     Reward Mailer Type Income Level  # Bank Accounts Open  \\\n",
       "0             No  Air Miles      Letter         High                     1   \n",
       "1             No  Air Miles      Letter       Medium                     1   \n",
       "2             No  Air Miles    Postcard         High                     2   \n",
       "3             No  Air Miles      Letter       Medium                     2   \n",
       "4             No  Air Miles      Letter       Medium                     1   \n",
       "\n",
       "  Overdraft Protection Credit Rating  # Credit Cards Held  # Homes Owned  \\\n",
       "0                   No          High                    2              1   \n",
       "1                   No        Medium                    2              2   \n",
       "2                   No        Medium                    2              1   \n",
       "3                   No          High                    1              1   \n",
       "4                   No        Medium                    2              1   \n",
       "\n",
       "   Household Size Own Your Home  Average Balance  \n",
       "0               4            No          1160.75  \n",
       "1               5           Yes           147.25  \n",
       "2               2           Yes           276.50  \n",
       "3               4            No          1219.00  \n",
       "4               6           Yes          1211.00  "
      ]
     },
     "execution_count": 336,
     "metadata": {},
     "output_type": "execute_result"
    }
   ],
   "source": [
    "cc.dtypes\n",
    "cc[\"Q1 Balance\"]\n",
    "cc.drop(columns=[\"Q1 Balance\", \"Q2 Balance\", \"Q3 Balance\", \"Q4 Balance\", \"Customer Number\", \"index\"], inplace=True)\n",
    "cc.head()"
   ]
  },
  {
   "cell_type": "markdown",
   "id": "0cb84920",
   "metadata": {},
   "source": [
    "2d. Create a Raw NBConvert cell to __explain why you removed the additional columns__ of step 2c."
   ]
  },
  {
   "cell_type": "raw",
   "id": "ebd3e8c0",
   "metadata": {},
   "source": [
    "Customer Number and index are both unique identifiers of each row, which does not pertain to the model's predictions."
   ]
  },
  {
   "cell_type": "markdown",
   "id": "2d1690a0",
   "metadata": {},
   "source": [
    "3. Data Preparation\n",
    "\n",
    "3a. __Change all the \"Yes\" strings to the number 1, and all the \"No\" strings to the number 0__ in the DataFrame."
   ]
  },
  {
   "cell_type": "code",
   "execution_count": 337,
   "id": "dd4716d1",
   "metadata": {},
   "outputs": [],
   "source": [
    "yn = {\"Yes\":1, \"No\":0}\n",
    "cc.replace(yn,inplace=True)\n",
    "# cc.dtypes"
   ]
  },
  {
   "cell_type": "markdown",
   "id": "1731a97d",
   "metadata": {},
   "source": [
    "3b. __Print all the unique values of `Income Level` and of `Credit Rating`__ to confirm that both columns use the 3 values: Low, Medium, High.<br>\n",
    "Then __change \"Low\" to 0, \"Medium\" to 1, and \"High\" to 2__ in the DataFrame<br>\n",
    "and __print the first 5 rows__ to check your result."
   ]
  },
  {
   "cell_type": "code",
   "execution_count": 338,
   "id": "68c74547",
   "metadata": {},
   "outputs": [
    {
     "name": "stdout",
     "output_type": "stream",
     "text": [
      "Unique Income Level values: High, Medium, Low\n",
      "Unique Credit Rating values: High, Medium, Low\n"
     ]
    },
    {
     "data": {
      "text/html": [
       "<div>\n",
       "<style scoped>\n",
       "    .dataframe tbody tr th:only-of-type {\n",
       "        vertical-align: middle;\n",
       "    }\n",
       "\n",
       "    .dataframe tbody tr th {\n",
       "        vertical-align: top;\n",
       "    }\n",
       "\n",
       "    .dataframe thead th {\n",
       "        text-align: right;\n",
       "    }\n",
       "</style>\n",
       "<table border=\"1\" class=\"dataframe\">\n",
       "  <thead>\n",
       "    <tr style=\"text-align: right;\">\n",
       "      <th></th>\n",
       "      <th>Offer Accepted</th>\n",
       "      <th>Reward</th>\n",
       "      <th>Mailer Type</th>\n",
       "      <th>Income Level</th>\n",
       "      <th># Bank Accounts Open</th>\n",
       "      <th>Overdraft Protection</th>\n",
       "      <th>Credit Rating</th>\n",
       "      <th># Credit Cards Held</th>\n",
       "      <th># Homes Owned</th>\n",
       "      <th>Household Size</th>\n",
       "      <th>Own Your Home</th>\n",
       "      <th>Average Balance</th>\n",
       "    </tr>\n",
       "  </thead>\n",
       "  <tbody>\n",
       "    <tr>\n",
       "      <th>0</th>\n",
       "      <td>0</td>\n",
       "      <td>Air Miles</td>\n",
       "      <td>Letter</td>\n",
       "      <td>2</td>\n",
       "      <td>1</td>\n",
       "      <td>0</td>\n",
       "      <td>2</td>\n",
       "      <td>2</td>\n",
       "      <td>1</td>\n",
       "      <td>4</td>\n",
       "      <td>0</td>\n",
       "      <td>1160.75</td>\n",
       "    </tr>\n",
       "    <tr>\n",
       "      <th>1</th>\n",
       "      <td>0</td>\n",
       "      <td>Air Miles</td>\n",
       "      <td>Letter</td>\n",
       "      <td>1</td>\n",
       "      <td>1</td>\n",
       "      <td>0</td>\n",
       "      <td>1</td>\n",
       "      <td>2</td>\n",
       "      <td>2</td>\n",
       "      <td>5</td>\n",
       "      <td>1</td>\n",
       "      <td>147.25</td>\n",
       "    </tr>\n",
       "    <tr>\n",
       "      <th>2</th>\n",
       "      <td>0</td>\n",
       "      <td>Air Miles</td>\n",
       "      <td>Postcard</td>\n",
       "      <td>2</td>\n",
       "      <td>2</td>\n",
       "      <td>0</td>\n",
       "      <td>1</td>\n",
       "      <td>2</td>\n",
       "      <td>1</td>\n",
       "      <td>2</td>\n",
       "      <td>1</td>\n",
       "      <td>276.50</td>\n",
       "    </tr>\n",
       "    <tr>\n",
       "      <th>3</th>\n",
       "      <td>0</td>\n",
       "      <td>Air Miles</td>\n",
       "      <td>Letter</td>\n",
       "      <td>1</td>\n",
       "      <td>2</td>\n",
       "      <td>0</td>\n",
       "      <td>2</td>\n",
       "      <td>1</td>\n",
       "      <td>1</td>\n",
       "      <td>4</td>\n",
       "      <td>0</td>\n",
       "      <td>1219.00</td>\n",
       "    </tr>\n",
       "    <tr>\n",
       "      <th>4</th>\n",
       "      <td>0</td>\n",
       "      <td>Air Miles</td>\n",
       "      <td>Letter</td>\n",
       "      <td>1</td>\n",
       "      <td>1</td>\n",
       "      <td>0</td>\n",
       "      <td>1</td>\n",
       "      <td>2</td>\n",
       "      <td>1</td>\n",
       "      <td>6</td>\n",
       "      <td>1</td>\n",
       "      <td>1211.00</td>\n",
       "    </tr>\n",
       "  </tbody>\n",
       "</table>\n",
       "</div>"
      ],
      "text/plain": [
       "   Offer Accepted     Reward Mailer Type  Income Level  # Bank Accounts Open  \\\n",
       "0               0  Air Miles      Letter             2                     1   \n",
       "1               0  Air Miles      Letter             1                     1   \n",
       "2               0  Air Miles    Postcard             2                     2   \n",
       "3               0  Air Miles      Letter             1                     2   \n",
       "4               0  Air Miles      Letter             1                     1   \n",
       "\n",
       "   Overdraft Protection  Credit Rating  # Credit Cards Held  # Homes Owned  \\\n",
       "0                     0              2                    2              1   \n",
       "1                     0              1                    2              2   \n",
       "2                     0              1                    2              1   \n",
       "3                     0              2                    1              1   \n",
       "4                     0              1                    2              1   \n",
       "\n",
       "   Household Size  Own Your Home  Average Balance  \n",
       "0               4              0          1160.75  \n",
       "1               5              1           147.25  \n",
       "2               2              1           276.50  \n",
       "3               4              0          1219.00  \n",
       "4               6              1          1211.00  "
      ]
     },
     "execution_count": 338,
     "metadata": {},
     "output_type": "execute_result"
    }
   ],
   "source": [
    "print(f\"Unique Income Level values: {', '.join(set(cc['Income Level']))}\")\n",
    "print(f\"Unique Credit Rating values: {', '.join(set(cc['Credit Rating']))}\")\n",
    "lmh = {\"Low\":0, \"Medium\":1, \"High\":2}\n",
    "cc.replace(lmh,inplace=True)\n",
    "cc.head()"
   ]
  },
  {
   "cell_type": "markdown",
   "id": "920cdd67",
   "metadata": {},
   "source": [
    "3c. __Change values of `Reward` and `Mailer Type` to numbers__<br>\n",
    "then __print the first 5 rows of the DataFrame__."
   ]
  },
  {
   "cell_type": "code",
   "execution_count": 339,
   "id": "eb8de44c",
   "metadata": {},
   "outputs": [
    {
     "name": "stdout",
     "output_type": "stream",
     "text": [
      "Unique Reward values: Points, Air Miles, Cash Back\n",
      "Unique Mailer Type values: Postcard, Letter\n"
     ]
    },
    {
     "data": {
      "text/html": [
       "<div>\n",
       "<style scoped>\n",
       "    .dataframe tbody tr th:only-of-type {\n",
       "        vertical-align: middle;\n",
       "    }\n",
       "\n",
       "    .dataframe tbody tr th {\n",
       "        vertical-align: top;\n",
       "    }\n",
       "\n",
       "    .dataframe thead th {\n",
       "        text-align: right;\n",
       "    }\n",
       "</style>\n",
       "<table border=\"1\" class=\"dataframe\">\n",
       "  <thead>\n",
       "    <tr style=\"text-align: right;\">\n",
       "      <th></th>\n",
       "      <th>Offer Accepted</th>\n",
       "      <th>Reward</th>\n",
       "      <th>Mailer Type</th>\n",
       "      <th>Income Level</th>\n",
       "      <th># Bank Accounts Open</th>\n",
       "      <th>Overdraft Protection</th>\n",
       "      <th>Credit Rating</th>\n",
       "      <th># Credit Cards Held</th>\n",
       "      <th># Homes Owned</th>\n",
       "      <th>Household Size</th>\n",
       "      <th>Own Your Home</th>\n",
       "      <th>Average Balance</th>\n",
       "    </tr>\n",
       "  </thead>\n",
       "  <tbody>\n",
       "    <tr>\n",
       "      <th>0</th>\n",
       "      <td>0</td>\n",
       "      <td>2</td>\n",
       "      <td>2</td>\n",
       "      <td>2</td>\n",
       "      <td>1</td>\n",
       "      <td>0</td>\n",
       "      <td>2</td>\n",
       "      <td>2</td>\n",
       "      <td>1</td>\n",
       "      <td>4</td>\n",
       "      <td>0</td>\n",
       "      <td>1160.75</td>\n",
       "    </tr>\n",
       "    <tr>\n",
       "      <th>1</th>\n",
       "      <td>0</td>\n",
       "      <td>2</td>\n",
       "      <td>2</td>\n",
       "      <td>1</td>\n",
       "      <td>1</td>\n",
       "      <td>0</td>\n",
       "      <td>1</td>\n",
       "      <td>2</td>\n",
       "      <td>2</td>\n",
       "      <td>5</td>\n",
       "      <td>1</td>\n",
       "      <td>147.25</td>\n",
       "    </tr>\n",
       "    <tr>\n",
       "      <th>2</th>\n",
       "      <td>0</td>\n",
       "      <td>2</td>\n",
       "      <td>1</td>\n",
       "      <td>2</td>\n",
       "      <td>2</td>\n",
       "      <td>0</td>\n",
       "      <td>1</td>\n",
       "      <td>2</td>\n",
       "      <td>1</td>\n",
       "      <td>2</td>\n",
       "      <td>1</td>\n",
       "      <td>276.50</td>\n",
       "    </tr>\n",
       "    <tr>\n",
       "      <th>3</th>\n",
       "      <td>0</td>\n",
       "      <td>2</td>\n",
       "      <td>2</td>\n",
       "      <td>1</td>\n",
       "      <td>2</td>\n",
       "      <td>0</td>\n",
       "      <td>2</td>\n",
       "      <td>1</td>\n",
       "      <td>1</td>\n",
       "      <td>4</td>\n",
       "      <td>0</td>\n",
       "      <td>1219.00</td>\n",
       "    </tr>\n",
       "    <tr>\n",
       "      <th>4</th>\n",
       "      <td>0</td>\n",
       "      <td>2</td>\n",
       "      <td>2</td>\n",
       "      <td>1</td>\n",
       "      <td>1</td>\n",
       "      <td>0</td>\n",
       "      <td>1</td>\n",
       "      <td>2</td>\n",
       "      <td>1</td>\n",
       "      <td>6</td>\n",
       "      <td>1</td>\n",
       "      <td>1211.00</td>\n",
       "    </tr>\n",
       "  </tbody>\n",
       "</table>\n",
       "</div>"
      ],
      "text/plain": [
       "   Offer Accepted  Reward  Mailer Type  Income Level  # Bank Accounts Open  \\\n",
       "0               0       2            2             2                     1   \n",
       "1               0       2            2             1                     1   \n",
       "2               0       2            1             2                     2   \n",
       "3               0       2            2             1                     2   \n",
       "4               0       2            2             1                     1   \n",
       "\n",
       "   Overdraft Protection  Credit Rating  # Credit Cards Held  # Homes Owned  \\\n",
       "0                     0              2                    2              1   \n",
       "1                     0              1                    2              2   \n",
       "2                     0              1                    2              1   \n",
       "3                     0              2                    1              1   \n",
       "4                     0              1                    2              1   \n",
       "\n",
       "   Household Size  Own Your Home  Average Balance  \n",
       "0               4              0          1160.75  \n",
       "1               5              1           147.25  \n",
       "2               2              1           276.50  \n",
       "3               4              0          1219.00  \n",
       "4               6              1          1211.00  "
      ]
     },
     "execution_count": 339,
     "metadata": {},
     "output_type": "execute_result"
    }
   ],
   "source": [
    "print(f\"Unique Reward values: {', '.join(set(cc['Reward']))}\")\n",
    "print(f\"Unique Mailer Type values: {', '.join(set(cc['Mailer Type']))}\")\n",
    "rewards = {\"Points\":1, \"Air Miles\":2, \"Cash Back\":3}\n",
    "mailertypes = {\"Postcard\":1, \"Letter\":2}\n",
    "cc.replace(rewards,inplace=True)\n",
    "cc.replace(mailertypes,inplace=True)\n",
    "cc.head()"
   ]
  },
  {
   "cell_type": "markdown",
   "id": "516b6989",
   "metadata": {},
   "source": [
    "3d. __Print the data type of each column__ to confirm that all values in the DataFrame is a number."
   ]
  },
  {
   "cell_type": "code",
   "execution_count": 340,
   "id": "d7b7eb7e",
   "metadata": {},
   "outputs": [
    {
     "name": "stdout",
     "output_type": "stream",
     "text": [
      "data types:\n",
      " Offer Accepted            int64\n",
      "Reward                    int64\n",
      "Mailer Type               int64\n",
      "Income Level              int64\n",
      "# Bank Accounts Open      int64\n",
      "Overdraft Protection      int64\n",
      "Credit Rating             int64\n",
      "# Credit Cards Held       int64\n",
      "# Homes Owned             int64\n",
      "Household Size            int64\n",
      "Own Your Home             int64\n",
      "Average Balance         float64\n",
      "dtype: object\n"
     ]
    }
   ],
   "source": [
    "print(\"data types:\\n\", cc.dtypes)"
   ]
  },
  {
   "cell_type": "markdown",
   "id": "1994d817",
   "metadata": {},
   "source": [
    "4. Data Analysis\n",
    "\n",
    "4a. Create a plot with 12 subplots to __show the distribution of each feature__ (column).<br>\n",
    "The plot should be 2 rows of 6 subplots each, and each subplot should have a title to specify which distribution is shown.\n",
    "\n",
    "_You should use a loop to create the 12 subplots, don't copy-paste code 12 times_"
   ]
  },
  {
   "cell_type": "code",
   "execution_count": 341,
   "id": "9479a342",
   "metadata": {},
   "outputs": [
    {
     "data": {
      "image/png": "[encoded data removed]",
      "text/plain": [
       "<Figure size 2000x500 with 12 Axes>"
      ]
     },
     "metadata": {},
     "output_type": "display_data"
    }
   ],
   "source": [
    "# print(cc.columns)\n",
    "plt.figure(figsize=(20,5))\n",
    "i = 1\n",
    "for col in cc.columns:\n",
    "    plt.subplot(2, 6, i)\n",
    "    plt.title(col)\n",
    "    plt.hist(cc[col])\n",
    "    plt.plot()\n",
    "    i += 1\n",
    "plt.subplots_adjust(hspace=0.6,wspace=1)\n",
    "# plt.plot()"
   ]
  },
  {
   "cell_type": "markdown",
   "id": "697a5498",
   "metadata": {},
   "source": [
    "4c. Create a Raw NBConvert cell to __explain whether there are outliers or anything unusual__ in any of the features."
   ]
  },
  {
   "cell_type": "raw",
   "id": "cd951f85",
   "metadata": {},
   "source": [
    "In the # Homes Owned plot, it can be seen that the number of people who own 3 or more homes is very little. This seems like a potential outlier. The same goes for the number of people who hold more 4 or more credit cards and the number of people with 3 or more bank accounts open."
   ]
  },
  {
   "cell_type": "markdown",
   "id": "46875b57",
   "metadata": {},
   "source": [
    "5. Create training and testing datasets\n",
    "\n",
    "5a. __Create the X and y datasets__<br>\n",
    "and __show the number of rows and columns of each dataset__."
   ]
  },
  {
   "cell_type": "code",
   "execution_count": 342,
   "id": "55f4b27e",
   "metadata": {},
   "outputs": [
    {
     "data": {
      "text/plain": [
       "0        0\n",
       "1        0\n",
       "2        0\n",
       "3        0\n",
       "4        0\n",
       "        ..\n",
       "17995    0\n",
       "17996    0\n",
       "17997    0\n",
       "17998    0\n",
       "17999    0\n",
       "Name: Offer Accepted, Length: 17976, dtype: int64"
      ]
     },
     "execution_count": 342,
     "metadata": {},
     "output_type": "execute_result"
    }
   ],
   "source": [
    "X = cc.drop(columns=[\"Offer Accepted\"])\n",
    "y = cc[\"Offer Accepted\"]\n",
    "y"
   ]
  },
  {
   "cell_type": "markdown",
   "id": "c2d71e63",
   "metadata": {},
   "source": [
    "5b. __Create the training and testing sets__ and __show their dimensions__."
   ]
  },
  {
   "cell_type": "code",
   "execution_count": 343,
   "id": "fd5f843b",
   "metadata": {},
   "outputs": [
    {
     "name": "stdout",
     "output_type": "stream",
     "text": [
      "X train, X test, y train, y test: (12583, 11) (5393, 11) (12583,) (5393,)\n"
     ]
    }
   ],
   "source": [
    "X_train, X_test, y_train, y_test = train_test_split(X, y, test_size=0.3)\n",
    "print(\"X train, X test, y train, y test:\", X_train.shape, X_test.shape, y_train.shape, y_test.shape)"
   ]
  },
  {
   "cell_type": "markdown",
   "id": "523eaa19",
   "metadata": {},
   "source": [
    "6. Train and measure the accuracy of appropriate ML models. <br>\n",
    "\n",
    "__Create, train, test, and evaluate the accuracy of _all_ the appropriate machine learning models__ that we've discussed in class to predict the customer response.<br>\n",
    "\n",
    "- It's a good idea to create one or more Code cells for _each_ type of machine learning model.<br>\n",
    "(Don't have one huge Code cell that has all the models, it makes debugging more difficult)\n",
    "- For each model, make sure to show all the accuracy measurements that we've discussed in class for the model.<br>\n",
    "_(Hint: there is more than one measurement)_"
   ]
  },
  {
   "cell_type": "code",
   "execution_count": 349,
   "id": "28ca88d4",
   "metadata": {},
   "outputs": [
    {
     "name": "stdout",
     "output_type": "stream",
     "text": [
      "Accuracy score: 0.8928240311514927\n",
      "Confusion Matrix:\n",
      " [[4780  306]\n",
      " [ 272   35]]\n",
      "F1 score: 0.8954560273591251\n"
     ]
    }
   ],
   "source": [
    "# decision tree classifier\n",
    "# train\n",
    "dtc = DecisionTreeClassifier()\n",
    "dtc = dtc.fit(X_train, y_train)\n",
    "# test\n",
    "y_pred = dtc.predict(X_test)\n",
    "# evaluate (accuracy score, confusion matrix, f1 score)\n",
    "print(\"Accuracy score:\", metrics.accuracy_score(y_test, y_pred))\n",
    "print(\"Confusion Matrix:\\n\", metrics.confusion_matrix(y_test, y_pred))\n",
    "print(\"F1 score:\", f1_score(y_test, y_pred, average='weighted'))"
   ]
  },
  {
   "cell_type": "markdown",
   "id": "6ac25af0",
   "metadata": {},
   "source": [
    "7. Based on the accuracy measurements, what would you recommend to the bank?<br>\n",
    "Create a Raw NBConvert to show your recommendation."
   ]
  },
  {
   "cell_type": "markdown",
   "id": "5bcfc4dc",
   "metadata": {},
   "source": [
    "---"
   ]
  },
  {
   "cell_type": "markdown",
   "id": "d96a2043",
   "metadata": {},
   "source": [
    "#### Part 2\n",
    "\n",
    "Create and train an ML model to predict the price of a house, given some common features of the house.<br>\n",
    "The input file is `house.csv` ([source](https://www.kaggle.com/datasets/praveenobulreddy/usa-housing-dataset))."
   ]
  },
  {
   "cell_type": "markdown",
   "id": "0124785f",
   "metadata": {},
   "source": [
    "1. Read and inspect data\n",
    "\n",
    "1a. __Read data from `house.csv` into a DataFrame__.<br>\n",
    "Then __print the number of rows and columns of the DataFrame__<br>\n",
    "and __print the first 5 rows__."
   ]
  },
  {
   "cell_type": "code",
   "execution_count": null,
   "id": "19e4f1c3",
   "metadata": {},
   "outputs": [],
   "source": []
  },
  {
   "cell_type": "markdown",
   "id": "11098d43",
   "metadata": {},
   "source": [
    "1b. __Remove any unnecessary columns__."
   ]
  },
  {
   "cell_type": "code",
   "execution_count": null,
   "id": "662febbb",
   "metadata": {},
   "outputs": [],
   "source": []
  },
  {
   "cell_type": "markdown",
   "id": "4a8f63e0",
   "metadata": {},
   "source": [
    "1c. __Check for NaNs and drop rows with NaNs__."
   ]
  },
  {
   "cell_type": "code",
   "execution_count": null,
   "id": "2a41f9ab",
   "metadata": {},
   "outputs": [],
   "source": []
  },
  {
   "cell_type": "markdown",
   "id": "56bdea29",
   "metadata": {},
   "source": [
    "2. Data Cleaning\n",
    "\n",
    "__Shorten the column headers to the last word__ only.<br>\n",
    "For example, \"Avg. Area Income\" becomes \"Income\"<br>\n",
    "Then __show the first 5 rows of the DataFrame__."
   ]
  },
  {
   "cell_type": "code",
   "execution_count": null,
   "id": "73347596",
   "metadata": {},
   "outputs": [],
   "source": []
  },
  {
   "cell_type": "markdown",
   "id": "60268182",
   "metadata": {},
   "source": [
    "3. Data Analysis\n",
    "\n",
    "3a. __Plot the distribution of the Price__ column<br>\n",
    "The plot should have a title."
   ]
  },
  {
   "cell_type": "code",
   "execution_count": null,
   "id": "34eaa307",
   "metadata": {},
   "outputs": [],
   "source": []
  },
  {
   "cell_type": "markdown",
   "id": "ba233b8b",
   "metadata": {},
   "source": [
    "3b. Create a Raw NBConvert cell to __explain whether the data is balanced__, based on the plot."
   ]
  },
  {
   "cell_type": "markdown",
   "id": "09a6163d",
   "metadata": {},
   "source": [
    "3c. Create a plot with 5 subplots to __show any correlation between each feature and the price__.<br>\n",
    "The plot should be in 2 rows of 2-3 subplots each, and each subplot should have a title to specify which distribution is shown.\n",
    "\n",
    "_You should use a loop to create the subplots._"
   ]
  },
  {
   "cell_type": "code",
   "execution_count": null,
   "id": "0c8996c7",
   "metadata": {},
   "outputs": [],
   "source": []
  },
  {
   "cell_type": "markdown",
   "id": "aa521faf",
   "metadata": {},
   "source": [
    "3d. Is there any correlation between the features and the price?<br>\n",
    "Create a Raw NBConvert to __explain any correlation__."
   ]
  },
  {
   "cell_type": "markdown",
   "id": "36d52ad3",
   "metadata": {},
   "source": [
    "4.Create training and testing datasets\n",
    "\n",
    "4a. __Create the X and y datasets__<br>\n",
    "and __show the number of rows and columns of each dataset__."
   ]
  },
  {
   "cell_type": "code",
   "execution_count": null,
   "id": "22350c90",
   "metadata": {},
   "outputs": [],
   "source": []
  },
  {
   "cell_type": "markdown",
   "id": "e5c00ce0",
   "metadata": {},
   "source": [
    "4b. __Create the training and testing sets__ and __show their dimensions__."
   ]
  },
  {
   "cell_type": "code",
   "execution_count": null,
   "id": "d8716981",
   "metadata": {},
   "outputs": [],
   "source": []
  },
  {
   "cell_type": "markdown",
   "id": "1727fa16",
   "metadata": {},
   "source": [
    "5. Train and measure accuracy of appropriate ML models. <br>\n",
    "\n",
    "__Create, train, test, and evaluate the accuracy of _all_ the appropriate machine learning models__ that we've discussed in class to predict the customer response.<br>\n",
    "\n",
    "- It's a good idea to create one or more Code cells for _each_ type of machine learning model.<br>\n",
    "(Don't have one huge Code cell that has all the models, it makes debugging more difficult)\n",
    "- For each model, make sure to show all the accuracy measurements that we've discussed in class for the model.<br>\n",
    "_(Hint: there is more than one measurement)_"
   ]
  },
  {
   "cell_type": "code",
   "execution_count": null,
   "id": "169dd3db",
   "metadata": {},
   "outputs": [],
   "source": []
  },
  {
   "cell_type": "markdown",
   "id": "b6417ddb",
   "metadata": {},
   "source": [
    "6. For the models that you used, do they have the same list of important features?\n",
    "Create a Raw NBConvert cell to __compare the lists of important features__."
   ]
  },
  {
   "cell_type": "code",
   "execution_count": null,
   "id": "4baccbde",
   "metadata": {},
   "outputs": [],
   "source": []
  }
 ],
 "metadata": {
  "kernelspec": {
   "display_name": "Python 3 (ipykernel)",
   "language": "python",
   "name": "python3"
  },
  "language_info": {
   "codemirror_mode": {
    "name": "ipython",
    "version": 3
   },
   "file_extension": ".py",
   "mimetype": "text/x-python",
   "name": "python",
   "nbconvert_exporter": "python",
   "pygments_lexer": "ipython3",
   "version": "3.10.9"
  }
 },
 "nbformat": 4,
 "nbformat_minor": 5
}
