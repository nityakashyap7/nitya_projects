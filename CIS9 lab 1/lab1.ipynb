{
 "cells": [
  {
   "cell_type": "markdown",
   "id": "01bca987",
   "metadata": {},
   "source": [
    "#### CIS 9 - Lab 1\n",
    "\n",
    "Topics: Review Python, Jupyter Notebook, Numpy"
   ]
  },
  {
   "cell_type": "code",
   "execution_count": null,
   "id": "12e5cf05",
   "metadata": {},
   "outputs": [],
   "source": [
    "# Don't forget to add your name so you can get credit for your work\n",
    "# Name: Nitya Kashyap"
   ]
  },
  {
   "cell_type": "markdown",
   "id": "cb09056c",
   "metadata": {},
   "source": [
    "For this lab you're analyzing CA housing data. The data came from the US Census Bureau and uploaded on [Kaggle](https://www.kaggle.com/datasets/shibumohapatra/house-price), and then further prepared as 3 CSV files.\n",
    "\n",
    "1. `CAhousing.csv` has the housing data, which is in table format with multiple rows and columns.<br>\n",
    "Each row is for a district or block, which is the smallest geographical unit for the census bureau.<br>\n",
    "2. `header.csv` has the text strings which are the column headers. The strings are the description of data in each column.<br>\n",
    "3. `location.csv` contains the type of location of each district (each row).\n",
    "\n",
    "NOTE: This lab is an exercise in using numpy, therefore, <u>do not use pandas for this lab</u>. There will be opportunities to use pandas soon, so labs that use pandas will receive no credit."
   ]
  },
  {
   "cell_type": "code",
   "execution_count": 42,
   "id": "019141c0",
   "metadata": {},
   "outputs": [],
   "source": [
    "# import modules\n",
    "import numpy as np"
   ]
  },
  {
   "cell_type": "markdown",
   "id": "6a9f21e9",
   "metadata": {},
   "source": [
    "1. __Read data from `CAhousing.csv`__ into an appropriate container.<br>\n",
    "__Print the number of rows and columns of data__ along with an explanation for the  numbers."
   ]
  },
  {
   "cell_type": "code",
   "execution_count": 43,
   "id": "c31d6d87",
   "metadata": {},
   "outputs": [
    {
     "name": "stdout",
     "output_type": "stream",
     "text": [
      "number of rows: 20433 \n",
      "number of columns: 6\n"
     ]
    }
   ],
   "source": [
    "data = np.genfromtxt(\"CAhousing.csv\", delimiter= \",\", dtype=float) \n",
    "# print(data.shape)\n",
    "print(\"number of rows:\", data.shape[0], \"\\nnumber of columns:\", data.shape[1])"
   ]
  },
  {
   "cell_type": "markdown",
   "id": "66b2105a",
   "metadata": {},
   "source": [
    "Note: By default, genfromtxt assumes delimiter=None, meaning that the line is split along white spaces \n",
    "    (including tabs) and that consecutive white spaces are considered as a single white space. \n",
    "    Alternatively, we may be dealing with a fixed-width file, where columns are defined as a given number of characters. [Source](https://numpy.org/doc/stable/user/basics.io.genfromtxt.html#)"
   ]
  },
  {
   "cell_type": "markdown",
   "id": "5c87f0cd",
   "metadata": {},
   "source": [
    "2. __Read data from `header.csv`__ into an appropriate container.<br>\n",
    "__Print the number of rows and columns of data__ to confirm that the dimension matches the housing data above.<br>\n",
    "Then __print the data__ so you can see what the column headers are."
   ]
  },
  {
   "cell_type": "code",
   "execution_count": 147,
   "id": "4023fe61",
   "metadata": {},
   "outputs": [
    {
     "name": "stdout",
     "output_type": "stream",
     "text": [
      "number of rows: 6\n",
      "\n",
      "Column Headers:\n",
      "house_median_age\n",
      "square_feet\n",
      "population\n",
      "households\n",
      "median_income\n",
      "median_house_value\n"
     ]
    }
   ],
   "source": [
    "headers = np.genfromtxt(\"header.csv\", delimiter=\",\", dtype=str)\n",
    "# print(headers)\n",
    "# print(headers.shape)\n",
    "print(\"number of rows:\", headers.shape[0])\n",
    "print(\"\\nColumn Headers:\\n\", \"\\n\".join(headers), sep=\"\")"
   ]
  },
  {
   "cell_type": "markdown",
   "id": "ce582bd9",
   "metadata": {},
   "source": [
    "3a. First we take a look at the age of the houses.\n",
    "\n",
    "__Print the highest, lowest, and median of the ages__ of all the houses.\n",
    "\n",
    "_Print an explanation along with the values, don't just print 3 numbers_.\n",
    "_And print the average with 1 digit after the decimal point_."
   ]
  },
  {
   "cell_type": "code",
   "execution_count": 45,
   "id": "350ec361",
   "metadata": {},
   "outputs": [
    {
     "name": "stdout",
     "output_type": "stream",
     "text": [
      "highest age: 52.0 years \n",
      "lowest age: 1.0 years \n",
      "median age: 29.0 years\n"
     ]
    }
   ],
   "source": [
    "# create a view of only the age column\n",
    "ages = data[:,0] # or data[:,:1]\n",
    "# print(ages)\n",
    "print(f\"highest age: {ages.max():0.1f} years \\nlowest age: {ages.min():0.1f} years \\nmedian age: {np.median(ages):0.1f} years\")"
   ]
  },
  {
   "cell_type": "markdown",
   "id": "46c1f7fa",
   "metadata": {},
   "source": [
    "3b. Create a Raw NBConvert cell to __<u>explain</u> whether the houses tend to be older or newer__. Your explanation should discuss the median value."
   ]
  },
  {
   "cell_type": "raw",
   "id": "3bc9335f",
   "metadata": {},
   "source": [
    "The houses tend to be older. The midpoint of the age range is 26.5 years, which is less than the median of 29 years. This shows that the median house age is closer to the maximum age than it is to the minimum age."
   ]
  },
  {
   "cell_type": "markdown",
   "id": "5c8121da",
   "metadata": {},
   "source": [
    "4a. Now we investigate the population.<br>\n",
    "The _population_ column shows how many people are in a district, and the _households_ column shows how many households are in the district.\n",
    "\n",
    "__Find the number of persons per household__.<br>\n",
    "Then __print the mean and the standard deviation of the number of persons per household__.\n",
    "\n",
    "_Print an explanation along with the numbers, and the numbers should have 1 digit after the decimal point._"
   ]
  },
  {
   "cell_type": "code",
   "execution_count": 46,
   "id": "1cb1733b",
   "metadata": {},
   "outputs": [
    {
     "name": "stdout",
     "output_type": "stream",
     "text": [
      "mean persons per household: 3.1 persons/household \n",
      "standard deviation of the number of persons per household: 10.4 persons/household\n"
     ]
    }
   ],
   "source": [
    "population = data[:,2]\n",
    "households = data[:,3]\n",
    "people_per_household = population/households\n",
    "print(f\"mean persons per household: {np.mean(people_per_household):0.1f} persons/household \\nstandard deviation of the number of persons per household: {np.std(people_per_household):0.1f} persons/household\")"
   ]
  },
  {
   "cell_type": "markdown",
   "id": "c1c4a68a",
   "metadata": {},
   "source": [
    "4b. Do the numbers in step 4a show that the number of persons per household data has a large or small spread?<br>\n",
    "Create a Raw NBConvert cell to __show your answer and explain your reasoning__."
   ]
  },
  {
   "cell_type": "raw",
   "id": "b77b2331",
   "metadata": {},
   "source": [
    "The standard deviation of 10.4 persons/household indicates that, on average, the persons per household values are about 10.4 persons/household away from the mean of 3.1 persons/household. This standard deviation is pretty large, suggesting a large spread in the number of persons per household data."
   ]
  },
  {
   "cell_type": "markdown",
   "id": "dde68fc2",
   "metadata": {},
   "source": [
    "4c. __Find the 25th, 50th, and 75th percentiles__ of the persons per household."
   ]
  },
  {
   "cell_type": "code",
   "execution_count": 47,
   "id": "0941a499",
   "metadata": {},
   "outputs": [
    {
     "name": "stdout",
     "output_type": "stream",
     "text": [
      "25th percentile: 2.4 persons per household\n",
      "50th percentile (median): 2.8 persons per household\n",
      "75th percentile: 3.3 persons per household\n"
     ]
    }
   ],
   "source": [
    "print(f\"25th percentile: {np.percentile(people_per_household, 25):0.1f} persons per household\")\n",
    "print(f\"50th percentile (median): {np.percentile(people_per_household, 50):0.1f} persons per household\")\n",
    "print(f\"75th percentile: {np.percentile(people_per_household, 75):0.1f} persons per household\")"
   ]
  },
  {
   "cell_type": "markdown",
   "id": "4887b28c",
   "metadata": {},
   "source": [
    "4d. Based on the output of steps 4c above, would you expect the standard deviation to be large?<br>\n",
    "What might be a reason why the standard deviation is large?\n",
    "\n",
    "Create a Raw NBConvert cell to __answer the 2 questions above__."
   ]
  },
  {
   "cell_type": "raw",
   "id": "fa6a7e83",
   "metadata": {},
   "source": [
    "Based on this output, I would have concluded that there was not much variation in the data, so I wouldn't have expected the standard deviation to be so large. However, the standard deviation is not resistant to outliers, so the presence of a lot of extreme values (either very high or very low) can skew the standard deviation and make the spread large, which could explain why the standard deviation was large."
   ]
  },
  {
   "cell_type": "markdown",
   "id": "6212fba6",
   "metadata": {},
   "source": [
    "5. We want to see if the districts with lowest incomes have lower housing price than the districts with the highest incomes.\n",
    "\n",
    "5a. __Find the lowest income, the count of districts with lowest incomes, and the house prices for these districts__.<br>\n",
    "Print the 3 results with explanation."
   ]
  },
  {
   "cell_type": "code",
   "execution_count": 161,
   "id": "987494c6",
   "metadata": {},
   "outputs": [
    {
     "name": "stdout",
     "output_type": "stream",
     "text": [
      "The lowest median income in the data set is 0.50.\n",
      "The number of districts with the lowest median income in the data set is 12 districts.\n",
      "\n",
      "median house values for the districts with lowest median income:\n",
      "67500.00\n",
      "100000.00\n",
      "73500.00\n",
      "500001.00\n",
      "90600.00\n",
      "112500.00\n",
      "500001.00\n",
      "162500.00\n",
      "55000.00\n",
      "82500.00\n",
      "56700.00\n",
      "162500.00\n"
     ]
    }
   ],
   "source": [
    "incomes = data[:,4]\n",
    "\n",
    "lowest = incomes.min()\n",
    "print(f\"The lowest median income in the data set is {lowest:.2f}.\")\n",
    "\n",
    "indices_of_lowest = np.where(incomes==lowest)\n",
    "# print(indices_of_lowest)\n",
    "\n",
    "print(f\"The number of districts with the lowest median income in the data set is {np.size(indices_of_lowest)} districts.\")\n",
    "\n",
    "\n",
    "house_values = data[:,5]\n",
    "lowest_income_house_values = house_values[indices_of_lowest]\n",
    "# ^^ equivalent to:\n",
    "# lowest_income_house_values = data[indices_of_lowest,5]\n",
    "# using the two step method because house values will be needed later\n",
    "print(f\"\\nmedian house values for the districts with lowest median income:\")\n",
    "for value in  lowest_income_house_values:\n",
    "    print(f\"{value:0.2f}\")"
   ]
  },
  {
   "cell_type": "markdown",
   "id": "041ca157",
   "metadata": {},
   "source": [
    "5b. __Find the highest income, the count of districts with highest incomes, and the house prices for these districts__.<br>\n",
    "Print the 3 results with explanation."
   ]
  },
  {
   "cell_type": "code",
   "execution_count": 155,
   "id": "8fa02c59",
   "metadata": {},
   "outputs": [
    {
     "name": "stdout",
     "output_type": "stream",
     "text": [
      "The highest median income in the data set is 15.00.\n",
      "The number of districts with the lowest median income in the data set is 48 districts.\n",
      "\n",
      "median house values for the districts with highest median income:\n",
      "350000.00\n",
      "500001.00\n",
      "500001.00\n",
      "500001.00\n",
      "500001.00\n",
      "500001.00\n",
      "500001.00\n",
      "500001.00\n",
      "500001.00\n",
      "500001.00\n",
      "500001.00\n",
      "500001.00\n",
      "500001.00\n",
      "500001.00\n",
      "500001.00\n",
      "500001.00\n",
      "500001.00\n",
      "500001.00\n",
      "500001.00\n",
      "500001.00\n",
      "500001.00\n",
      "500001.00\n",
      "500001.00\n",
      "500001.00\n",
      "500001.00\n",
      "500001.00\n",
      "500001.00\n",
      "500001.00\n",
      "500001.00\n",
      "500001.00\n",
      "500001.00\n",
      "500001.00\n",
      "500001.00\n",
      "500001.00\n",
      "500001.00\n",
      "500001.00\n",
      "500001.00\n",
      "500001.00\n",
      "500001.00\n",
      "500001.00\n",
      "500001.00\n",
      "500001.00\n",
      "500001.00\n",
      "500001.00\n",
      "500001.00\n",
      "500001.00\n",
      "131300.00\n",
      "400000.00\n"
     ]
    }
   ],
   "source": [
    "incomes = data[:,4]\n",
    "highest = incomes.max()\n",
    "print(f\"The highest median income in the data set is {highest:.2f}.\")\n",
    "indices_of_highest = np.where(incomes==highest)\n",
    "# print(indices_of_highest)\n",
    "print(f\"The number of districts with the lowest median income in the data set is {np.size(indices_of_highest)} districts.\")\n",
    "\n",
    "highest_income_house_values = house_values[indices_of_highest]\n",
    "print(f\"\\nmedian house values for the districts with highest median income:\")\n",
    "for value in highest_income_house_values:\n",
    "    print(f\"{value:0.2f}\")"
   ]
  },
  {
   "cell_type": "markdown",
   "id": "5fc7ba76",
   "metadata": {},
   "source": [
    "5c. __Find the highest and lowest house prices__.<br>\n",
    "Print the results with explanation."
   ]
  },
  {
   "cell_type": "code",
   "execution_count": 156,
   "id": "fc789bf5",
   "metadata": {},
   "outputs": [
    {
     "name": "stdout",
     "output_type": "stream",
     "text": [
      "highest house value: 500001.00\n",
      "lowest house value: 14999.00\n"
     ]
    }
   ],
   "source": [
    "# house values view already created\n",
    "print(f\"highest house value: {house_values.max():.2f}\")\n",
    "print(f\"lowest house value: {house_values.min():.2f}\")"
   ]
  },
  {
   "cell_type": "markdown",
   "id": "b93da26c",
   "metadata": {},
   "source": [
    "5d. Using your results in steps 5a-c, create a Raw NBConvert cell to __explain the difference in house prices__ between the highest and lowest income districts."
   ]
  },
  {
   "cell_type": "raw",
   "id": "9d894a95",
   "metadata": {},
   "source": [
    "It seems that, for the most part, districts with the lowest median income tend to have a much lower median house value than the districts with the highest median income. This makes sense– it would be difficult for people with low income to afford a house in one of the expensive districts, so they would settle in areas that have prices they can afford. Those who can afford it would probably seek a home in an expensive district. "
   ]
  },
  {
   "cell_type": "markdown",
   "id": "8b8adbf5",
   "metadata": {},
   "source": [
    "6. Last, we look at the mean house prices of each location type, to see if the real estate mantra \"location, location, location\" is true in that the location affects the house price.\n",
    "\n",
    "6a. __Read data from `location.csv`__ into an appropriate container.<br>\n",
    "Then __print the size of container__ to confirm that it matches the housing data dimensions<br>\n",
    "and __print the location data__."
   ]
  },
  {
   "cell_type": "code",
   "execution_count": 157,
   "id": "a9cb98cc",
   "metadata": {},
   "outputs": [
    {
     "name": "stdout",
     "output_type": "stream",
     "text": [
      "size of container: (20433,)\n",
      "location data:\n",
      "['NEAR BAY' 'NEAR BAY' 'NEAR BAY' ... 'INLAND' 'INLAND' 'INLAND']\n"
     ]
    }
   ],
   "source": [
    "locations = np.genfromtxt(\"location.csv\", delimiter=\",\", dtype=str)\n",
    "print(f\"size of container: {locations.shape}\")\n",
    "print(f\"location data:\\n{locations}\")"
   ]
  },
  {
   "cell_type": "markdown",
   "id": "828a401a",
   "metadata": {},
   "source": [
    "6b. From the output above, we see that the number of locations is the same as the number of rows of the housing data. Each element of the location container corresponds to 1 row of the housing data.\n",
    "\n",
    "__Find and print the unique locations__ in the location data."
   ]
  },
  {
   "cell_type": "code",
   "execution_count": 158,
   "id": "3e062d01",
   "metadata": {},
   "outputs": [
    {
     "name": "stdout",
     "output_type": "stream",
     "text": [
      "Unique locations: <1H OCEAN, NEAR BAY, ISLAND, NEAR OCEAN, INLAND\n"
     ]
    }
   ],
   "source": [
    "print(f\"Unique locations: {', '.join(set(locations))}\")"
   ]
  },
  {
   "cell_type": "markdown",
   "id": "75c00ba4",
   "metadata": {},
   "source": [
    "6c. From the output above, we see that there are 5 types of locations.\n",
    "- NEAR BAY: next to a bay\n",
    "- <1H OCEAN: less than 1 hour away from the ocean\n",
    "- NEAR OCEAN: next to the ocean\n",
    "- INLAND: self explanatory\n",
    "- ISLAND: self explanatory\n",
    "\n",
    "__Create 5 different views of the housing data__.<br>\n",
    "Each view contains the rows of the housing data that are for one location."
   ]
  },
  {
   "cell_type": "code",
   "execution_count": 159,
   "id": "673db809",
   "metadata": {},
   "outputs": [],
   "source": [
    "Near_Bay_indices = np.where(locations==\"NEAR BAY\")\n",
    "OneH_Ocean_indices = np.where(locations==\"<1H OCEAN\")\n",
    "Near_Ocean_indices = np.where(locations==\"NEAR OCEAN\")\n",
    "Inland_indices = np.where(locations==\"INLAND\")\n",
    "Island_indices = np.where(locations==\"ISLAND\")\n",
    "\n",
    "Near_Bay = data[Near_Bay_indices]\n",
    "OneH_Ocean = data[OneH_Ocean_indices]\n",
    "Near_Ocean = data[Near_Ocean_indices]\n",
    "Inland = data[Inland_indices]\n",
    "Island = data[Island_indices]"
   ]
  },
  {
   "cell_type": "markdown",
   "id": "c04f8c15",
   "metadata": {},
   "source": [
    "6d. __Find the mean of the house prices in each view__<br>\n",
    "and __print the results__ with explanation and with numbers rounded to the nearest whole number.\n",
    "\n",
    "_As a review of your Python skills, print the 5 results in 2 clear columns:_ `location  price`"
   ]
  },
  {
   "cell_type": "code",
   "execution_count": 163,
   "id": "8e9cc09c",
   "metadata": {},
   "outputs": [
    {
     "name": "stdout",
     "output_type": "stream",
     "text": [
      "location     mean price\n",
      "-----------------------\n",
      "NEAR BAY     259279\n",
      "<1H OCEAN    240268\n",
      "NEAR OCEAN   249042\n",
      "INLAND       124897\n",
      "ISLAND       380440\n"
     ]
    }
   ],
   "source": [
    "print(\"location\", \" \"*3, \"mean price\")\n",
    "print(\"-\"*23)\n",
    "print(f\"{'NEAR BAY':12s} {Near_Bay[:,5].mean():1.0f}\")\n",
    "print(f\"{'<1H OCEAN':12s} {OneH_Ocean[:,5].mean():1.0f}\")\n",
    "print(f\"{'NEAR OCEAN':12s} {Near_Ocean[:,5].mean():1.0f}\")\n",
    "print(f\"{'INLAND':12s} {Inland[:,5].mean():1.0f}\")\n",
    "print(f\"{'ISLAND':12s} {Island[:,5].mean():1.0f}\")"
   ]
  },
  {
   "cell_type": "markdown",
   "id": "2624132e",
   "metadata": {},
   "source": [
    "6e. Does the location affect the house price?<br>\n",
    "Create a Raw NBConvert cell to __explain your answer__."
   ]
  },
  {
   "cell_type": "raw",
   "id": "2eb89017",
   "metadata": {},
   "source": [
    "The location of the district seems to affect the house value. Each location type clearly seems to have its own distinct median house value. Districts that are inland have the lowest median value. Districts that are near or somewhat near the ocean/bay have similar median values, but all significantly higher than the ones inland. The island districts have the greatest median house value, which is over 10000 more than that of districts near the bay, which have the second highest median house value."
   ]
  }
 ],
 "metadata": {
  "kernelspec": {
   "display_name": "Python 3 (ipykernel)",
   "language": "python",
   "name": "python3"
  },
  "language_info": {
   "codemirror_mode": {
    "name": "ipython",
    "version": 3
   },
   "file_extension": ".py",
   "mimetype": "text/x-python",
   "name": "python",
   "nbconvert_exporter": "python",
   "pygments_lexer": "ipython3",
   "version": "3.10.9"
  }
 },
 "nbformat": 4,
 "nbformat_minor": 5
}
