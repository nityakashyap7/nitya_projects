{
 "cells": [
  {
   "cell_type": "markdown",
   "id": "8369d374",
   "metadata": {},
   "source": [
    "#### CIS 9 - Lab 2\n",
    "Topics: Pandas, Matplotlib"
   ]
  },
  {
   "cell_type": "code",
   "execution_count": 1,
   "id": "03770e84",
   "metadata": {},
   "outputs": [],
   "source": [
    "# Name: Nitya Kashyap"
   ]
  },
  {
   "cell_type": "markdown",
   "id": "3abcbee0",
   "metadata": {},
   "source": [
    "In this lab you will analyze the current world population.<br>\n",
    "The data is from the [worldpopulationreview](https://worldpopulationreview.com/) website and contains the information for countries of the world.<br>\n",
    "The data is in the input file `world.csv`\n",
    "\n",
    "There are 2 main parts to this lab:<br>\n",
    "A. Data cleaning<br>\n",
    "B. Data analysis and visualization"
   ]
  },
  {
   "cell_type": "code",
   "execution_count": 2,
   "id": "7e84abac",
   "metadata": {},
   "outputs": [],
   "source": [
    "# import modules\n",
    "import numpy as np\n",
    "import pandas as pd\n",
    "import matplotlib.pyplot as plt"
   ]
  },
  {
   "cell_type": "markdown",
   "id": "4b8a610a",
   "metadata": {},
   "source": [
    "#### Part A: Data Cleaning"
   ]
  },
  {
   "cell_type": "markdown",
   "id": "ecaf5e21",
   "metadata": {},
   "source": [
    "1. __Read data from `world.csv` into a DataFrame__.<br>\n",
    "Then __print the DataFrame__.<br>\n",
    "\n",
    "_Make sure to use Jupyter notebook's graphical print and not Python's text print() function._<br>\n",
    "_This applies to all DataFrame printing_."
   ]
  },
  {
   "cell_type": "code",
   "execution_count": 3,
   "id": "1bba61f4",
   "metadata": {},
   "outputs": [
    {
     "data": {
      "text/html": [
       "<div>\n",
       "<style scoped>\n",
       "    .dataframe tbody tr th:only-of-type {\n",
       "        vertical-align: middle;\n",
       "    }\n",
       "\n",
       "    .dataframe tbody tr th {\n",
       "        vertical-align: top;\n",
       "    }\n",
       "\n",
       "    .dataframe thead th {\n",
       "        text-align: right;\n",
       "    }\n",
       "</style>\n",
       "<table border=\"1\" class=\"dataframe\">\n",
       "  <thead>\n",
       "    <tr style=\"text-align: right;\">\n",
       "      <th></th>\n",
       "      <th>rank</th>\n",
       "      <th>2023</th>\n",
       "      <th>2022</th>\n",
       "      <th>area</th>\n",
       "      <th>land_area</th>\n",
       "      <th>density</th>\n",
       "      <th>growth</th>\n",
       "      <th>world %</th>\n",
       "      <th>name</th>\n",
       "    </tr>\n",
       "  </thead>\n",
       "  <tbody>\n",
       "    <tr>\n",
       "      <th>0</th>\n",
       "      <td>1</td>\n",
       "      <td>1,425,768,271</td>\n",
       "      <td>1,417,173,173</td>\n",
       "      <td>3.3M</td>\n",
       "      <td>3M</td>\n",
       "      <td>481</td>\n",
       "      <td>0.81%</td>\n",
       "      <td>17.85%</td>\n",
       "      <td>India</td>\n",
       "    </tr>\n",
       "    <tr>\n",
       "      <th>1</th>\n",
       "      <td>2</td>\n",
       "      <td>1,425,743,821</td>\n",
       "      <td>1,425,887,337</td>\n",
       "      <td>9.7M</td>\n",
       "      <td>9.4M</td>\n",
       "      <td>151</td>\n",
       "      <td>-0.02%</td>\n",
       "      <td>17.81%</td>\n",
       "      <td>China</td>\n",
       "    </tr>\n",
       "    <tr>\n",
       "      <th>2</th>\n",
       "      <td>3</td>\n",
       "      <td>339,212,631</td>\n",
       "      <td>338,289,857</td>\n",
       "      <td>9.4M</td>\n",
       "      <td>9.1M</td>\n",
       "      <td>37</td>\n",
       "      <td>0.50%</td>\n",
       "      <td>4.25%</td>\n",
       "      <td>United States</td>\n",
       "    </tr>\n",
       "    <tr>\n",
       "      <th>3</th>\n",
       "      <td>4</td>\n",
       "      <td>276,553,195</td>\n",
       "      <td>275,501,339</td>\n",
       "      <td>1.9M</td>\n",
       "      <td>1.9M</td>\n",
       "      <td>148</td>\n",
       "      <td>0.74%</td>\n",
       "      <td>3.47%</td>\n",
       "      <td>Indonesia</td>\n",
       "    </tr>\n",
       "    <tr>\n",
       "      <th>4</th>\n",
       "      <td>5</td>\n",
       "      <td>238,468,483</td>\n",
       "      <td>235,824,862</td>\n",
       "      <td>881.9K</td>\n",
       "      <td>770.9K</td>\n",
       "      <td>312</td>\n",
       "      <td>1.98%</td>\n",
       "      <td>3.00%</td>\n",
       "      <td>Pakistan</td>\n",
       "    </tr>\n",
       "    <tr>\n",
       "      <th>...</th>\n",
       "      <td>...</td>\n",
       "      <td>...</td>\n",
       "      <td>...</td>\n",
       "      <td>...</td>\n",
       "      <td>...</td>\n",
       "      <td>...</td>\n",
       "      <td>...</td>\n",
       "      <td>...</td>\n",
       "      <td>...</td>\n",
       "    </tr>\n",
       "    <tr>\n",
       "      <th>200</th>\n",
       "      <td>218</td>\n",
       "      <td>33,642</td>\n",
       "      <td>33,660</td>\n",
       "      <td>61</td>\n",
       "      <td>60</td>\n",
       "      <td>561</td>\n",
       "      <td>-0.05%</td>\n",
       "      <td>0.00%</td>\n",
       "      <td>San Marino</td>\n",
       "    </tr>\n",
       "    <tr>\n",
       "      <th>201</th>\n",
       "      <td>222</td>\n",
       "      <td>18,058</td>\n",
       "      <td>18,055</td>\n",
       "      <td>459</td>\n",
       "      <td>460</td>\n",
       "      <td>39</td>\n",
       "      <td>0.02%</td>\n",
       "      <td>0.00%</td>\n",
       "      <td>Palau</td>\n",
       "    </tr>\n",
       "    <tr>\n",
       "      <th>202</th>\n",
       "      <td>225</td>\n",
       "      <td>12,780</td>\n",
       "      <td>12,668</td>\n",
       "      <td>21</td>\n",
       "      <td>20</td>\n",
       "      <td>639</td>\n",
       "      <td>0.88%</td>\n",
       "      <td>0.00%</td>\n",
       "      <td>Nauru</td>\n",
       "    </tr>\n",
       "    <tr>\n",
       "      <th>203</th>\n",
       "      <td>227</td>\n",
       "      <td>11,396</td>\n",
       "      <td>11,312</td>\n",
       "      <td>26</td>\n",
       "      <td>30</td>\n",
       "      <td>380</td>\n",
       "      <td>0.74%</td>\n",
       "      <td>0.00%</td>\n",
       "      <td>Tuvalu</td>\n",
       "    </tr>\n",
       "    <tr>\n",
       "      <th>204</th>\n",
       "      <td>234</td>\n",
       "      <td>518</td>\n",
       "      <td>510</td>\n",
       "      <td>1</td>\n",
       "      <td>1</td>\n",
       "      <td>1,177</td>\n",
       "      <td>1.57%</td>\n",
       "      <td>0.00%</td>\n",
       "      <td>Vatican City</td>\n",
       "    </tr>\n",
       "  </tbody>\n",
       "</table>\n",
       "<p>205 rows × 9 columns</p>\n",
       "</div>"
      ],
      "text/plain": [
       "     rank           2023           2022    area land_area density  growth  \\\n",
       "0       1  1,425,768,271  1,417,173,173    3.3M        3M     481   0.81%   \n",
       "1       2  1,425,743,821  1,425,887,337    9.7M      9.4M     151  -0.02%   \n",
       "2       3    339,212,631    338,289,857    9.4M      9.1M      37   0.50%   \n",
       "3       4    276,553,195    275,501,339    1.9M      1.9M     148   0.74%   \n",
       "4       5    238,468,483    235,824,862  881.9K    770.9K     312   1.98%   \n",
       "..    ...            ...            ...     ...       ...     ...     ...   \n",
       "200   218         33,642         33,660      61        60     561  -0.05%   \n",
       "201   222         18,058         18,055     459       460      39   0.02%   \n",
       "202   225         12,780         12,668      21        20     639   0.88%   \n",
       "203   227         11,396         11,312      26        30     380   0.74%   \n",
       "204   234            518            510       1         1   1,177   1.57%   \n",
       "\n",
       "    world %           name  \n",
       "0    17.85%          India  \n",
       "1    17.81%          China  \n",
       "2     4.25%  United States  \n",
       "3     3.47%      Indonesia  \n",
       "4     3.00%       Pakistan  \n",
       "..      ...            ...  \n",
       "200   0.00%     San Marino  \n",
       "201   0.00%          Palau  \n",
       "202   0.00%          Nauru  \n",
       "203   0.00%         Tuvalu  \n",
       "204   0.00%   Vatican City  \n",
       "\n",
       "[205 rows x 9 columns]"
      ]
     },
     "execution_count": 3,
     "metadata": {},
     "output_type": "execute_result"
    }
   ],
   "source": [
    "df = pd.read_csv(\"world.csv\")\n",
    "df"
   ]
  },
  {
   "cell_type": "raw",
   "id": "1032c3ee",
   "metadata": {},
   "source": [
    "The columns are: 2023 population, 2022 population, area and land area (in squared km), population density, recent year growth rate, percent of world population, and country name."
   ]
  },
  {
   "cell_type": "markdown",
   "id": "ba925869",
   "metadata": {},
   "source": [
    "2. __Check to see if there are any NaN__ in the data.<br>\n",
    "The output should be the column names and the number of NaNs in the column."
   ]
  },
  {
   "cell_type": "code",
   "execution_count": 4,
   "id": "0d00775f",
   "metadata": {},
   "outputs": [
    {
     "name": "stdout",
     "output_type": "stream",
     "text": [
      "NaN values present (in each column):\n",
      "rank         0\n",
      "2023         0\n",
      "2022         0\n",
      "area         0\n",
      "land_area    0\n",
      "density      0\n",
      "growth       0\n",
      "world %      0\n",
      "name         0\n",
      "dtype: int64\n"
     ]
    }
   ],
   "source": [
    "print(\"NaN values present (in each column):\")\n",
    "print(df.isna().sum())"
   ]
  },
  {
   "cell_type": "markdown",
   "id": "188fa16f",
   "metadata": {},
   "source": [
    "3a. __Check the data type of each column__.<br>\n",
    "The output should be the columns names and the data type of the column."
   ]
  },
  {
   "cell_type": "code",
   "execution_count": 5,
   "id": "59906085",
   "metadata": {},
   "outputs": [
    {
     "name": "stdout",
     "output_type": "stream",
     "text": [
      "column, data type:\n"
     ]
    },
    {
     "data": {
      "text/plain": [
       "rank          int64\n",
       "2023         object\n",
       "2022         object\n",
       "area         object\n",
       "land_area    object\n",
       "density      object\n",
       "growth       object\n",
       "world %      object\n",
       "name         object\n",
       "dtype: object"
      ]
     },
     "execution_count": 5,
     "metadata": {},
     "output_type": "execute_result"
    }
   ],
   "source": [
    "print(\"column, data type:\")\n",
    "df.dtypes"
   ]
  },
  {
   "cell_type": "markdown",
   "id": "add4be64",
   "metadata": {},
   "source": [
    "3b. __Create a Raw NBConvert cell__ to __explain the data types of the columns__."
   ]
  },
  {
   "cell_type": "raw",
   "id": "a09154d2",
   "metadata": {},
   "source": [
    "The \"rank\" column comprises of integer values. All the other columns are marked as \"object\" type because they are not numerical (int or float) data types. These could be numbers read in as strings because they have symbols or commas attached to give context to their values."
   ]
  },
  {
   "cell_type": "markdown",
   "id": "2f95b805",
   "metadata": {},
   "source": [
    "4a. Since we will be analyzing the population, we want to read them in as numbers.<br>\n",
    "__Read data again from world.csv into a DataFrame__, but this time let the DataFrame convert the population strings into numbers during the reading.<br>\n",
    "Then __show the first 5 rows of the DataFrame__."
   ]
  },
  {
   "cell_type": "code",
   "execution_count": 6,
   "id": "e7ad10da",
   "metadata": {},
   "outputs": [
    {
     "name": "stdout",
     "output_type": "stream",
     "text": [
      "first 5 rows:\n"
     ]
    },
    {
     "data": {
      "text/html": [
       "<div>\n",
       "<style scoped>\n",
       "    .dataframe tbody tr th:only-of-type {\n",
       "        vertical-align: middle;\n",
       "    }\n",
       "\n",
       "    .dataframe tbody tr th {\n",
       "        vertical-align: top;\n",
       "    }\n",
       "\n",
       "    .dataframe thead th {\n",
       "        text-align: right;\n",
       "    }\n",
       "</style>\n",
       "<table border=\"1\" class=\"dataframe\">\n",
       "  <thead>\n",
       "    <tr style=\"text-align: right;\">\n",
       "      <th></th>\n",
       "      <th>rank</th>\n",
       "      <th>2023</th>\n",
       "      <th>2022</th>\n",
       "      <th>area</th>\n",
       "      <th>land_area</th>\n",
       "      <th>density</th>\n",
       "      <th>growth</th>\n",
       "      <th>world %</th>\n",
       "      <th>name</th>\n",
       "    </tr>\n",
       "  </thead>\n",
       "  <tbody>\n",
       "    <tr>\n",
       "      <th>0</th>\n",
       "      <td>1</td>\n",
       "      <td>1425768271</td>\n",
       "      <td>1417173173</td>\n",
       "      <td>3.3M</td>\n",
       "      <td>3M</td>\n",
       "      <td>481.0</td>\n",
       "      <td>0.81%</td>\n",
       "      <td>17.85%</td>\n",
       "      <td>India</td>\n",
       "    </tr>\n",
       "    <tr>\n",
       "      <th>1</th>\n",
       "      <td>2</td>\n",
       "      <td>1425743821</td>\n",
       "      <td>1425887337</td>\n",
       "      <td>9.7M</td>\n",
       "      <td>9.4M</td>\n",
       "      <td>151.0</td>\n",
       "      <td>-0.02%</td>\n",
       "      <td>17.81%</td>\n",
       "      <td>China</td>\n",
       "    </tr>\n",
       "    <tr>\n",
       "      <th>2</th>\n",
       "      <td>3</td>\n",
       "      <td>339212631</td>\n",
       "      <td>338289857</td>\n",
       "      <td>9.4M</td>\n",
       "      <td>9.1M</td>\n",
       "      <td>37.0</td>\n",
       "      <td>0.50%</td>\n",
       "      <td>4.25%</td>\n",
       "      <td>United States</td>\n",
       "    </tr>\n",
       "    <tr>\n",
       "      <th>3</th>\n",
       "      <td>4</td>\n",
       "      <td>276553195</td>\n",
       "      <td>275501339</td>\n",
       "      <td>1.9M</td>\n",
       "      <td>1.9M</td>\n",
       "      <td>148.0</td>\n",
       "      <td>0.74%</td>\n",
       "      <td>3.47%</td>\n",
       "      <td>Indonesia</td>\n",
       "    </tr>\n",
       "    <tr>\n",
       "      <th>4</th>\n",
       "      <td>5</td>\n",
       "      <td>238468483</td>\n",
       "      <td>235824862</td>\n",
       "      <td>881.9K</td>\n",
       "      <td>770.9K</td>\n",
       "      <td>312.0</td>\n",
       "      <td>1.98%</td>\n",
       "      <td>3.00%</td>\n",
       "      <td>Pakistan</td>\n",
       "    </tr>\n",
       "  </tbody>\n",
       "</table>\n",
       "</div>"
      ],
      "text/plain": [
       "   rank        2023        2022    area land_area  density  growth world %  \\\n",
       "0     1  1425768271  1417173173    3.3M        3M    481.0   0.81%  17.85%   \n",
       "1     2  1425743821  1425887337    9.7M      9.4M    151.0  -0.02%  17.81%   \n",
       "2     3   339212631   338289857    9.4M      9.1M     37.0   0.50%   4.25%   \n",
       "3     4   276553195   275501339    1.9M      1.9M    148.0   0.74%   3.47%   \n",
       "4     5   238468483   235824862  881.9K    770.9K    312.0   1.98%   3.00%   \n",
       "\n",
       "            name  \n",
       "0          India  \n",
       "1          China  \n",
       "2  United States  \n",
       "3      Indonesia  \n",
       "4       Pakistan  "
      ]
     },
     "metadata": {},
     "output_type": "display_data"
    }
   ],
   "source": [
    "df = pd.read_csv(\"world.csv\", thousands=\",\")\n",
    "print(\"first 5 rows:\")\n",
    "display(df.head())"
   ]
  },
  {
   "cell_type": "markdown",
   "id": "c42e813a",
   "metadata": {},
   "source": [
    "4b. __Show the data types of each column__."
   ]
  },
  {
   "cell_type": "code",
   "execution_count": 7,
   "id": "52ccd9e7",
   "metadata": {},
   "outputs": [
    {
     "data": {
      "text/plain": [
       "rank           int64\n",
       "2023           int64\n",
       "2022           int64\n",
       "area          object\n",
       "land_area     object\n",
       "density      float64\n",
       "growth        object\n",
       "world %       object\n",
       "name          object\n",
       "dtype: object"
      ]
     },
     "execution_count": 7,
     "metadata": {},
     "output_type": "execute_result"
    }
   ],
   "source": [
    "df.dtypes"
   ]
  },
  {
   "cell_type": "markdown",
   "id": "1932b11e",
   "metadata": {},
   "source": [
    "5. We also want to analyze the growth and world % columns.<br>\n",
    "__Convert the growth and world % data into numbers__ by removing the % sign and convert to float.<br>\n",
    "Then __print the DataFrame__.\n",
    "\n",
    "_You should not have to use a loop, take advantage of string vectorization to remove the % instead._"
   ]
  },
  {
   "cell_type": "code",
   "execution_count": 8,
   "id": "36c043ed",
   "metadata": {},
   "outputs": [
    {
     "data": {
      "text/html": [
       "<div>\n",
       "<style scoped>\n",
       "    .dataframe tbody tr th:only-of-type {\n",
       "        vertical-align: middle;\n",
       "    }\n",
       "\n",
       "    .dataframe tbody tr th {\n",
       "        vertical-align: top;\n",
       "    }\n",
       "\n",
       "    .dataframe thead th {\n",
       "        text-align: right;\n",
       "    }\n",
       "</style>\n",
       "<table border=\"1\" class=\"dataframe\">\n",
       "  <thead>\n",
       "    <tr style=\"text-align: right;\">\n",
       "      <th></th>\n",
       "      <th>rank</th>\n",
       "      <th>2023</th>\n",
       "      <th>2022</th>\n",
       "      <th>area</th>\n",
       "      <th>land_area</th>\n",
       "      <th>density</th>\n",
       "      <th>growth</th>\n",
       "      <th>world %</th>\n",
       "      <th>name</th>\n",
       "    </tr>\n",
       "  </thead>\n",
       "  <tbody>\n",
       "    <tr>\n",
       "      <th>0</th>\n",
       "      <td>1</td>\n",
       "      <td>1425768271</td>\n",
       "      <td>1417173173</td>\n",
       "      <td>3.3M</td>\n",
       "      <td>3M</td>\n",
       "      <td>481.0</td>\n",
       "      <td>0.81</td>\n",
       "      <td>17.85</td>\n",
       "      <td>India</td>\n",
       "    </tr>\n",
       "    <tr>\n",
       "      <th>1</th>\n",
       "      <td>2</td>\n",
       "      <td>1425743821</td>\n",
       "      <td>1425887337</td>\n",
       "      <td>9.7M</td>\n",
       "      <td>9.4M</td>\n",
       "      <td>151.0</td>\n",
       "      <td>-0.02</td>\n",
       "      <td>17.81</td>\n",
       "      <td>China</td>\n",
       "    </tr>\n",
       "    <tr>\n",
       "      <th>2</th>\n",
       "      <td>3</td>\n",
       "      <td>339212631</td>\n",
       "      <td>338289857</td>\n",
       "      <td>9.4M</td>\n",
       "      <td>9.1M</td>\n",
       "      <td>37.0</td>\n",
       "      <td>0.50</td>\n",
       "      <td>4.25</td>\n",
       "      <td>United States</td>\n",
       "    </tr>\n",
       "    <tr>\n",
       "      <th>3</th>\n",
       "      <td>4</td>\n",
       "      <td>276553195</td>\n",
       "      <td>275501339</td>\n",
       "      <td>1.9M</td>\n",
       "      <td>1.9M</td>\n",
       "      <td>148.0</td>\n",
       "      <td>0.74</td>\n",
       "      <td>3.47</td>\n",
       "      <td>Indonesia</td>\n",
       "    </tr>\n",
       "    <tr>\n",
       "      <th>4</th>\n",
       "      <td>5</td>\n",
       "      <td>238468483</td>\n",
       "      <td>235824862</td>\n",
       "      <td>881.9K</td>\n",
       "      <td>770.9K</td>\n",
       "      <td>312.0</td>\n",
       "      <td>1.98</td>\n",
       "      <td>3.00</td>\n",
       "      <td>Pakistan</td>\n",
       "    </tr>\n",
       "    <tr>\n",
       "      <th>...</th>\n",
       "      <td>...</td>\n",
       "      <td>...</td>\n",
       "      <td>...</td>\n",
       "      <td>...</td>\n",
       "      <td>...</td>\n",
       "      <td>...</td>\n",
       "      <td>...</td>\n",
       "      <td>...</td>\n",
       "      <td>...</td>\n",
       "    </tr>\n",
       "    <tr>\n",
       "      <th>200</th>\n",
       "      <td>218</td>\n",
       "      <td>33642</td>\n",
       "      <td>33660</td>\n",
       "      <td>61</td>\n",
       "      <td>60</td>\n",
       "      <td>561.0</td>\n",
       "      <td>-0.05</td>\n",
       "      <td>0.00</td>\n",
       "      <td>San Marino</td>\n",
       "    </tr>\n",
       "    <tr>\n",
       "      <th>201</th>\n",
       "      <td>222</td>\n",
       "      <td>18058</td>\n",
       "      <td>18055</td>\n",
       "      <td>459</td>\n",
       "      <td>460</td>\n",
       "      <td>39.0</td>\n",
       "      <td>0.02</td>\n",
       "      <td>0.00</td>\n",
       "      <td>Palau</td>\n",
       "    </tr>\n",
       "    <tr>\n",
       "      <th>202</th>\n",
       "      <td>225</td>\n",
       "      <td>12780</td>\n",
       "      <td>12668</td>\n",
       "      <td>21</td>\n",
       "      <td>20</td>\n",
       "      <td>639.0</td>\n",
       "      <td>0.88</td>\n",
       "      <td>0.00</td>\n",
       "      <td>Nauru</td>\n",
       "    </tr>\n",
       "    <tr>\n",
       "      <th>203</th>\n",
       "      <td>227</td>\n",
       "      <td>11396</td>\n",
       "      <td>11312</td>\n",
       "      <td>26</td>\n",
       "      <td>30</td>\n",
       "      <td>380.0</td>\n",
       "      <td>0.74</td>\n",
       "      <td>0.00</td>\n",
       "      <td>Tuvalu</td>\n",
       "    </tr>\n",
       "    <tr>\n",
       "      <th>204</th>\n",
       "      <td>234</td>\n",
       "      <td>518</td>\n",
       "      <td>510</td>\n",
       "      <td>1</td>\n",
       "      <td>1</td>\n",
       "      <td>1177.0</td>\n",
       "      <td>1.57</td>\n",
       "      <td>0.00</td>\n",
       "      <td>Vatican City</td>\n",
       "    </tr>\n",
       "  </tbody>\n",
       "</table>\n",
       "<p>205 rows × 9 columns</p>\n",
       "</div>"
      ],
      "text/plain": [
       "     rank        2023        2022    area land_area  density  growth  world %  \\\n",
       "0       1  1425768271  1417173173    3.3M        3M    481.0    0.81    17.85   \n",
       "1       2  1425743821  1425887337    9.7M      9.4M    151.0   -0.02    17.81   \n",
       "2       3   339212631   338289857    9.4M      9.1M     37.0    0.50     4.25   \n",
       "3       4   276553195   275501339    1.9M      1.9M    148.0    0.74     3.47   \n",
       "4       5   238468483   235824862  881.9K    770.9K    312.0    1.98     3.00   \n",
       "..    ...         ...         ...     ...       ...      ...     ...      ...   \n",
       "200   218       33642       33660      61        60    561.0   -0.05     0.00   \n",
       "201   222       18058       18055     459       460     39.0    0.02     0.00   \n",
       "202   225       12780       12668      21        20    639.0    0.88     0.00   \n",
       "203   227       11396       11312      26        30    380.0    0.74     0.00   \n",
       "204   234         518         510       1         1   1177.0    1.57     0.00   \n",
       "\n",
       "              name  \n",
       "0            India  \n",
       "1            China  \n",
       "2    United States  \n",
       "3        Indonesia  \n",
       "4         Pakistan  \n",
       "..             ...  \n",
       "200     San Marino  \n",
       "201          Palau  \n",
       "202          Nauru  \n",
       "203         Tuvalu  \n",
       "204   Vatican City  \n",
       "\n",
       "[205 rows x 9 columns]"
      ]
     },
     "execution_count": 8,
     "metadata": {},
     "output_type": "execute_result"
    }
   ],
   "source": [
    "df.growth = df.growth.str.extract('(-*\\d+\\.\\d+)').astype(\"float64\") # or simpler: df.growth.str.replace(\"%\", \"\").astype(float)\n",
    "df[\"world %\"] = df[\"world %\"].str.extract('(-*\\d+\\.\\d+)').astype(\"float64\")\n",
    "df"
   ]
  },
  {
   "cell_type": "markdown",
   "id": "88f11064",
   "metadata": {},
   "source": [
    "6. We don't need the rank, area, and land_area in our analysis.<br>\n",
    "__Remove the rank, area, land_area columns__ and __print the DataFrame__."
   ]
  },
  {
   "cell_type": "code",
   "execution_count": 9,
   "id": "d25b4527",
   "metadata": {},
   "outputs": [
    {
     "data": {
      "text/html": [
       "<div>\n",
       "<style scoped>\n",
       "    .dataframe tbody tr th:only-of-type {\n",
       "        vertical-align: middle;\n",
       "    }\n",
       "\n",
       "    .dataframe tbody tr th {\n",
       "        vertical-align: top;\n",
       "    }\n",
       "\n",
       "    .dataframe thead th {\n",
       "        text-align: right;\n",
       "    }\n",
       "</style>\n",
       "<table border=\"1\" class=\"dataframe\">\n",
       "  <thead>\n",
       "    <tr style=\"text-align: right;\">\n",
       "      <th></th>\n",
       "      <th>2023</th>\n",
       "      <th>2022</th>\n",
       "      <th>density</th>\n",
       "      <th>growth</th>\n",
       "      <th>world %</th>\n",
       "      <th>name</th>\n",
       "    </tr>\n",
       "  </thead>\n",
       "  <tbody>\n",
       "    <tr>\n",
       "      <th>0</th>\n",
       "      <td>1425768271</td>\n",
       "      <td>1417173173</td>\n",
       "      <td>481.0</td>\n",
       "      <td>0.81</td>\n",
       "      <td>17.85</td>\n",
       "      <td>India</td>\n",
       "    </tr>\n",
       "    <tr>\n",
       "      <th>1</th>\n",
       "      <td>1425743821</td>\n",
       "      <td>1425887337</td>\n",
       "      <td>151.0</td>\n",
       "      <td>-0.02</td>\n",
       "      <td>17.81</td>\n",
       "      <td>China</td>\n",
       "    </tr>\n",
       "    <tr>\n",
       "      <th>2</th>\n",
       "      <td>339212631</td>\n",
       "      <td>338289857</td>\n",
       "      <td>37.0</td>\n",
       "      <td>0.50</td>\n",
       "      <td>4.25</td>\n",
       "      <td>United States</td>\n",
       "    </tr>\n",
       "    <tr>\n",
       "      <th>3</th>\n",
       "      <td>276553195</td>\n",
       "      <td>275501339</td>\n",
       "      <td>148.0</td>\n",
       "      <td>0.74</td>\n",
       "      <td>3.47</td>\n",
       "      <td>Indonesia</td>\n",
       "    </tr>\n",
       "    <tr>\n",
       "      <th>4</th>\n",
       "      <td>238468483</td>\n",
       "      <td>235824862</td>\n",
       "      <td>312.0</td>\n",
       "      <td>1.98</td>\n",
       "      <td>3.00</td>\n",
       "      <td>Pakistan</td>\n",
       "    </tr>\n",
       "    <tr>\n",
       "      <th>...</th>\n",
       "      <td>...</td>\n",
       "      <td>...</td>\n",
       "      <td>...</td>\n",
       "      <td>...</td>\n",
       "      <td>...</td>\n",
       "      <td>...</td>\n",
       "    </tr>\n",
       "    <tr>\n",
       "      <th>200</th>\n",
       "      <td>33642</td>\n",
       "      <td>33660</td>\n",
       "      <td>561.0</td>\n",
       "      <td>-0.05</td>\n",
       "      <td>0.00</td>\n",
       "      <td>San Marino</td>\n",
       "    </tr>\n",
       "    <tr>\n",
       "      <th>201</th>\n",
       "      <td>18058</td>\n",
       "      <td>18055</td>\n",
       "      <td>39.0</td>\n",
       "      <td>0.02</td>\n",
       "      <td>0.00</td>\n",
       "      <td>Palau</td>\n",
       "    </tr>\n",
       "    <tr>\n",
       "      <th>202</th>\n",
       "      <td>12780</td>\n",
       "      <td>12668</td>\n",
       "      <td>639.0</td>\n",
       "      <td>0.88</td>\n",
       "      <td>0.00</td>\n",
       "      <td>Nauru</td>\n",
       "    </tr>\n",
       "    <tr>\n",
       "      <th>203</th>\n",
       "      <td>11396</td>\n",
       "      <td>11312</td>\n",
       "      <td>380.0</td>\n",
       "      <td>0.74</td>\n",
       "      <td>0.00</td>\n",
       "      <td>Tuvalu</td>\n",
       "    </tr>\n",
       "    <tr>\n",
       "      <th>204</th>\n",
       "      <td>518</td>\n",
       "      <td>510</td>\n",
       "      <td>1177.0</td>\n",
       "      <td>1.57</td>\n",
       "      <td>0.00</td>\n",
       "      <td>Vatican City</td>\n",
       "    </tr>\n",
       "  </tbody>\n",
       "</table>\n",
       "<p>205 rows × 6 columns</p>\n",
       "</div>"
      ],
      "text/plain": [
       "           2023        2022  density  growth  world %           name\n",
       "0    1425768271  1417173173    481.0    0.81    17.85          India\n",
       "1    1425743821  1425887337    151.0   -0.02    17.81          China\n",
       "2     339212631   338289857     37.0    0.50     4.25  United States\n",
       "3     276553195   275501339    148.0    0.74     3.47      Indonesia\n",
       "4     238468483   235824862    312.0    1.98     3.00       Pakistan\n",
       "..          ...         ...      ...     ...      ...            ...\n",
       "200       33642       33660    561.0   -0.05     0.00     San Marino\n",
       "201       18058       18055     39.0    0.02     0.00          Palau\n",
       "202       12780       12668    639.0    0.88     0.00          Nauru\n",
       "203       11396       11312    380.0    0.74     0.00         Tuvalu\n",
       "204         518         510   1177.0    1.57     0.00   Vatican City\n",
       "\n",
       "[205 rows x 6 columns]"
      ]
     },
     "execution_count": 9,
     "metadata": {},
     "output_type": "execute_result"
    }
   ],
   "source": [
    "df = df.drop(columns=[\"rank\", \"area\", \"land_area\"]) \n",
    "# or df.drop(columns=[\"rank\", \"area\", \"land_area\"], inplace=True) then you wont have to assign, df will automatically be modified\n",
    "df"
   ]
  },
  {
   "cell_type": "markdown",
   "id": "e2be8c30",
   "metadata": {},
   "source": [
    "7. __Check that all data are now numbers except for the country names__."
   ]
  },
  {
   "cell_type": "code",
   "execution_count": 10,
   "id": "bc98b893",
   "metadata": {},
   "outputs": [
    {
     "name": "stdout",
     "output_type": "stream",
     "text": [
      "column, data type:\n"
     ]
    },
    {
     "data": {
      "text/plain": [
       "2023         int64\n",
       "2022         int64\n",
       "density    float64\n",
       "growth     float64\n",
       "world %    float64\n",
       "name        object\n",
       "dtype: object"
      ]
     },
     "execution_count": 10,
     "metadata": {},
     "output_type": "execute_result"
    }
   ],
   "source": [
    "print(\"column, data type:\")\n",
    "df.dtypes"
   ]
  },
  {
   "cell_type": "markdown",
   "id": "b882ac2e",
   "metadata": {},
   "source": [
    "8. Now that all data are numbers and can be used for analysis, the last step is to make the country names the index column of the DataFrame. This way it will be easier to select the row for \"United States\" by using the country name instead of index 2.<br>\n",
    "__Change the index to the country names__.<br>\n",
    "Then __print the DataFrame__."
   ]
  },
  {
   "cell_type": "code",
   "execution_count": 11,
   "id": "1b9d2d4c",
   "metadata": {},
   "outputs": [
    {
     "data": {
      "text/html": [
       "<div>\n",
       "<style scoped>\n",
       "    .dataframe tbody tr th:only-of-type {\n",
       "        vertical-align: middle;\n",
       "    }\n",
       "\n",
       "    .dataframe tbody tr th {\n",
       "        vertical-align: top;\n",
       "    }\n",
       "\n",
       "    .dataframe thead th {\n",
       "        text-align: right;\n",
       "    }\n",
       "</style>\n",
       "<table border=\"1\" class=\"dataframe\">\n",
       "  <thead>\n",
       "    <tr style=\"text-align: right;\">\n",
       "      <th></th>\n",
       "      <th>2023</th>\n",
       "      <th>2022</th>\n",
       "      <th>density</th>\n",
       "      <th>growth</th>\n",
       "      <th>world %</th>\n",
       "    </tr>\n",
       "    <tr>\n",
       "      <th>name</th>\n",
       "      <th></th>\n",
       "      <th></th>\n",
       "      <th></th>\n",
       "      <th></th>\n",
       "      <th></th>\n",
       "    </tr>\n",
       "  </thead>\n",
       "  <tbody>\n",
       "    <tr>\n",
       "      <th>India</th>\n",
       "      <td>1425768271</td>\n",
       "      <td>1417173173</td>\n",
       "      <td>481.0</td>\n",
       "      <td>0.81</td>\n",
       "      <td>17.85</td>\n",
       "    </tr>\n",
       "    <tr>\n",
       "      <th>China</th>\n",
       "      <td>1425743821</td>\n",
       "      <td>1425887337</td>\n",
       "      <td>151.0</td>\n",
       "      <td>-0.02</td>\n",
       "      <td>17.81</td>\n",
       "    </tr>\n",
       "    <tr>\n",
       "      <th>United States</th>\n",
       "      <td>339212631</td>\n",
       "      <td>338289857</td>\n",
       "      <td>37.0</td>\n",
       "      <td>0.50</td>\n",
       "      <td>4.25</td>\n",
       "    </tr>\n",
       "    <tr>\n",
       "      <th>Indonesia</th>\n",
       "      <td>276553195</td>\n",
       "      <td>275501339</td>\n",
       "      <td>148.0</td>\n",
       "      <td>0.74</td>\n",
       "      <td>3.47</td>\n",
       "    </tr>\n",
       "    <tr>\n",
       "      <th>Pakistan</th>\n",
       "      <td>238468483</td>\n",
       "      <td>235824862</td>\n",
       "      <td>312.0</td>\n",
       "      <td>1.98</td>\n",
       "      <td>3.00</td>\n",
       "    </tr>\n",
       "    <tr>\n",
       "      <th>...</th>\n",
       "      <td>...</td>\n",
       "      <td>...</td>\n",
       "      <td>...</td>\n",
       "      <td>...</td>\n",
       "      <td>...</td>\n",
       "    </tr>\n",
       "    <tr>\n",
       "      <th>San Marino</th>\n",
       "      <td>33642</td>\n",
       "      <td>33660</td>\n",
       "      <td>561.0</td>\n",
       "      <td>-0.05</td>\n",
       "      <td>0.00</td>\n",
       "    </tr>\n",
       "    <tr>\n",
       "      <th>Palau</th>\n",
       "      <td>18058</td>\n",
       "      <td>18055</td>\n",
       "      <td>39.0</td>\n",
       "      <td>0.02</td>\n",
       "      <td>0.00</td>\n",
       "    </tr>\n",
       "    <tr>\n",
       "      <th>Nauru</th>\n",
       "      <td>12780</td>\n",
       "      <td>12668</td>\n",
       "      <td>639.0</td>\n",
       "      <td>0.88</td>\n",
       "      <td>0.00</td>\n",
       "    </tr>\n",
       "    <tr>\n",
       "      <th>Tuvalu</th>\n",
       "      <td>11396</td>\n",
       "      <td>11312</td>\n",
       "      <td>380.0</td>\n",
       "      <td>0.74</td>\n",
       "      <td>0.00</td>\n",
       "    </tr>\n",
       "    <tr>\n",
       "      <th>Vatican City</th>\n",
       "      <td>518</td>\n",
       "      <td>510</td>\n",
       "      <td>1177.0</td>\n",
       "      <td>1.57</td>\n",
       "      <td>0.00</td>\n",
       "    </tr>\n",
       "  </tbody>\n",
       "</table>\n",
       "<p>205 rows × 5 columns</p>\n",
       "</div>"
      ],
      "text/plain": [
       "                     2023        2022  density  growth  world %\n",
       "name                                                           \n",
       "India          1425768271  1417173173    481.0    0.81    17.85\n",
       "China          1425743821  1425887337    151.0   -0.02    17.81\n",
       "United States   339212631   338289857     37.0    0.50     4.25\n",
       "Indonesia       276553195   275501339    148.0    0.74     3.47\n",
       "Pakistan        238468483   235824862    312.0    1.98     3.00\n",
       "...                   ...         ...      ...     ...      ...\n",
       "San Marino          33642       33660    561.0   -0.05     0.00\n",
       "Palau               18058       18055     39.0    0.02     0.00\n",
       "Nauru               12780       12668    639.0    0.88     0.00\n",
       "Tuvalu              11396       11312    380.0    0.74     0.00\n",
       "Vatican City          518         510   1177.0    1.57     0.00\n",
       "\n",
       "[205 rows x 5 columns]"
      ]
     },
     "execution_count": 11,
     "metadata": {},
     "output_type": "execute_result"
    }
   ],
   "source": [
    "df.set_index(\"name\", inplace=True)\n",
    "df"
   ]
  },
  {
   "cell_type": "markdown",
   "id": "522a13c2",
   "metadata": {},
   "source": [
    "---"
   ]
  },
  {
   "cell_type": "markdown",
   "id": "66e580fb",
   "metadata": {},
   "source": [
    "#### Part B: Data Analysis and Visualization"
   ]
  },
  {
   "cell_type": "markdown",
   "id": "59163c2e",
   "metadata": {},
   "source": [
    "9a. First, we look at an overview of the world population:\n",
    "- Are most countries in the same small range of population, or is the population uniformly distributed?\n",
    "- What is that range? \n",
    "- Are there any outliers?\n",
    "\n",
    "__Use an _appropriate_ plot to show the population of the countries__, such that the answers to the 3 questions can be inferred from the plot.\n",
    "\n",
    "_The plot should have a title and appropriate axis labels_.<br>\n",
    "_If the plot you choose has keyword arguments that we've discussed in class, use them to make the plot as clear as possible_."
   ]
  },
  {
   "cell_type": "code",
   "execution_count": 12,
   "id": "07cf841e",
   "metadata": {},
   "outputs": [
    {
     "data": {
      "text/plain": [
       "(array([180.,  12.,   5.,   3.,   2.,   1.,   0.,   0.,   0.,   0.,   0.,\n",
       "          0.,   0.,   0.,   0.,   0.,   0.,   0.,   0.,   0.,   0.,   0.,\n",
       "          0.,   0.,   2.]),\n",
       " array([5.18000000e+02, 5.70312281e+07, 1.14061938e+08, 1.71092648e+08,\n",
       "        2.28123358e+08, 2.85154069e+08, 3.42184779e+08, 3.99215489e+08,\n",
       "        4.56246199e+08, 5.13276909e+08, 5.70307619e+08, 6.27338329e+08,\n",
       "        6.84369039e+08, 7.41399750e+08, 7.98430460e+08, 8.55461170e+08,\n",
       "        9.12491880e+08, 9.69522590e+08, 1.02655330e+09, 1.08358401e+09,\n",
       "        1.14061472e+09, 1.19764543e+09, 1.25467614e+09, 1.31170685e+09,\n",
       "        1.36873756e+09, 1.42576827e+09]),\n",
       " <BarContainer object of 25 artists>)"
      ]
     },
     "execution_count": 12,
     "metadata": {},
     "output_type": "execute_result"
    },
    {
     "data": {
      "image/png": "[encoded data removed]",
      "text/plain": [
       "<Figure size 640x480 with 1 Axes>"
      ]
     },
     "metadata": {},
     "output_type": "display_data"
    }
   ],
   "source": [
    "plt.title(\"2023 world population distribution\")\n",
    "plt.xlabel(\"number of people (in billions)\")\n",
    "plt.ylabel(\"number of countries\")\n",
    "plt.hist(df[\"2023\"], bins = 25)"
   ]
  },
  {
   "cell_type": "markdown",
   "id": "8b430920",
   "metadata": {},
   "source": [
    "9b. Create a Raw NBConvert cell to __answer the 3 questions of part a__ by referring to your plot."
   ]
  },
  {
   "cell_type": "raw",
   "id": "821fcdff",
   "metadata": {},
   "source": [
    "1. Most countries are in the same small range of population, from 0 to about 100 million people. 200 out of the 205 countries lie within this range. \n",
    "2. The range is about 1.4 billion people\n",
    "3. There are most definitely outliers at the 1.4 billion mark."
   ]
  },
  {
   "cell_type": "markdown",
   "id": "e541d07e",
   "metadata": {},
   "source": [
    "10. Next we investigate the growth rates of the countries of the world.\n",
    "\n",
    "10a. __Show the rows of the top 15 countries with the highest growth percentage__, sorted by highest to lowest growth rate."
   ]
  },
  {
   "cell_type": "code",
   "execution_count": 13,
   "id": "dfe47bcf",
   "metadata": {},
   "outputs": [
    {
     "data": {
      "text/html": [
       "<div>\n",
       "<style scoped>\n",
       "    .dataframe tbody tr th:only-of-type {\n",
       "        vertical-align: middle;\n",
       "    }\n",
       "\n",
       "    .dataframe tbody tr th {\n",
       "        vertical-align: top;\n",
       "    }\n",
       "\n",
       "    .dataframe thead th {\n",
       "        text-align: right;\n",
       "    }\n",
       "</style>\n",
       "<table border=\"1\" class=\"dataframe\">\n",
       "  <thead>\n",
       "    <tr style=\"text-align: right;\">\n",
       "      <th></th>\n",
       "      <th>2023</th>\n",
       "      <th>2022</th>\n",
       "      <th>density</th>\n",
       "      <th>growth</th>\n",
       "      <th>world %</th>\n",
       "    </tr>\n",
       "    <tr>\n",
       "      <th>name</th>\n",
       "      <th></th>\n",
       "      <th></th>\n",
       "      <th></th>\n",
       "      <th></th>\n",
       "      <th></th>\n",
       "    </tr>\n",
       "  </thead>\n",
       "  <tbody>\n",
       "    <tr>\n",
       "      <th>Moldova</th>\n",
       "      <td>3488553</td>\n",
       "      <td>3272996</td>\n",
       "      <td>104.0</td>\n",
       "      <td>4.98</td>\n",
       "      <td>0.04</td>\n",
       "    </tr>\n",
       "    <tr>\n",
       "      <th>Syria</th>\n",
       "      <td>22742622</td>\n",
       "      <td>22125249</td>\n",
       "      <td>126.0</td>\n",
       "      <td>4.98</td>\n",
       "      <td>0.29</td>\n",
       "    </tr>\n",
       "    <tr>\n",
       "      <th>Niger</th>\n",
       "      <td>26769724</td>\n",
       "      <td>26207977</td>\n",
       "      <td>21.0</td>\n",
       "      <td>3.80</td>\n",
       "      <td>0.34</td>\n",
       "    </tr>\n",
       "    <tr>\n",
       "      <th>Dr Congo</th>\n",
       "      <td>100846063</td>\n",
       "      <td>99010212</td>\n",
       "      <td>45.0</td>\n",
       "      <td>3.29</td>\n",
       "      <td>1.28</td>\n",
       "    </tr>\n",
       "    <tr>\n",
       "      <th>Chad</th>\n",
       "      <td>18038396</td>\n",
       "      <td>17723315</td>\n",
       "      <td>15.0</td>\n",
       "      <td>3.13</td>\n",
       "      <td>0.23</td>\n",
       "    </tr>\n",
       "    <tr>\n",
       "      <th>Somalia</th>\n",
       "      <td>17905905</td>\n",
       "      <td>17597511</td>\n",
       "      <td>29.0</td>\n",
       "      <td>3.10</td>\n",
       "      <td>0.23</td>\n",
       "    </tr>\n",
       "    <tr>\n",
       "      <th>Mali</th>\n",
       "      <td>22990110</td>\n",
       "      <td>22593590</td>\n",
       "      <td>19.0</td>\n",
       "      <td>3.10</td>\n",
       "      <td>0.29</td>\n",
       "    </tr>\n",
       "    <tr>\n",
       "      <th>Angola</th>\n",
       "      <td>36209255</td>\n",
       "      <td>35588987</td>\n",
       "      <td>29.0</td>\n",
       "      <td>3.08</td>\n",
       "      <td>0.46</td>\n",
       "    </tr>\n",
       "    <tr>\n",
       "      <th>Mayotte</th>\n",
       "      <td>331947</td>\n",
       "      <td>326101</td>\n",
       "      <td>898.0</td>\n",
       "      <td>3.03</td>\n",
       "      <td>0.00</td>\n",
       "    </tr>\n",
       "    <tr>\n",
       "      <th>Tanzania</th>\n",
       "      <td>66598853</td>\n",
       "      <td>65497748</td>\n",
       "      <td>76.0</td>\n",
       "      <td>2.96</td>\n",
       "      <td>0.84</td>\n",
       "    </tr>\n",
       "    <tr>\n",
       "      <th>Poland</th>\n",
       "      <td>41411961</td>\n",
       "      <td>39857145</td>\n",
       "      <td>134.0</td>\n",
       "      <td>2.93</td>\n",
       "      <td>0.51</td>\n",
       "    </tr>\n",
       "    <tr>\n",
       "      <th>Central African Republic</th>\n",
       "      <td>5670803</td>\n",
       "      <td>5579144</td>\n",
       "      <td>9.0</td>\n",
       "      <td>2.92</td>\n",
       "      <td>0.07</td>\n",
       "    </tr>\n",
       "    <tr>\n",
       "      <th>Uganda</th>\n",
       "      <td>48011588</td>\n",
       "      <td>47249585</td>\n",
       "      <td>242.0</td>\n",
       "      <td>2.82</td>\n",
       "      <td>0.61</td>\n",
       "    </tr>\n",
       "    <tr>\n",
       "      <th>Mozambique</th>\n",
       "      <td>33489871</td>\n",
       "      <td>32969518</td>\n",
       "      <td>43.0</td>\n",
       "      <td>2.81</td>\n",
       "      <td>0.42</td>\n",
       "    </tr>\n",
       "    <tr>\n",
       "      <th>Zambia</th>\n",
       "      <td>20329565</td>\n",
       "      <td>20017675</td>\n",
       "      <td>28.0</td>\n",
       "      <td>2.76</td>\n",
       "      <td>0.26</td>\n",
       "    </tr>\n",
       "  </tbody>\n",
       "</table>\n",
       "</div>"
      ],
      "text/plain": [
       "                               2023      2022  density  growth  world %\n",
       "name                                                                   \n",
       "Moldova                     3488553   3272996    104.0    4.98     0.04\n",
       "Syria                      22742622  22125249    126.0    4.98     0.29\n",
       "Niger                      26769724  26207977     21.0    3.80     0.34\n",
       "Dr Congo                  100846063  99010212     45.0    3.29     1.28\n",
       "Chad                       18038396  17723315     15.0    3.13     0.23\n",
       "Somalia                    17905905  17597511     29.0    3.10     0.23\n",
       "Mali                       22990110  22593590     19.0    3.10     0.29\n",
       "Angola                     36209255  35588987     29.0    3.08     0.46\n",
       "Mayotte                      331947    326101    898.0    3.03     0.00\n",
       "Tanzania                   66598853  65497748     76.0    2.96     0.84\n",
       "Poland                     41411961  39857145    134.0    2.93     0.51\n",
       "Central African Republic    5670803   5579144      9.0    2.92     0.07\n",
       "Uganda                     48011588  47249585    242.0    2.82     0.61\n",
       "Mozambique                 33489871  32969518     43.0    2.81     0.42\n",
       "Zambia                     20329565  20017675     28.0    2.76     0.26"
      ]
     },
     "execution_count": 13,
     "metadata": {},
     "output_type": "execute_result"
    }
   ],
   "source": [
    "df.sort_values(by=\"growth\", ascending=False, inplace=True)\n",
    "fifteen = df.head(15)\n",
    "fifteen"
   ]
  },
  {
   "cell_type": "markdown",
   "id": "8724227e",
   "metadata": {},
   "source": [
    "10b. __Use an _appropriate_ plot to show the growth percentage of the 15 countries with high growth__.<br>\n",
    "The plot should have a title and axis labels.<br>\n",
    "The country names should appear clearly on the plot, not too small or overlapping each other."
   ]
  },
  {
   "cell_type": "code",
   "execution_count": 14,
   "id": "7a4a8c6f",
   "metadata": {},
   "outputs": [
    {
     "data": {
      "text/plain": [
       "<BarContainer object of 15 artists>"
      ]
     },
     "execution_count": 14,
     "metadata": {},
     "output_type": "execute_result"
    },
    {
     "data": {
      "image/png": "[encoded data removed]",
      "text/plain": [
       "<Figure size 640x480 with 1 Axes>"
      ]
     },
     "metadata": {},
     "output_type": "display_data"
    }
   ],
   "source": [
    "plt.title(\"Top 15 population growth countries\")\n",
    "plt.xlabel(\"percentage growth\")\n",
    "plt.ylabel(\"countries\")\n",
    "plt.barh(fifteen.index, fifteen.growth, align=\"center\")"
   ]
  },
  {
   "cell_type": "markdown",
   "id": "cdeed415",
   "metadata": {},
   "source": [
    "10c. Create a Raw NBConvert cell to answer the following questions about the 15 top growing countries (do some online look up if needed):\n",
    "1. What continent are most countries in?\n",
    "2. What are the only countries not in the continent of your answer 1, and why do you think they have a high growth percentage recently?\n",
    "3. Of the 2 countries in Europe, why does Poland *not* have the higher growth rate, even though they seem to have a high population movement in the news?<br>\n",
    "To answer question 3, create a Code cell to print data from the DataFrame to back your explanation."
   ]
  },
  {
   "cell_type": "raw",
   "id": "423295aa",
   "metadata": {},
   "source": [
    "1. Most of these countries are in Africa. \n",
    "2. The exceptions to this are Poland, Syria, and Moldova.Because of their proximity to Ukraine, Moldova and Poland have experienced an uptick in their populations from Ukrainian refugees fleeing the conflict in their home country, which could have contributed to Moldova's and Poland's high population growth. Now that the Syrian Civil War has ended, it could be that refugees who fled elsewhere are returning to their home country, causing the high population growth there.\n",
    "3. Both Poland and Moldova are getting Ukrainian refugees, but it seems that the influx of Ukrainian refugees into Moldova has had a much greater effect on Moldova's population growth than Poland's. But the population growth is a percentage with respect to the current population. Since Moldova's population is so small, an influx of 50,000 refugees is a big proportion in comparison, whereas an influx of 50,000 refugees into Poland would be a much smaller proportion. Same drop of water into a small bucket of water versus a big bucket of water."
   ]
  },
  {
   "cell_type": "code",
   "execution_count": 15,
   "id": "5a67e1ac",
   "metadata": {},
   "outputs": [
    {
     "name": "stdout",
     "output_type": "stream",
     "text": [
      "Ukraine's growth rate is -7.45%. Compare this to the median growth rate of all the countries: 0.89%.\n"
     ]
    }
   ],
   "source": [
    "# 3 continued:\n",
    "print(f\"Ukraine's growth rate is {df.at['Ukraine', 'growth']}%. Compare this to the median growth rate of all the countries: {df.growth.median()}%.\")"
   ]
  },
  {
   "cell_type": "markdown",
   "id": "495cf267",
   "metadata": {},
   "source": [
    "11a. Now let's look at the negative growth percentage.<br>\n",
    "__Show the rows of the top 15 countries with the smallest growth rate__, sorted by smallest to largest growth.<br>\n",
    "_Hint: the smallest growth rate is negative_"
   ]
  },
  {
   "cell_type": "code",
   "execution_count": 16,
   "id": "6b564114",
   "metadata": {},
   "outputs": [
    {
     "data": {
      "text/html": [
       "<div>\n",
       "<style scoped>\n",
       "    .dataframe tbody tr th:only-of-type {\n",
       "        vertical-align: middle;\n",
       "    }\n",
       "\n",
       "    .dataframe tbody tr th {\n",
       "        vertical-align: top;\n",
       "    }\n",
       "\n",
       "    .dataframe thead th {\n",
       "        text-align: right;\n",
       "    }\n",
       "</style>\n",
       "<table border=\"1\" class=\"dataframe\">\n",
       "  <thead>\n",
       "    <tr style=\"text-align: right;\">\n",
       "      <th></th>\n",
       "      <th>2023</th>\n",
       "      <th>2022</th>\n",
       "      <th>density</th>\n",
       "      <th>growth</th>\n",
       "      <th>world %</th>\n",
       "    </tr>\n",
       "    <tr>\n",
       "      <th>name</th>\n",
       "      <th></th>\n",
       "      <th></th>\n",
       "      <th></th>\n",
       "      <th></th>\n",
       "      <th></th>\n",
       "    </tr>\n",
       "  </thead>\n",
       "  <tbody>\n",
       "    <tr>\n",
       "      <th>Ukraine</th>\n",
       "      <td>36167142</td>\n",
       "      <td>39701739</td>\n",
       "      <td>63.0</td>\n",
       "      <td>-7.45</td>\n",
       "      <td>0.46</td>\n",
       "    </tr>\n",
       "    <tr>\n",
       "      <th>Lebanon</th>\n",
       "      <td>5414648</td>\n",
       "      <td>5489739</td>\n",
       "      <td>523.0</td>\n",
       "      <td>-2.47</td>\n",
       "      <td>0.07</td>\n",
       "    </tr>\n",
       "    <tr>\n",
       "      <th>Bulgaria</th>\n",
       "      <td>6724148</td>\n",
       "      <td>6781953</td>\n",
       "      <td>62.0</td>\n",
       "      <td>-1.39</td>\n",
       "      <td>0.08</td>\n",
       "    </tr>\n",
       "    <tr>\n",
       "      <th>Lithuania</th>\n",
       "      <td>2729146</td>\n",
       "      <td>2750055</td>\n",
       "      <td>43.0</td>\n",
       "      <td>-1.15</td>\n",
       "      <td>0.03</td>\n",
       "    </tr>\n",
       "    <tr>\n",
       "      <th>Latvia</th>\n",
       "      <td>1838307</td>\n",
       "      <td>1850651</td>\n",
       "      <td>29.0</td>\n",
       "      <td>-1.10</td>\n",
       "      <td>0.02</td>\n",
       "    </tr>\n",
       "    <tr>\n",
       "      <th>Serbia</th>\n",
       "      <td>7176063</td>\n",
       "      <td>7221365</td>\n",
       "      <td>82.0</td>\n",
       "      <td>-1.00</td>\n",
       "      <td>0.09</td>\n",
       "    </tr>\n",
       "    <tr>\n",
       "      <th>Bosnia And Herzegovina</th>\n",
       "      <td>3218943</td>\n",
       "      <td>3233526</td>\n",
       "      <td>63.0</td>\n",
       "      <td>-0.70</td>\n",
       "      <td>0.04</td>\n",
       "    </tr>\n",
       "    <tr>\n",
       "      <th>Croatia</th>\n",
       "      <td>4018062</td>\n",
       "      <td>4030358</td>\n",
       "      <td>72.0</td>\n",
       "      <td>-0.54</td>\n",
       "      <td>0.05</td>\n",
       "    </tr>\n",
       "    <tr>\n",
       "      <th>Maldives</th>\n",
       "      <td>522370</td>\n",
       "      <td>523787</td>\n",
       "      <td>1737.0</td>\n",
       "      <td>-0.53</td>\n",
       "      <td>0.01</td>\n",
       "    </tr>\n",
       "    <tr>\n",
       "      <th>Japan</th>\n",
       "      <td>123576513</td>\n",
       "      <td>123951692</td>\n",
       "      <td>338.0</td>\n",
       "      <td>-0.53</td>\n",
       "      <td>1.54</td>\n",
       "    </tr>\n",
       "    <tr>\n",
       "      <th>Monaco</th>\n",
       "      <td>36297</td>\n",
       "      <td>36469</td>\n",
       "      <td>18149.0</td>\n",
       "      <td>-0.47</td>\n",
       "      <td>0.00</td>\n",
       "    </tr>\n",
       "    <tr>\n",
       "      <th>Georgia</th>\n",
       "      <td>3735028</td>\n",
       "      <td>3744385</td>\n",
       "      <td>54.0</td>\n",
       "      <td>-0.43</td>\n",
       "      <td>0.05</td>\n",
       "    </tr>\n",
       "    <tr>\n",
       "      <th>Greece</th>\n",
       "      <td>10357468</td>\n",
       "      <td>10384971</td>\n",
       "      <td>80.0</td>\n",
       "      <td>-0.42</td>\n",
       "      <td>0.13</td>\n",
       "    </tr>\n",
       "    <tr>\n",
       "      <th>Belarus</th>\n",
       "      <td>9517128</td>\n",
       "      <td>9534954</td>\n",
       "      <td>47.0</td>\n",
       "      <td>-0.39</td>\n",
       "      <td>0.12</td>\n",
       "    </tr>\n",
       "    <tr>\n",
       "      <th>North Macedonia</th>\n",
       "      <td>2088378</td>\n",
       "      <td>2093599</td>\n",
       "      <td>83.0</td>\n",
       "      <td>-0.38</td>\n",
       "      <td>0.03</td>\n",
       "    </tr>\n",
       "  </tbody>\n",
       "</table>\n",
       "</div>"
      ],
      "text/plain": [
       "                             2023       2022  density  growth  world %\n",
       "name                                                                  \n",
       "Ukraine                  36167142   39701739     63.0   -7.45     0.46\n",
       "Lebanon                   5414648    5489739    523.0   -2.47     0.07\n",
       "Bulgaria                  6724148    6781953     62.0   -1.39     0.08\n",
       "Lithuania                 2729146    2750055     43.0   -1.15     0.03\n",
       "Latvia                    1838307    1850651     29.0   -1.10     0.02\n",
       "Serbia                    7176063    7221365     82.0   -1.00     0.09\n",
       "Bosnia And Herzegovina    3218943    3233526     63.0   -0.70     0.04\n",
       "Croatia                   4018062    4030358     72.0   -0.54     0.05\n",
       "Maldives                   522370     523787   1737.0   -0.53     0.01\n",
       "Japan                   123576513  123951692    338.0   -0.53     1.54\n",
       "Monaco                      36297      36469  18149.0   -0.47     0.00\n",
       "Georgia                   3735028    3744385     54.0   -0.43     0.05\n",
       "Greece                   10357468   10384971     80.0   -0.42     0.13\n",
       "Belarus                   9517128    9534954     47.0   -0.39     0.12\n",
       "North Macedonia           2088378    2093599     83.0   -0.38     0.03"
      ]
     },
     "execution_count": 16,
     "metadata": {},
     "output_type": "execute_result"
    }
   ],
   "source": [
    "bottom_fifteen = df.tail(15).sort_values(by=\"growth\") # smallest growth rate is the most negative one\n",
    "bottom_fifteen"
   ]
  },
  {
   "cell_type": "markdown",
   "id": "d40063e7",
   "metadata": {},
   "source": [
    "11b. __Use an _appropriate_ plot to show the growth percentage of the 15 countries with low growth__.<br>\n",
    "The plot should have a title and axis labels."
   ]
  },
  {
   "cell_type": "code",
   "execution_count": 17,
   "id": "12b37fd5",
   "metadata": {},
   "outputs": [
    {
     "data": {
      "text/plain": [
       "<BarContainer object of 15 artists>"
      ]
     },
     "execution_count": 17,
     "metadata": {},
     "output_type": "execute_result"
    },
    {
     "data": {
      "image/png": "[encoded data removed]",
      "text/plain": [
       "<Figure size 640x480 with 1 Axes>"
      ]
     },
     "metadata": {},
     "output_type": "display_data"
    }
   ],
   "source": [
    "plt.title(\"Bottom 15 population growth countries\")\n",
    "plt.xlabel(\"percentage growth\")\n",
    "plt.ylabel(\"countries\")\n",
    "plt.barh(bottom_fifteen.index, bottom_fifteen.growth, align=\"center\")"
   ]
  },
  {
   "cell_type": "raw",
   "id": "f6d38a4e",
   "metadata": {},
   "source": [
    "Sometimes visualization really drives the point home!"
   ]
  },
  {
   "cell_type": "markdown",
   "id": "3f3e0769",
   "metadata": {},
   "source": [
    "12. Next, we look at the population density.\n",
    "\n",
    "12a. __Print the names of all countries that are in the 75th percentile in population density__.<br>\n",
    "Then __print the names of all countries that are in the 25th percentile in population density__.\n",
    "\n",
    "_Since there will be many countries, print the countries of each percentile as one long, comma separated line of country names._\n",
    "_Make sure print a header line of text to explain which percentile is being printed. Don't just print 2 lines of country names_."
   ]
  },
  {
   "cell_type": "code",
   "execution_count": 261,
   "id": "fd00fc91",
   "metadata": {},
   "outputs": [
    {
     "name": "stdout",
     "output_type": "stream",
     "text": [
      "Countries in the 75th percentile or above in population density:\n",
      "Mayotte, Uganda, Burundi, Gambia, Nigeria, Palestine, Rwanda, Pakistan, Sao Tome And Principe, Comoros, Vatican City, Philippines, Israel, Haiti, Luxembourg, Bangladesh, Kuwait, Dominican Republic, Bahrain, Nauru, India, Reunion, Qatar, Tuvalu, Vietnam, Liechtenstein, Singapore, Grenada, El Salvador, United Kingdom, Malta, Netherlands, Sri Lanka, Belgium, Trinidad And Tobago, Puerto Rico, Saint Lucia, Taiwan, Barbados, Mauritius, Hong Kong, Guadeloupe, San Marino, Jamaica, South Korea, Germany, Martinique, Saint Vincent And The Grenadines, Monaco, Maldives, Japan, Lebanon\n",
      "Countries in the 25th percentile or below in population density: \n",
      "Niger, Chad, Somalia, Mali, Angola, Central African Republic, Zambia, Mauritania, Sudan, French Guiana, Vanuatu, Republic Of The Congo, Solomon Islands, Gabon, Western Sahara, Venezuela, Papua New Guinea, Eritrea, Botswana, South Sudan, Kyrgyzstan, Algeria, Oman, Saudi Arabia, Namibia, Mongolia, Laos, Belize, Bolivia, Turkmenistan, Paraguay, Libya, Kazakhstan, Australia, Peru, Canada, Suriname, New Zealand, Norway, Iceland, Bhutan, Guyana, Sweden, Argentina, Brazil, Greenland, Chile, Finland, Uruguay, Russia, Estonia, Latvia\n"
     ]
    }
   ],
   "source": [
    "print(\"Countries in the 75th percentile or above in population density:\") \n",
    "print(\", \".join(df[df.density>=np.percentile(df.density, 75)].index.values))\n",
    "print(\"Countries in the 25th percentile or below in population density: \") \n",
    "print(\", \".join(df[df.density<=np.percentile(df.density, 25)].index.values))"
   ]
  },
  {
   "cell_type": "markdown",
   "id": "28e7f7f8",
   "metadata": {},
   "source": [
    "12b. People tend to think that a place with high population density tends to have a lower quality of life, and a place with low population density tends to mean higher quality of life.<br>\n",
    "Based on the 2 list of countries, would you say that it's a correct assumption on a country-wide basis?\n",
    "\n",
    "__Create a Raw NBConvert cell to answer whether the assumption is correct__, and explain your answer with 1 or 2 examples of countries from the 2 lists that support your answer."
   ]
  },
  {
   "cell_type": "raw",
   "id": "af8da0d6",
   "metadata": {},
   "source": [
    "This assumption is not correct. Take, for example, Japan. It is in the list of countries the 75th percentile or above in population density, yet it's renowned A US News article ranking quality of life of the top 85 countries (https://www.usnews.com/news/best-countries/rankings/quality-of-life) puts Japan at #14 on its list. This contradicts the assumption that Japan would have a low quality of life just because it has a high population density."
   ]
  },
  {
   "cell_type": "markdown",
   "id": "9c4ea3be",
   "metadata": {},
   "source": [
    "13. Last, we look at the world % column.\n",
    "\n",
    "13a. __Create a plot with 4 subplots__ to show any correlation between the world % data and the other columns.<br>\n",
    "Use an _appropriate_ plot that will show correlation.<br>\n",
    "You should have 4 plots: 2023 & world %, 2022 & world %, density & world %, and growth & world %\n",
    "\n",
    "_The 4 subplots should be next to each other on one row._<br>\n",
    "_Each plot should have a title and axis labels_.<br>\n",
    "_Use a loop to code the 4 plots, don't copy and paste code 4 times._<br>\n",
    "_Adjust your figure so the 4 plots fit next to each other with no overlapping labels_."
   ]
  },
  {
   "cell_type": "code",
   "execution_count": 282,
   "id": "85b8604a",
   "metadata": {},
   "outputs": [
    {
     "data": {
      "image/png": "[encoded data removed]",
      "text/plain": [
       "<Figure size 2000x400 with 4 Axes>"
      ]
     },
     "metadata": {},
     "output_type": "display_data"
    }
   ],
   "source": [
    "plt.figure(figsize=(20,4))\n",
    "\n",
    "yaxis = [\"2023\", \"2022\", \"density\", \"growth\"]\n",
    "i = 1\n",
    "for col in yaxis:\n",
    "    plt.subplot(1, 4, i)\n",
    "    plt.title(col + \" vs world %\")\n",
    "    plt.xlabel(\"world %\")\n",
    "    plt.ylabel(col)\n",
    "    plt.scatter(df[\"world %\"], df[col])\n",
    "    i += 1\n",
    "plt.subplots_adjust(hspace=0.4,wspace=0.4)"
   ]
  },
  {
   "cell_type": "markdown",
   "id": "229ee856",
   "metadata": {},
   "source": [
    "13b. Based on the plot, there are 2 countries that are outliers in terms of world % value.<br>\n",
    "Use the world % column to find and __print the 2 country names__.<br>\n",
    "_Only the country names should be printed_."
   ]
  },
  {
   "cell_type": "code",
   "execution_count": 305,
   "id": "6f3d69d4",
   "metadata": {},
   "outputs": [
    {
     "name": "stdout",
     "output_type": "stream",
     "text": [
      "World % outlier countries:\n",
      "India, China\n"
     ]
    }
   ],
   "source": [
    "# using the 1.5IQR formula to identify outliers:\n",
    "# stats = df[\"world %\"].describe()\n",
    "# q1 = stats[\"25%\"]\n",
    "# q3 = stats[\"75%\"]\n",
    "# lowerbound = q1 - 1.5*(q3-q1)\n",
    "# upperbound = q3 + 1.5*(q3-q1)\n",
    "# outliers = df[(df[\"world %\"] <  lowerbound) | (df[\"world %\"] > upperbound)]\n",
    "# outliers\n",
    "\n",
    "# it seems the 2 outliers are the top two countries in world %\n",
    "print(\"World % outlier countries:\")\n",
    "print(\", \".join(df.sort_values(by= \"world %\", ascending= False).head(2).index))"
   ]
  },
  {
   "cell_type": "markdown",
   "id": "10881ddd",
   "metadata": {},
   "source": [
    "13c. Observing the 4 subplots above, and using the 2 countries with outlier world % values as your reference, create a Raw NBConvert cell to __explain whether there is correlation between the world % and each of the other 4 columns__."
   ]
  },
  {
   "cell_type": "raw",
   "id": "e5f198dc",
   "metadata": {},
   "source": [
    "When the outliers are ignored, the 2023 and 2022 population plots show a strong, positive linear relationship with world %. This makes sense since countries with a large population will end up with a higher world %. However, density and growth do not indicate any correlation with world %; there is no definite relationship exhibited in those two plots."
   ]
  },
  {
   "cell_type": "code",
   "execution_count": null,
   "id": "81341a44",
   "metadata": {},
   "outputs": [],
   "source": []
  }
 ],
 "metadata": {
  "kernelspec": {
   "display_name": "Python 3 (ipykernel)",
   "language": "python",
   "name": "python3"
  },
  "language_info": {
   "codemirror_mode": {
    "name": "ipython",
    "version": 3
   },
   "file_extension": ".py",
   "mimetype": "text/x-python",
   "name": "python",
   "nbconvert_exporter": "python",
   "pygments_lexer": "ipython3",
   "version": "3.10.9"
  }
 },
 "nbformat": 4,
 "nbformat_minor": 5
}
