{
 "cells": [
  {
   "cell_type": "markdown",
   "id": "a83935f3",
   "metadata": {},
   "source": [
    "Nitya Kashyap\n",
    "CIS 9 Final Project\n",
    "6/27/2023\n",
    "\n",
    "This project aims to study the classification powers of NLP. I've trained an ML model to choose the correct one of 3 artists given the lyrics of their song. I chose this topic because I was interested in seeing whether or not an artist's songs have some sort of noticeable general theme/genre or reccurring topics that an NLP model can pick up on, and with how much accuracy the model can match those songs to the correct artist."
   ]
  },
  {
   "cell_type": "markdown",
   "id": "d72cffec",
   "metadata": {},
   "source": [
    "Here's the dataset from Kaggle that I obtained my data from: https://www.kaggle.com/datasets/deepshah16/song-lyrics-dataset"
   ]
  },
  {
   "cell_type": "markdown",
   "id": "52c11b33",
   "metadata": {},
   "source": [
    "For the first part of my analysis, I have intentionally chosen 3 very distinct artists. The rapper Drake produces songs in the Hip hop and trap genres. Singer-songwriter Taylor Swift's domain lies primarily in the pop and country genres. Singer-songwriter Beyonce's songs fall mostly under the R&B/soul and pop genres. Due to the different styles of music produced by each artist, I hypothesize that the NPL model will be able to differentiate their songs with much accuracy. "
   ]
  },
  {
   "cell_type": "code",
   "execution_count": 1,
   "id": "db692048",
   "metadata": {
    "scrolled": true
   },
   "outputs": [
    {
     "name": "stdout",
     "output_type": "stream",
     "text": [
      "Here's a sample of the data for the 3 artists:\n"
     ]
    },
    {
     "data": {
      "text/html": [
       "<div>\n",
       "<style scoped>\n",
       "    .dataframe tbody tr th:only-of-type {\n",
       "        vertical-align: middle;\n",
       "    }\n",
       "\n",
       "    .dataframe tbody tr th {\n",
       "        vertical-align: top;\n",
       "    }\n",
       "\n",
       "    .dataframe thead th {\n",
       "        text-align: right;\n",
       "    }\n",
       "</style>\n",
       "<table border=\"1\" class=\"dataframe\">\n",
       "  <thead>\n",
       "    <tr style=\"text-align: right;\">\n",
       "      <th></th>\n",
       "      <th>Unnamed: 0</th>\n",
       "      <th>Artist</th>\n",
       "      <th>Title</th>\n",
       "      <th>Album</th>\n",
       "      <th>Year</th>\n",
       "      <th>Date</th>\n",
       "      <th>Lyric</th>\n",
       "    </tr>\n",
       "  </thead>\n",
       "  <tbody>\n",
       "    <tr>\n",
       "      <th>0</th>\n",
       "      <td>0</td>\n",
       "      <td>Drake</td>\n",
       "      <td>God’s Plan</td>\n",
       "      <td>Scorpion</td>\n",
       "      <td>2018.0</td>\n",
       "      <td>2018-01-19</td>\n",
       "      <td>and they wishin' and wishin' and wishin' and w...</td>\n",
       "    </tr>\n",
       "    <tr>\n",
       "      <th>1</th>\n",
       "      <td>1</td>\n",
       "      <td>Drake</td>\n",
       "      <td>In My Feelings</td>\n",
       "      <td>Scorpion</td>\n",
       "      <td>2018.0</td>\n",
       "      <td>2018-06-29</td>\n",
       "      <td>drake trap trapmoneybenny this shit got me in ...</td>\n",
       "    </tr>\n",
       "    <tr>\n",
       "      <th>2</th>\n",
       "      <td>2</td>\n",
       "      <td>Drake</td>\n",
       "      <td>Hotline Bling</td>\n",
       "      <td>Views</td>\n",
       "      <td>2015.0</td>\n",
       "      <td>2015-07-25</td>\n",
       "      <td>you used to call me on my you used to you used...</td>\n",
       "    </tr>\n",
       "    <tr>\n",
       "      <th>3</th>\n",
       "      <td>3</td>\n",
       "      <td>Drake</td>\n",
       "      <td>One Dance</td>\n",
       "      <td>Views</td>\n",
       "      <td>2016.0</td>\n",
       "      <td>2016-04-05</td>\n",
       "      <td>kyla baby i like your style   drake grips on y...</td>\n",
       "    </tr>\n",
       "    <tr>\n",
       "      <th>4</th>\n",
       "      <td>4</td>\n",
       "      <td>Drake</td>\n",
       "      <td>Hold On, We’re Going Home</td>\n",
       "      <td>Nothing Was the Same</td>\n",
       "      <td>2013.0</td>\n",
       "      <td>2013-08-07</td>\n",
       "      <td>produced by nineteen85 majid jordan  noah 40 s...</td>\n",
       "    </tr>\n",
       "  </tbody>\n",
       "</table>\n",
       "</div>"
      ],
      "text/plain": [
       "   Unnamed: 0 Artist                      Title                 Album    Year  \\\n",
       "0           0  Drake                 God’s Plan              Scorpion  2018.0   \n",
       "1           1  Drake             In My Feelings              Scorpion  2018.0   \n",
       "2           2  Drake              Hotline Bling                 Views  2015.0   \n",
       "3           3  Drake                  One Dance                 Views  2016.0   \n",
       "4           4  Drake  Hold On, We’re Going Home  Nothing Was the Same  2013.0   \n",
       "\n",
       "         Date                                              Lyric  \n",
       "0  2018-01-19  and they wishin' and wishin' and wishin' and w...  \n",
       "1  2018-06-29  drake trap trapmoneybenny this shit got me in ...  \n",
       "2  2015-07-25  you used to call me on my you used to you used...  \n",
       "3  2016-04-05  kyla baby i like your style   drake grips on y...  \n",
       "4  2013-08-07  produced by nineteen85 majid jordan  noah 40 s...  "
      ]
     },
     "metadata": {},
     "output_type": "display_data"
    },
    {
     "data": {
      "text/html": [
       "<div>\n",
       "<style scoped>\n",
       "    .dataframe tbody tr th:only-of-type {\n",
       "        vertical-align: middle;\n",
       "    }\n",
       "\n",
       "    .dataframe tbody tr th {\n",
       "        vertical-align: top;\n",
       "    }\n",
       "\n",
       "    .dataframe thead th {\n",
       "        text-align: right;\n",
       "    }\n",
       "</style>\n",
       "<table border=\"1\" class=\"dataframe\">\n",
       "  <thead>\n",
       "    <tr style=\"text-align: right;\">\n",
       "      <th></th>\n",
       "      <th>Unnamed: 0</th>\n",
       "      <th>Artist</th>\n",
       "      <th>Title</th>\n",
       "      <th>Album</th>\n",
       "      <th>Year</th>\n",
       "      <th>Date</th>\n",
       "      <th>Lyric</th>\n",
       "    </tr>\n",
       "  </thead>\n",
       "  <tbody>\n",
       "    <tr>\n",
       "      <th>0</th>\n",
       "      <td>0</td>\n",
       "      <td>Beyoncé</td>\n",
       "      <td>Drunk in Love</td>\n",
       "      <td>BEYONCÉ</td>\n",
       "      <td>2013.0</td>\n",
       "      <td>2013-12-17</td>\n",
       "      <td>beyoncé i've been drinkin' i've been drinkin' ...</td>\n",
       "    </tr>\n",
       "    <tr>\n",
       "      <th>1</th>\n",
       "      <td>1</td>\n",
       "      <td>Beyoncé</td>\n",
       "      <td>Formation</td>\n",
       "      <td>Lemonade</td>\n",
       "      <td>2016.0</td>\n",
       "      <td>2016-02-06</td>\n",
       "      <td>messy mya what happened at the new wil'ins bit...</td>\n",
       "    </tr>\n",
       "    <tr>\n",
       "      <th>2</th>\n",
       "      <td>2</td>\n",
       "      <td>Beyoncé</td>\n",
       "      <td>Partition</td>\n",
       "      <td>BEYONCÉ</td>\n",
       "      <td>2013.0</td>\n",
       "      <td>2013-12-13</td>\n",
       "      <td>part  yoncé   let me hear you say hey ms carte...</td>\n",
       "    </tr>\n",
       "    <tr>\n",
       "      <th>3</th>\n",
       "      <td>3</td>\n",
       "      <td>Beyoncé</td>\n",
       "      <td>Mine</td>\n",
       "      <td>BEYONCÉ</td>\n",
       "      <td>2013.0</td>\n",
       "      <td>2013-12-13</td>\n",
       "      <td>beyoncé i've been watching for the signs took ...</td>\n",
       "    </tr>\n",
       "    <tr>\n",
       "      <th>4</th>\n",
       "      <td>4</td>\n",
       "      <td>Beyoncé</td>\n",
       "      <td>Hold Up</td>\n",
       "      <td>Lemonade</td>\n",
       "      <td>2016.0</td>\n",
       "      <td>2016-04-23</td>\n",
       "      <td>hold up they don't love you like i love you sl...</td>\n",
       "    </tr>\n",
       "  </tbody>\n",
       "</table>\n",
       "</div>"
      ],
      "text/plain": [
       "   Unnamed: 0   Artist          Title     Album    Year        Date  \\\n",
       "0           0  Beyoncé  Drunk in Love   BEYONCÉ  2013.0  2013-12-17   \n",
       "1           1  Beyoncé      Formation  Lemonade  2016.0  2016-02-06   \n",
       "2           2  Beyoncé      Partition   BEYONCÉ  2013.0  2013-12-13   \n",
       "3           3  Beyoncé           Mine   BEYONCÉ  2013.0  2013-12-13   \n",
       "4           4  Beyoncé        Hold Up  Lemonade  2016.0  2016-04-23   \n",
       "\n",
       "                                               Lyric  \n",
       "0  beyoncé i've been drinkin' i've been drinkin' ...  \n",
       "1  messy mya what happened at the new wil'ins bit...  \n",
       "2  part  yoncé   let me hear you say hey ms carte...  \n",
       "3  beyoncé i've been watching for the signs took ...  \n",
       "4  hold up they don't love you like i love you sl...  "
      ]
     },
     "metadata": {},
     "output_type": "display_data"
    },
    {
     "data": {
      "text/html": [
       "<div>\n",
       "<style scoped>\n",
       "    .dataframe tbody tr th:only-of-type {\n",
       "        vertical-align: middle;\n",
       "    }\n",
       "\n",
       "    .dataframe tbody tr th {\n",
       "        vertical-align: top;\n",
       "    }\n",
       "\n",
       "    .dataframe thead th {\n",
       "        text-align: right;\n",
       "    }\n",
       "</style>\n",
       "<table border=\"1\" class=\"dataframe\">\n",
       "  <thead>\n",
       "    <tr style=\"text-align: right;\">\n",
       "      <th></th>\n",
       "      <th>Unnamed: 0</th>\n",
       "      <th>Artist</th>\n",
       "      <th>Title</th>\n",
       "      <th>Album</th>\n",
       "      <th>Year</th>\n",
       "      <th>Date</th>\n",
       "      <th>Lyric</th>\n",
       "    </tr>\n",
       "  </thead>\n",
       "  <tbody>\n",
       "    <tr>\n",
       "      <th>0</th>\n",
       "      <td>0</td>\n",
       "      <td>Taylor Swift</td>\n",
       "      <td>​cardigan</td>\n",
       "      <td>folklore</td>\n",
       "      <td>2020.0</td>\n",
       "      <td>2020-07-24</td>\n",
       "      <td>vintage tee brand new phone high heels on cobb...</td>\n",
       "    </tr>\n",
       "    <tr>\n",
       "      <th>1</th>\n",
       "      <td>1</td>\n",
       "      <td>Taylor Swift</td>\n",
       "      <td>​exile</td>\n",
       "      <td>folklore</td>\n",
       "      <td>2020.0</td>\n",
       "      <td>2020-07-24</td>\n",
       "      <td>justin vernon i can see you standing honey wit...</td>\n",
       "    </tr>\n",
       "    <tr>\n",
       "      <th>2</th>\n",
       "      <td>2</td>\n",
       "      <td>Taylor Swift</td>\n",
       "      <td>Lover</td>\n",
       "      <td>Lover</td>\n",
       "      <td>2019.0</td>\n",
       "      <td>2019-08-16</td>\n",
       "      <td>we could leave the christmas lights up 'til ja...</td>\n",
       "    </tr>\n",
       "    <tr>\n",
       "      <th>3</th>\n",
       "      <td>3</td>\n",
       "      <td>Taylor Swift</td>\n",
       "      <td>​the 1</td>\n",
       "      <td>folklore</td>\n",
       "      <td>2020.0</td>\n",
       "      <td>2020-07-24</td>\n",
       "      <td>i'm doing good i'm on some new shit been sayin...</td>\n",
       "    </tr>\n",
       "    <tr>\n",
       "      <th>4</th>\n",
       "      <td>4</td>\n",
       "      <td>Taylor Swift</td>\n",
       "      <td>Look What You Made Me Do</td>\n",
       "      <td>reputation</td>\n",
       "      <td>2017.0</td>\n",
       "      <td>2017-08-25</td>\n",
       "      <td>i don't like your little games don't like your...</td>\n",
       "    </tr>\n",
       "  </tbody>\n",
       "</table>\n",
       "</div>"
      ],
      "text/plain": [
       "   Unnamed: 0        Artist                     Title       Album    Year  \\\n",
       "0           0  Taylor Swift                 ​cardigan    folklore  2020.0   \n",
       "1           1  Taylor Swift                    ​exile    folklore  2020.0   \n",
       "2           2  Taylor Swift                     Lover       Lover  2019.0   \n",
       "3           3  Taylor Swift                    ​the 1    folklore  2020.0   \n",
       "4           4  Taylor Swift  Look What You Made Me Do  reputation  2017.0   \n",
       "\n",
       "         Date                                              Lyric  \n",
       "0  2020-07-24  vintage tee brand new phone high heels on cobb...  \n",
       "1  2020-07-24  justin vernon i can see you standing honey wit...  \n",
       "2  2019-08-16  we could leave the christmas lights up 'til ja...  \n",
       "3  2020-07-24  i'm doing good i'm on some new shit been sayin...  \n",
       "4  2017-08-25  i don't like your little games don't like your...  "
      ]
     },
     "metadata": {},
     "output_type": "display_data"
    }
   ],
   "source": [
    "import numpy as np\n",
    "import pandas as pd\n",
    "from nltk.tokenize import RegexpTokenizer\n",
    "from nltk.corpus import stopwords\n",
    "from nltk.stem import PorterStemmer\n",
    "from sklearn.feature_extraction.text import CountVectorizer\n",
    "from sklearn.model_selection import train_test_split\n",
    "from sklearn.naive_bayes import MultinomialNB\n",
    "from sklearn import metrics\n",
    "\n",
    "drake = pd.read_csv(\"Drake.csv\")\n",
    "beyonce = pd.read_csv(\"Beyonce.csv\")\n",
    "taylor = pd.read_csv(\"TaylorSwift.csv\")\n",
    "\n",
    "print(\"Here's a sample of the data for the 3 artists:\")\n",
    "display(drake.head())\n",
    "display(beyonce.head())\n",
    "display(taylor.head())"
   ]
  },
  {
   "cell_type": "markdown",
   "id": "0f1dfd2e",
   "metadata": {},
   "source": [
    "Now, I'll be cleaning the data, removing any irrelevant columns and NaNs. Since the lyrics and artist columns are the only two I will need to train the model, I will drop every other column. Then, I'll check to see if there are any NaNs in the artist or lyrics column. \n",
    "When I was browsing this data on Kaggle, I noticed that for some of the songs whose lyrics were missing, the lyrics column was filled with \"lyrics for this song have yet to be released please check back once the song has been released\". These rows are essentially NaNs, so I will be dropping all rows with that phrase. Some lyrics entries were just plain null, so those will also be dropped. I also noticed that in some of the files, the same lyrics seemed to have been recorded in multiple entries– I will use a new function that we have not used or learned in this class to drop any of those duplicates that exist."
   ]
  },
  {
   "cell_type": "code",
   "execution_count": 2,
   "id": "d0f2c401",
   "metadata": {
    "scrolled": true
   },
   "outputs": [
    {
     "data": {
      "text/html": [
       "<div>\n",
       "<style scoped>\n",
       "    .dataframe tbody tr th:only-of-type {\n",
       "        vertical-align: middle;\n",
       "    }\n",
       "\n",
       "    .dataframe tbody tr th {\n",
       "        vertical-align: top;\n",
       "    }\n",
       "\n",
       "    .dataframe thead th {\n",
       "        text-align: right;\n",
       "    }\n",
       "</style>\n",
       "<table border=\"1\" class=\"dataframe\">\n",
       "  <thead>\n",
       "    <tr style=\"text-align: right;\">\n",
       "      <th></th>\n",
       "      <th>Artist</th>\n",
       "      <th>Lyric</th>\n",
       "    </tr>\n",
       "  </thead>\n",
       "  <tbody>\n",
       "    <tr>\n",
       "      <th>0</th>\n",
       "      <td>Drake</td>\n",
       "      <td>and they wishin' and wishin' and wishin' and w...</td>\n",
       "    </tr>\n",
       "    <tr>\n",
       "      <th>1</th>\n",
       "      <td>Drake</td>\n",
       "      <td>drake trap trapmoneybenny this shit got me in ...</td>\n",
       "    </tr>\n",
       "    <tr>\n",
       "      <th>2</th>\n",
       "      <td>Drake</td>\n",
       "      <td>you used to call me on my you used to you used...</td>\n",
       "    </tr>\n",
       "    <tr>\n",
       "      <th>3</th>\n",
       "      <td>Drake</td>\n",
       "      <td>kyla baby i like your style   drake grips on y...</td>\n",
       "    </tr>\n",
       "    <tr>\n",
       "      <th>4</th>\n",
       "      <td>Drake</td>\n",
       "      <td>produced by nineteen85 majid jordan  noah 40 s...</td>\n",
       "    </tr>\n",
       "  </tbody>\n",
       "</table>\n",
       "</div>"
      ],
      "text/plain": [
       "  Artist                                              Lyric\n",
       "0  Drake  and they wishin' and wishin' and wishin' and w...\n",
       "1  Drake  drake trap trapmoneybenny this shit got me in ...\n",
       "2  Drake  you used to call me on my you used to you used...\n",
       "3  Drake  kyla baby i like your style   drake grips on y...\n",
       "4  Drake  produced by nineteen85 majid jordan  noah 40 s..."
      ]
     },
     "metadata": {},
     "output_type": "display_data"
    },
    {
     "name": "stdout",
     "output_type": "stream",
     "text": [
      "rows, columns left: (461, 2)\n"
     ]
    },
    {
     "data": {
      "text/html": [
       "<div>\n",
       "<style scoped>\n",
       "    .dataframe tbody tr th:only-of-type {\n",
       "        vertical-align: middle;\n",
       "    }\n",
       "\n",
       "    .dataframe tbody tr th {\n",
       "        vertical-align: top;\n",
       "    }\n",
       "\n",
       "    .dataframe thead th {\n",
       "        text-align: right;\n",
       "    }\n",
       "</style>\n",
       "<table border=\"1\" class=\"dataframe\">\n",
       "  <thead>\n",
       "    <tr style=\"text-align: right;\">\n",
       "      <th></th>\n",
       "      <th>Artist</th>\n",
       "      <th>Lyric</th>\n",
       "    </tr>\n",
       "  </thead>\n",
       "  <tbody>\n",
       "    <tr>\n",
       "      <th>0</th>\n",
       "      <td>Taylor Swift</td>\n",
       "      <td>vintage tee brand new phone high heels on cobb...</td>\n",
       "    </tr>\n",
       "    <tr>\n",
       "      <th>1</th>\n",
       "      <td>Taylor Swift</td>\n",
       "      <td>justin vernon i can see you standing honey wit...</td>\n",
       "    </tr>\n",
       "    <tr>\n",
       "      <th>2</th>\n",
       "      <td>Taylor Swift</td>\n",
       "      <td>we could leave the christmas lights up 'til ja...</td>\n",
       "    </tr>\n",
       "    <tr>\n",
       "      <th>3</th>\n",
       "      <td>Taylor Swift</td>\n",
       "      <td>i'm doing good i'm on some new shit been sayin...</td>\n",
       "    </tr>\n",
       "    <tr>\n",
       "      <th>4</th>\n",
       "      <td>Taylor Swift</td>\n",
       "      <td>i don't like your little games don't like your...</td>\n",
       "    </tr>\n",
       "  </tbody>\n",
       "</table>\n",
       "</div>"
      ],
      "text/plain": [
       "         Artist                                              Lyric\n",
       "0  Taylor Swift  vintage tee brand new phone high heels on cobb...\n",
       "1  Taylor Swift  justin vernon i can see you standing honey wit...\n",
       "2  Taylor Swift  we could leave the christmas lights up 'til ja...\n",
       "3  Taylor Swift  i'm doing good i'm on some new shit been sayin...\n",
       "4  Taylor Swift  i don't like your little games don't like your..."
      ]
     },
     "metadata": {},
     "output_type": "display_data"
    },
    {
     "name": "stdout",
     "output_type": "stream",
     "text": [
      "rows, columns left: (445, 2)\n"
     ]
    },
    {
     "data": {
      "text/html": [
       "<div>\n",
       "<style scoped>\n",
       "    .dataframe tbody tr th:only-of-type {\n",
       "        vertical-align: middle;\n",
       "    }\n",
       "\n",
       "    .dataframe tbody tr th {\n",
       "        vertical-align: top;\n",
       "    }\n",
       "\n",
       "    .dataframe thead th {\n",
       "        text-align: right;\n",
       "    }\n",
       "</style>\n",
       "<table border=\"1\" class=\"dataframe\">\n",
       "  <thead>\n",
       "    <tr style=\"text-align: right;\">\n",
       "      <th></th>\n",
       "      <th>Artist</th>\n",
       "      <th>Lyric</th>\n",
       "    </tr>\n",
       "  </thead>\n",
       "  <tbody>\n",
       "    <tr>\n",
       "      <th>0</th>\n",
       "      <td>Beyoncé</td>\n",
       "      <td>beyoncé i've been drinkin' i've been drinkin' ...</td>\n",
       "    </tr>\n",
       "    <tr>\n",
       "      <th>1</th>\n",
       "      <td>Beyoncé</td>\n",
       "      <td>messy mya what happened at the new wil'ins bit...</td>\n",
       "    </tr>\n",
       "    <tr>\n",
       "      <th>2</th>\n",
       "      <td>Beyoncé</td>\n",
       "      <td>part  yoncé   let me hear you say hey ms carte...</td>\n",
       "    </tr>\n",
       "    <tr>\n",
       "      <th>3</th>\n",
       "      <td>Beyoncé</td>\n",
       "      <td>beyoncé i've been watching for the signs took ...</td>\n",
       "    </tr>\n",
       "    <tr>\n",
       "      <th>4</th>\n",
       "      <td>Beyoncé</td>\n",
       "      <td>hold up they don't love you like i love you sl...</td>\n",
       "    </tr>\n",
       "  </tbody>\n",
       "</table>\n",
       "</div>"
      ],
      "text/plain": [
       "    Artist                                              Lyric\n",
       "0  Beyoncé  beyoncé i've been drinkin' i've been drinkin' ...\n",
       "1  Beyoncé  messy mya what happened at the new wil'ins bit...\n",
       "2  Beyoncé  part  yoncé   let me hear you say hey ms carte...\n",
       "3  Beyoncé  beyoncé i've been watching for the signs took ...\n",
       "4  Beyoncé  hold up they don't love you like i love you sl..."
      ]
     },
     "metadata": {},
     "output_type": "display_data"
    },
    {
     "name": "stdout",
     "output_type": "stream",
     "text": [
      "rows, columns left: (380, 2)\n"
     ]
    }
   ],
   "source": [
    "artists = [drake, taylor, beyonce]\n",
    "for artist in artists:\n",
    "    artist.drop(columns=[\"Unnamed: 0\", \"Title\", \"Album\", \"Year\", \"Date\"], inplace=True)\n",
    "    artist.drop_duplicates(subset=\"Lyric\", keep='first', inplace=True)\n",
    "    artist.dropna(inplace=True)\n",
    "    display(artist.head())\n",
    "    print(\"rows, columns left:\", artist.shape)"
   ]
  },
  {
   "cell_type": "markdown",
   "id": "7423154e",
   "metadata": {},
   "source": [
    "After all that cleaning, Beyonce is left with a little less data than the other two. Drake has about 20% more data than Beyonce does, so the data cannot exactly be considered balanced between them. So before I combine all 3 artists' data, I'm going to downsample Taylor Swift's and Drake's data to the size of Beyonce's to balance the data– this is also something new we've not covered how to do in class."
   ]
  },
  {
   "cell_type": "code",
   "execution_count": 3,
   "id": "6f24e2d4",
   "metadata": {},
   "outputs": [
    {
     "name": "stdout",
     "output_type": "stream",
     "text": [
      "drake: (380, 2) taylor: (380, 2)\n"
     ]
    }
   ],
   "source": [
    "smallest = min([drake.shape[0], beyonce.shape[0], taylor.shape[0]])\n",
    "drake = drake.sample(n=smallest, ignore_index=True)\n",
    "taylor = taylor.sample(n=smallest, ignore_index=True)\n",
    "print(\"drake:\", drake.shape, \"taylor:\", taylor.shape)"
   ]
  },
  {
   "cell_type": "markdown",
   "id": "8a758061",
   "metadata": {},
   "source": [
    "Now that everything is balanced (all artists have 380 songs), I'll be combining all the DataFrames into one. Since it's easier for the ML model to work with numbers, I'll convert the artist categories into numbers."
   ]
  },
  {
   "cell_type": "code",
   "execution_count": 4,
   "id": "37296135",
   "metadata": {},
   "outputs": [
    {
     "name": "stdout",
     "output_type": "stream",
     "text": [
      "combined data:\n"
     ]
    },
    {
     "data": {
      "text/html": [
       "<div>\n",
       "<style scoped>\n",
       "    .dataframe tbody tr th:only-of-type {\n",
       "        vertical-align: middle;\n",
       "    }\n",
       "\n",
       "    .dataframe tbody tr th {\n",
       "        vertical-align: top;\n",
       "    }\n",
       "\n",
       "    .dataframe thead th {\n",
       "        text-align: right;\n",
       "    }\n",
       "</style>\n",
       "<table border=\"1\" class=\"dataframe\">\n",
       "  <thead>\n",
       "    <tr style=\"text-align: right;\">\n",
       "      <th></th>\n",
       "      <th>Artist</th>\n",
       "      <th>Lyric</th>\n",
       "    </tr>\n",
       "  </thead>\n",
       "  <tbody>\n",
       "    <tr>\n",
       "      <th>0</th>\n",
       "      <td>0</td>\n",
       "      <td>it's 0 o'clock on a wednesday and i know your ...</td>\n",
       "    </tr>\n",
       "    <tr>\n",
       "      <th>1</th>\n",
       "      <td>0</td>\n",
       "      <td>tell me lies  scene    melissa mcintyre as ash...</td>\n",
       "    </tr>\n",
       "    <tr>\n",
       "      <th>2</th>\n",
       "      <td>0</td>\n",
       "      <td>drake  partynextdoor it's your fuckin' birthda...</td>\n",
       "    </tr>\n",
       "    <tr>\n",
       "      <th>3</th>\n",
       "      <td>0</td>\n",
       "      <td>drake yeah yeah   drake dropped outta school n...</td>\n",
       "    </tr>\n",
       "    <tr>\n",
       "      <th>4</th>\n",
       "      <td>0</td>\n",
       "      <td>drake listen girl you so bad and you single wh...</td>\n",
       "    </tr>\n",
       "    <tr>\n",
       "      <th>...</th>\n",
       "      <td>...</td>\n",
       "      <td>...</td>\n",
       "    </tr>\n",
       "    <tr>\n",
       "      <th>1135</th>\n",
       "      <td>2</td>\n",
       "      <td>i remember the eyes of the kid in the crowd wh...</td>\n",
       "    </tr>\n",
       "    <tr>\n",
       "      <th>1136</th>\n",
       "      <td>2</td>\n",
       "      <td>last christmas i gave you my heart but the ver...</td>\n",
       "    </tr>\n",
       "    <tr>\n",
       "      <th>1137</th>\n",
       "      <td>2</td>\n",
       "      <td>i was reminiscing just the other day while hav...</td>\n",
       "    </tr>\n",
       "    <tr>\n",
       "      <th>1138</th>\n",
       "      <td>2</td>\n",
       "      <td>watch me go into the world today watch me try ...</td>\n",
       "    </tr>\n",
       "    <tr>\n",
       "      <th>1139</th>\n",
       "      <td>2</td>\n",
       "      <td>looking at it now it all seems so simple we we...</td>\n",
       "    </tr>\n",
       "  </tbody>\n",
       "</table>\n",
       "<p>1140 rows × 2 columns</p>\n",
       "</div>"
      ],
      "text/plain": [
       "      Artist                                              Lyric\n",
       "0          0  it's 0 o'clock on a wednesday and i know your ...\n",
       "1          0  tell me lies  scene    melissa mcintyre as ash...\n",
       "2          0  drake  partynextdoor it's your fuckin' birthda...\n",
       "3          0  drake yeah yeah   drake dropped outta school n...\n",
       "4          0  drake listen girl you so bad and you single wh...\n",
       "...      ...                                                ...\n",
       "1135       2  i remember the eyes of the kid in the crowd wh...\n",
       "1136       2  last christmas i gave you my heart but the ver...\n",
       "1137       2  i was reminiscing just the other day while hav...\n",
       "1138       2  watch me go into the world today watch me try ...\n",
       "1139       2  looking at it now it all seems so simple we we...\n",
       "\n",
       "[1140 rows x 2 columns]"
      ]
     },
     "execution_count": 4,
     "metadata": {},
     "output_type": "execute_result"
    }
   ],
   "source": [
    "# create a aggregate DataFrame comprised of the 3 artists' data\n",
    "df = pd.concat([drake, beyonce, taylor], ignore_index=True)\n",
    "lookup = dict(zip(range(len(df.Artist.unique())), df.Artist.unique()))\n",
    "convert = dict(zip(df.Artist.unique(), range(len(df.Artist.unique()))))\n",
    "df.Artist.replace(convert, inplace=True)\n",
    "print(\"combined data:\")\n",
    "df"
   ]
  },
  {
   "cell_type": "markdown",
   "id": "32a7b343",
   "metadata": {},
   "source": [
    "There are definitely over 400 rows, so it seems the model has sufficient data!"
   ]
  },
  {
   "cell_type": "markdown",
   "id": "5d134bf7",
   "metadata": {},
   "source": [
    "Next, I'll create the X and y datasets and print the shape of each:"
   ]
  },
  {
   "cell_type": "code",
   "execution_count": 5,
   "id": "66886fe7",
   "metadata": {},
   "outputs": [
    {
     "name": "stdout",
     "output_type": "stream",
     "text": [
      "shape of X: (1140, 1) shape of y: (1140,)\n"
     ]
    }
   ],
   "source": [
    "X = pd.DataFrame(df.Lyric)\n",
    "y = df.Artist\n",
    "print(\"shape of X:\", X.shape, \"shape of y:\", y.shape)"
   ]
  },
  {
   "cell_type": "markdown",
   "id": "ff0187a0",
   "metadata": {},
   "source": [
    "I'll need to take a look at one sample song lyrics to see if it needs any preprocessing for the model."
   ]
  },
  {
   "cell_type": "code",
   "execution_count": 7,
   "id": "9f15456c",
   "metadata": {},
   "outputs": [
    {
     "name": "stdout",
     "output_type": "stream",
     "text": [
      "watch me go into the world today watch me try to blow the past away watch me laugh and watch me cry watch me fall and watch me fly cause im living in a brand new world and you think im just another girl but im living just a day at a time and keeping it mine someday im gonna fly   watch me catch a star and pin it down watch me live another time around watch me doubt the things i love watch me find what im proud of cause im living in a brand new world and you think im just another girl but im living just a day at a time and keeping it mine someday im gonna fly   and i may break my wings and fall flat on my shattered heart and i may hit the ground but i will never fall apart cause im living in a brand new world and you think im just another girl but im living just a day at a time and keeping it mine im living in a brand new world and you think im just another girl but im living just a day at a time and keeping it mine someday im gonna fly\n"
     ]
    }
   ],
   "source": [
    "print(X.iloc[1138, 0]) # this is one of Taylor Swift's!"
   ]
  },
  {
   "cell_type": "markdown",
   "id": "172f2c32",
   "metadata": {},
   "source": [
    "It looks like I'll need to remove stop words and apply stemming. Words like \"the\" still exist in the lyrics, and verbs like \"living\" and \"keeping\" have not been stemmed, indicating that the data has not yet been processed."
   ]
  },
  {
   "cell_type": "code",
   "execution_count": 8,
   "id": "46d4ce39",
   "metadata": {},
   "outputs": [
    {
     "data": {
      "text/plain": [
       "0    0 clock wednesday know home drivin street hopi...\n",
       "1    tell lie scene melissa mcintyr ashley kerwin s...\n",
       "2    drake partynextdoor fuckin birthday oh birthda...\n",
       "3    drake yeah yeah drake drop outta school dumb r...\n",
       "4    drake listen girl bad singl hear met yet name ...\n",
       "dtype: object"
      ]
     },
     "execution_count": 8,
     "metadata": {},
     "output_type": "execute_result"
    }
   ],
   "source": [
    "tokenizer = RegexpTokenizer('\\w+')\n",
    "stop_words=set(stopwords.words(\"english\"))\n",
    "stemmer = PorterStemmer()\n",
    "\n",
    "def preprocess(string):\n",
    "    s = tokenizer.tokenize(string.lower()) \n",
    "    s = [word for word in s if word not in stop_words]\n",
    "    s = [stemmer.stem(word) for word in s]\n",
    "    return ' '.join(s)\n",
    "\n",
    "X_processed = pd.Series([preprocess(X.loc[i, \"Lyric\"]) for i in range(len(X))])\n",
    "X_processed.head()"
   ]
  },
  {
   "cell_type": "markdown",
   "id": "ad105b6a",
   "metadata": {},
   "source": [
    "Now I'll convert the preprocessed data to numbers so it's ready for the ML model."
   ]
  },
  {
   "cell_type": "code",
   "execution_count": 9,
   "id": "047949a6",
   "metadata": {},
   "outputs": [
    {
     "name": "stdout",
     "output_type": "stream",
     "text": [
      "shape of the X dataset that will be used with the model: (1140, 11253)\n"
     ]
    }
   ],
   "source": [
    "vect = CountVectorizer()\n",
    "vect.fit(X_processed)\n",
    "X_vectors = vect.transform(X_processed)\n",
    "print(\"shape of the X dataset that will be used with the model:\", X_vectors.shape)"
   ]
  },
  {
   "cell_type": "markdown",
   "id": "3a01d62b",
   "metadata": {},
   "source": [
    "Now I'll train and test the model. I'll need to create X and y training and testing datasets."
   ]
  },
  {
   "cell_type": "code",
   "execution_count": 10,
   "id": "dd0ab862",
   "metadata": {},
   "outputs": [
    {
     "name": "stdout",
     "output_type": "stream",
     "text": [
      "X training dataset size: (798, 11253) X testing dataset size: (342, 11253) y training dataset size: (798,) y testing dataset size: (342,)\n"
     ]
    }
   ],
   "source": [
    "X_train, X_test, y_train, y_test = train_test_split(X_vectors, y, test_size = 0.3)\n",
    "print(\"X training dataset size:\", X_train.shape, \"X testing dataset size:\", X_test.shape, \"y training dataset size:\", y_train.shape, \"y testing dataset size:\", y_test.shape)"
   ]
  },
  {
   "cell_type": "markdown",
   "id": "f9559429",
   "metadata": {},
   "source": [
    "Training and testing the ML model:"
   ]
  },
  {
   "cell_type": "code",
   "execution_count": 11,
   "id": "8c2033ef",
   "metadata": {},
   "outputs": [
    {
     "name": "stdout",
     "output_type": "stream",
     "text": [
      "accuracy score: 0.8830409356725146\n",
      "confusion matrix:\n"
     ]
    },
    {
     "data": {
      "text/plain": [
       "array([[116,   3,   2],\n",
       "       [  9,  70,  19],\n",
       "       [  2,   5, 116]])"
      ]
     },
     "execution_count": 11,
     "metadata": {},
     "output_type": "execute_result"
    }
   ],
   "source": [
    "classifier = MultinomialNB()\n",
    "classifier.fit(X_train, y_train)\n",
    "y_predict = classifier.predict(X_test)\n",
    "\n",
    "# measure accuracy\n",
    "print(\"accuracy score:\", metrics.accuracy_score(y_test, y_predict))\n",
    "print(\"confusion matrix:\")\n",
    "metrics.confusion_matrix(y_test, y_predict)"
   ]
  },
  {
   "cell_type": "markdown",
   "id": "f29d0a87",
   "metadata": {},
   "source": [
    "The confusion matrix indicates that the model seems to be a bit unreliable in differentiating Beyonce's songs from Taylor Swift's- it classified almost 20% of Beyonce's songs as Swift's. This might be because both Swift and Beyonce dabble in pop– Swift more so than Beyonce– but there seems to be enough of a pop vibe in Beyonce's songs for the model to confuse her with Swift for a significant proportion of her songs. Interestingly, this confusion doesn't go the other way- the model does not often wrongly classify Swift's songs as Beyonce's. \n",
    "However, since Swift's and Drake's songs are so vastly different, the model rarely classifies Swift's songs as Drake's (or vice versa). The accuracy score seems to be a bit more optimistic than the confusion matrix– even though the model overall had an accuracy of 88%, when classifying Beyonce's songs it only correctly classified 71% of them, which is much lower than 88%. I think its high performace with Drake's and Swift's songs (96% and 94% accuracy respectively) brought up the accuracy score to make the model seem like it did very well– which it did, but not uniformly across all the categories.\n",
    "One factor that could've confuddled the model is that some of the songs in an artist's csv file are collaborations with other artists. The style of the featured artist usually is different from the main artist's. In this dataset, only the main artist is listed for the entire song, even though the whole song cannot be attributed to just them. \n",
    "Despite featuring other artists, the songs of these 3 particular artists have enough similarity for the model to somewhat accurately detect that they're from the same artist (more so for Drake and Taylor Swift than for Beyonce). "
   ]
  },
  {
   "cell_type": "markdown",
   "id": "bce958aa",
   "metadata": {},
   "source": [
    "I would like to take it a step further in testing the limits of the NLP models we've talked about. I would like to see how similar two artists' songs can get before the model can no longer tell them apart. I’ve done one iteration of the project with 3 very distinct artists, and now I’ll do a second iteration with two artists who are really similar in terms of genre, and see how the model's results compare with the first iteration.\n",
    "I'll swap out Taylor Swift for Rihanna. Rihanna's songs mostly fall under the reggae, R&B, and pop genres, which is very similar to Beyonce's main genres. It is expected that the model will not differentiate Beyonce and Rihanna as well as it would differentiate Drake and Beyonce or Drake and Rihanna. I would like to see just how confused the model gets between Beyonce and Rihanna- how much worse will it perform when the artists have much overlap in genre? Do Beyonce and Rihanna have unique enough styles in their lyrics for the model be able to tell them apart?"
   ]
  },
  {
   "cell_type": "markdown",
   "id": "1a15e6c5",
   "metadata": {},
   "source": [
    "Read in Rihanna's data and perform same cleaning steps:"
   ]
  },
  {
   "cell_type": "code",
   "execution_count": 12,
   "id": "d6122937",
   "metadata": {},
   "outputs": [
    {
     "name": "stdout",
     "output_type": "stream",
     "text": [
      "Here's a sample of Rihanna's data:\n"
     ]
    },
    {
     "data": {
      "text/html": [
       "<div>\n",
       "<style scoped>\n",
       "    .dataframe tbody tr th:only-of-type {\n",
       "        vertical-align: middle;\n",
       "    }\n",
       "\n",
       "    .dataframe tbody tr th {\n",
       "        vertical-align: top;\n",
       "    }\n",
       "\n",
       "    .dataframe thead th {\n",
       "        text-align: right;\n",
       "    }\n",
       "</style>\n",
       "<table border=\"1\" class=\"dataframe\">\n",
       "  <thead>\n",
       "    <tr style=\"text-align: right;\">\n",
       "      <th></th>\n",
       "      <th>Unnamed: 0</th>\n",
       "      <th>Artist</th>\n",
       "      <th>Title</th>\n",
       "      <th>Album</th>\n",
       "      <th>Year</th>\n",
       "      <th>Date</th>\n",
       "      <th>Lyric</th>\n",
       "    </tr>\n",
       "  </thead>\n",
       "  <tbody>\n",
       "    <tr>\n",
       "      <th>0</th>\n",
       "      <td>0</td>\n",
       "      <td>Rihanna</td>\n",
       "      <td>Work</td>\n",
       "      <td>ANTI</td>\n",
       "      <td>2016.0</td>\n",
       "      <td>2016-01-27</td>\n",
       "      <td>rihanna work work work work work work he said ...</td>\n",
       "    </tr>\n",
       "    <tr>\n",
       "      <th>1</th>\n",
       "      <td>1</td>\n",
       "      <td>Rihanna</td>\n",
       "      <td>Love on the Brain</td>\n",
       "      <td>ANTI</td>\n",
       "      <td>2016.0</td>\n",
       "      <td>2016-01-28</td>\n",
       "      <td>and you got me like oh what you want from me w...</td>\n",
       "    </tr>\n",
       "    <tr>\n",
       "      <th>2</th>\n",
       "      <td>2</td>\n",
       "      <td>Rihanna</td>\n",
       "      <td>Needed Me</td>\n",
       "      <td>ANTI</td>\n",
       "      <td>2016.0</td>\n",
       "      <td>2016-01-28</td>\n",
       "      <td>yg mustard on the beat ho   i was good on my o...</td>\n",
       "    </tr>\n",
       "    <tr>\n",
       "      <th>3</th>\n",
       "      <td>3</td>\n",
       "      <td>Rihanna</td>\n",
       "      <td>Stay</td>\n",
       "      <td>Unapologetic</td>\n",
       "      <td>2013.0</td>\n",
       "      <td>2013-01-07</td>\n",
       "      <td>rihanna all along it was a fever a cold sweat ...</td>\n",
       "    </tr>\n",
       "    <tr>\n",
       "      <th>4</th>\n",
       "      <td>4</td>\n",
       "      <td>Rihanna</td>\n",
       "      <td>Kiss It Better</td>\n",
       "      <td>ANTI</td>\n",
       "      <td>2016.0</td>\n",
       "      <td>2016-01-28</td>\n",
       "      <td>kiss it kiss it better baby kiss it kiss it be...</td>\n",
       "    </tr>\n",
       "  </tbody>\n",
       "</table>\n",
       "</div>"
      ],
      "text/plain": [
       "   Unnamed: 0   Artist              Title         Album    Year        Date  \\\n",
       "0           0  Rihanna               Work          ANTI  2016.0  2016-01-27   \n",
       "1           1  Rihanna  Love on the Brain          ANTI  2016.0  2016-01-28   \n",
       "2           2  Rihanna          Needed Me          ANTI  2016.0  2016-01-28   \n",
       "3           3  Rihanna               Stay  Unapologetic  2013.0  2013-01-07   \n",
       "4           4  Rihanna     Kiss It Better          ANTI  2016.0  2016-01-28   \n",
       "\n",
       "                                               Lyric  \n",
       "0  rihanna work work work work work work he said ...  \n",
       "1  and you got me like oh what you want from me w...  \n",
       "2  yg mustard on the beat ho   i was good on my o...  \n",
       "3  rihanna all along it was a fever a cold sweat ...  \n",
       "4  kiss it kiss it better baby kiss it kiss it be...  "
      ]
     },
     "metadata": {},
     "output_type": "display_data"
    }
   ],
   "source": [
    "rihanna = pd.read_csv(\"Rihanna.csv\")\n",
    "print(\"Here's a sample of Rihanna's data:\")\n",
    "display(rihanna.head())"
   ]
  },
  {
   "cell_type": "code",
   "execution_count": 13,
   "id": "062ad853",
   "metadata": {},
   "outputs": [
    {
     "data": {
      "text/html": [
       "<div>\n",
       "<style scoped>\n",
       "    .dataframe tbody tr th:only-of-type {\n",
       "        vertical-align: middle;\n",
       "    }\n",
       "\n",
       "    .dataframe tbody tr th {\n",
       "        vertical-align: top;\n",
       "    }\n",
       "\n",
       "    .dataframe thead th {\n",
       "        text-align: right;\n",
       "    }\n",
       "</style>\n",
       "<table border=\"1\" class=\"dataframe\">\n",
       "  <thead>\n",
       "    <tr style=\"text-align: right;\">\n",
       "      <th></th>\n",
       "      <th>Artist</th>\n",
       "      <th>Lyric</th>\n",
       "    </tr>\n",
       "  </thead>\n",
       "  <tbody>\n",
       "    <tr>\n",
       "      <th>0</th>\n",
       "      <td>Rihanna</td>\n",
       "      <td>rihanna work work work work work work he said ...</td>\n",
       "    </tr>\n",
       "    <tr>\n",
       "      <th>1</th>\n",
       "      <td>Rihanna</td>\n",
       "      <td>and you got me like oh what you want from me w...</td>\n",
       "    </tr>\n",
       "    <tr>\n",
       "      <th>2</th>\n",
       "      <td>Rihanna</td>\n",
       "      <td>yg mustard on the beat ho   i was good on my o...</td>\n",
       "    </tr>\n",
       "    <tr>\n",
       "      <th>3</th>\n",
       "      <td>Rihanna</td>\n",
       "      <td>rihanna all along it was a fever a cold sweat ...</td>\n",
       "    </tr>\n",
       "    <tr>\n",
       "      <th>4</th>\n",
       "      <td>Rihanna</td>\n",
       "      <td>kiss it kiss it better baby kiss it kiss it be...</td>\n",
       "    </tr>\n",
       "  </tbody>\n",
       "</table>\n",
       "</div>"
      ],
      "text/plain": [
       "    Artist                                              Lyric\n",
       "0  Rihanna  rihanna work work work work work work he said ...\n",
       "1  Rihanna  and you got me like oh what you want from me w...\n",
       "2  Rihanna  yg mustard on the beat ho   i was good on my o...\n",
       "3  Rihanna  rihanna all along it was a fever a cold sweat ...\n",
       "4  Rihanna  kiss it kiss it better baby kiss it kiss it be..."
      ]
     },
     "metadata": {},
     "output_type": "display_data"
    },
    {
     "name": "stdout",
     "output_type": "stream",
     "text": [
      "rows, columns left: (360, 2)\n"
     ]
    }
   ],
   "source": [
    "rihanna.drop(columns=[\"Unnamed: 0\", \"Title\", \"Album\", \"Year\", \"Date\"], inplace=True)\n",
    "rihanna.drop_duplicates(subset=\"Lyric\", keep='first', inplace=True)\n",
    "rihanna.dropna(inplace=True)\n",
    "display(rihanna.head())\n",
    "print(\"rows, columns left:\", rihanna.shape)"
   ]
  },
  {
   "cell_type": "markdown",
   "id": "6c89fbdb",
   "metadata": {},
   "source": [
    "After all that cleaning, Rihanna is left with a little less data than the other two (Drake and Beyonce each have 380 data values from the last analysis). So before I combine all 3 artists' data, I'm going to downsample Beyonce's and Drake's data to the size of Rihanna's to balance the data"
   ]
  },
  {
   "cell_type": "code",
   "execution_count": 35,
   "id": "3fcee229",
   "metadata": {},
   "outputs": [],
   "source": [
    "artists = [drake, beyonce, rihanna]\n",
    "smallest = min([drake.shape[0], beyonce.shape[0], rihanna.shape[0]])\n",
    "drake = drake.sample(n=smallest, ignore_index=True)\n",
    "beyonce = beyonce.sample(n=smallest, ignore_index=True)"
   ]
  },
  {
   "cell_type": "code",
   "execution_count": 36,
   "id": "b27e6ad4",
   "metadata": {},
   "outputs": [
    {
     "name": "stdout",
     "output_type": "stream",
     "text": [
      "drake: (360, 2) beyonce: (360, 2)\n"
     ]
    }
   ],
   "source": [
    "print(\"drake:\", drake.shape, \"beyonce:\", beyonce.shape)"
   ]
  },
  {
   "cell_type": "markdown",
   "id": "1d0cd58d",
   "metadata": {},
   "source": [
    "Now that everything is balanced, I'll be combining all the DataFrames into one. Since it's easier for the ML model to work with numbers, I'll convert the artist categories into numbers."
   ]
  },
  {
   "cell_type": "code",
   "execution_count": 39,
   "id": "4e6ee5ea",
   "metadata": {},
   "outputs": [
    {
     "name": "stdout",
     "output_type": "stream",
     "text": [
      "combined data:\n"
     ]
    },
    {
     "data": {
      "text/html": [
       "<div>\n",
       "<style scoped>\n",
       "    .dataframe tbody tr th:only-of-type {\n",
       "        vertical-align: middle;\n",
       "    }\n",
       "\n",
       "    .dataframe tbody tr th {\n",
       "        vertical-align: top;\n",
       "    }\n",
       "\n",
       "    .dataframe thead th {\n",
       "        text-align: right;\n",
       "    }\n",
       "</style>\n",
       "<table border=\"1\" class=\"dataframe\">\n",
       "  <thead>\n",
       "    <tr style=\"text-align: right;\">\n",
       "      <th></th>\n",
       "      <th>Artist</th>\n",
       "      <th>Lyric</th>\n",
       "    </tr>\n",
       "  </thead>\n",
       "  <tbody>\n",
       "    <tr>\n",
       "      <th>0</th>\n",
       "      <td>0</td>\n",
       "      <td>drake yeah 9th wonder don't judge me man they ...</td>\n",
       "    </tr>\n",
       "    <tr>\n",
       "      <th>1</th>\n",
       "      <td>0</td>\n",
       "      <td>sampha don't think about it too much too much ...</td>\n",
       "    </tr>\n",
       "    <tr>\n",
       "      <th>2</th>\n",
       "      <td>0</td>\n",
       "      <td>uh uh yeah lube up get ready boys little crust...</td>\n",
       "    </tr>\n",
       "    <tr>\n",
       "      <th>3</th>\n",
       "      <td>0</td>\n",
       "      <td>produced by boida frank dukes noah 40 shebib  ...</td>\n",
       "    </tr>\n",
       "    <tr>\n",
       "      <th>4</th>\n",
       "      <td>0</td>\n",
       "      <td>yeah  never thought i'd be talkin' from this p...</td>\n",
       "    </tr>\n",
       "    <tr>\n",
       "      <th>...</th>\n",
       "      <td>...</td>\n",
       "      <td>...</td>\n",
       "    </tr>\n",
       "    <tr>\n",
       "      <th>1075</th>\n",
       "      <td>2</td>\n",
       "      <td>and you can see my heart said im terrified pul...</td>\n",
       "    </tr>\n",
       "    <tr>\n",
       "      <th>1076</th>\n",
       "      <td>2</td>\n",
       "      <td>and you can see my heart beating you can see i...</td>\n",
       "    </tr>\n",
       "    <tr>\n",
       "      <th>1077</th>\n",
       "      <td>2</td>\n",
       "      <td>take a breath take it deep calm yourself he sa...</td>\n",
       "    </tr>\n",
       "    <tr>\n",
       "      <th>1078</th>\n",
       "      <td>2</td>\n",
       "      <td>rihanna feels so good being bad ohohohohoh the...</td>\n",
       "    </tr>\n",
       "    <tr>\n",
       "      <th>1079</th>\n",
       "      <td>2</td>\n",
       "      <td>fox   i was good on my own that's the way it w...</td>\n",
       "    </tr>\n",
       "  </tbody>\n",
       "</table>\n",
       "<p>1080 rows × 2 columns</p>\n",
       "</div>"
      ],
      "text/plain": [
       "      Artist                                              Lyric\n",
       "0          0  drake yeah 9th wonder don't judge me man they ...\n",
       "1          0  sampha don't think about it too much too much ...\n",
       "2          0  uh uh yeah lube up get ready boys little crust...\n",
       "3          0  produced by boida frank dukes noah 40 shebib  ...\n",
       "4          0  yeah  never thought i'd be talkin' from this p...\n",
       "...      ...                                                ...\n",
       "1075       2  and you can see my heart said im terrified pul...\n",
       "1076       2  and you can see my heart beating you can see i...\n",
       "1077       2  take a breath take it deep calm yourself he sa...\n",
       "1078       2  rihanna feels so good being bad ohohohohoh the...\n",
       "1079       2  fox   i was good on my own that's the way it w...\n",
       "\n",
       "[1080 rows x 2 columns]"
      ]
     },
     "execution_count": 39,
     "metadata": {},
     "output_type": "execute_result"
    }
   ],
   "source": [
    "# create a aggregate DataFrame comprised of the 3 artists' data\n",
    "df = pd.concat([drake, beyonce, rihanna], ignore_index=True)\n",
    "lookup = dict(zip(range(len(df.Artist.unique())), df.Artist.unique()))\n",
    "convert = dict(zip(df.Artist.unique(), range(len(df.Artist.unique()))))\n",
    "df.Artist.replace(convert, inplace=True)\n",
    "print(\"combined data:\")\n",
    "df"
   ]
  },
  {
   "cell_type": "markdown",
   "id": "35d2b15e",
   "metadata": {},
   "source": [
    "There are definitely over 400 rows, so it seems the model has sufficient data!"
   ]
  },
  {
   "cell_type": "markdown",
   "id": "08900770",
   "metadata": {},
   "source": [
    "Next, I'll create the X and y datasets and print the shape of each:"
   ]
  },
  {
   "cell_type": "code",
   "execution_count": 40,
   "id": "6d15e921",
   "metadata": {},
   "outputs": [
    {
     "name": "stdout",
     "output_type": "stream",
     "text": [
      "shape of X: (1080, 1) shape of y: (1080,)\n"
     ]
    }
   ],
   "source": [
    "X = pd.DataFrame(df.Lyric)\n",
    "y = df.Artist\n",
    "print(\"shape of X:\", X.shape, \"shape of y:\", y.shape)"
   ]
  },
  {
   "cell_type": "markdown",
   "id": "d1591186",
   "metadata": {},
   "source": [
    "Process the data:"
   ]
  },
  {
   "cell_type": "code",
   "execution_count": 41,
   "id": "9b6019da",
   "metadata": {},
   "outputs": [
    {
     "data": {
      "text/plain": [
       "0    drake yeah 9th wonder judg man tend say us rap...\n",
       "1    sampha think much much much much need us rush ...\n",
       "2    uh uh yeah lube get readi boy littl crusti go ...\n",
       "3    produc boida frank duke noah 40 shebib ninetee...\n",
       "4    yeah never thought talkin perspect realli sure...\n",
       "dtype: object"
      ]
     },
     "execution_count": 41,
     "metadata": {},
     "output_type": "execute_result"
    }
   ],
   "source": [
    "X_processed = pd.Series([preprocess(X.loc[i, \"Lyric\"]) for i in range(len(X))])\n",
    "X_processed.head()"
   ]
  },
  {
   "cell_type": "code",
   "execution_count": 42,
   "id": "ec8cd5e6",
   "metadata": {},
   "outputs": [
    {
     "name": "stdout",
     "output_type": "stream",
     "text": [
      "shape of the X dataset that will be used with the model: (1080, 10509)\n"
     ]
    }
   ],
   "source": [
    "vect.fit(X_processed)\n",
    "X_vectors = vect.transform(X_processed)\n",
    "print(\"shape of the X dataset that will be used with the model:\", X_vectors.shape)"
   ]
  },
  {
   "cell_type": "markdown",
   "id": "51b28751",
   "metadata": {},
   "source": [
    "Now I'll train and test the model. I'll need to create X and y training and testing datasets."
   ]
  },
  {
   "cell_type": "code",
   "execution_count": 43,
   "id": "1b25c620",
   "metadata": {},
   "outputs": [
    {
     "name": "stdout",
     "output_type": "stream",
     "text": [
      "X training dataset size: (756, 10509) X testing dataset size: (324, 10509) y training dataset size: (756,) y testing dataset size: (324,)\n"
     ]
    }
   ],
   "source": [
    "X_train, X_test, y_train, y_test = train_test_split(X_vectors, y, test_size = 0.3)\n",
    "print(\"X training dataset size:\", X_train.shape, \"X testing dataset size:\", X_test.shape, \"y training dataset size:\", y_train.shape, \"y testing dataset size:\", y_test.shape)"
   ]
  },
  {
   "cell_type": "markdown",
   "id": "85c5076d",
   "metadata": {},
   "source": [
    "Training and testing the ML model:"
   ]
  },
  {
   "cell_type": "code",
   "execution_count": 53,
   "id": "5c4337ea",
   "metadata": {},
   "outputs": [
    {
     "name": "stdout",
     "output_type": "stream",
     "text": [
      "accuracy score: 0.8333333333333334\n",
      "confusion matrix:\n"
     ]
    },
    {
     "data": {
      "text/plain": [
       "array([[102,   6,   3],\n",
       "       [ 13,  78,   9],\n",
       "       [  9,  14,  90]])"
      ]
     },
     "execution_count": 53,
     "metadata": {},
     "output_type": "execute_result"
    }
   ],
   "source": [
    "classifier.fit(X_train, y_train)\n",
    "y_predict = classifier.predict(X_test)\n",
    "\n",
    "# measure accuracy\n",
    "print(\"accuracy score:\", metrics.accuracy_score(y_test, y_predict))\n",
    "print(\"confusion matrix:\")\n",
    "metrics.confusion_matrix(y_test, y_predict)"
   ]
  },
  {
   "cell_type": "markdown",
   "id": "bb092cc8",
   "metadata": {},
   "source": [
    "The model does have a lower accuracy score on this iteration. The confusion matrix indicates that the model did really well (92%) with Drake's songs and much poorer on both Beyonce's and Rihanna's songs (78% and 80% respectively). What's puzzling is that Beyonce's songs are more often confused with Drake's than Rihanna's. However, Rihanna's songs are more often confused with Beyonce's songs than Drake's. It seems that since Beyonce's and Rihanna's songs are mostly in the same genres, the model is not as accurate in classifying their songs. But since Drake's songs are in an entirely different genre with no overlap, the model is able to correctly identify his songs. \n",
    "It's also worth noting the limits of this project. Artists express their unique style not just through their lyrics. Because the model is only given the artist's lyrics in this project, it may not distinguish the artist as well as if it were given the actual audio of the song. Training the model on the audio of these songs is a potential future improvement to this project. "
   ]
  }
 ],
 "metadata": {
  "kernelspec": {
   "display_name": "Python 3 (ipykernel)",
   "language": "python",
   "name": "python3"
  },
  "language_info": {
   "codemirror_mode": {
    "name": "ipython",
    "version": 3
   },
   "file_extension": ".py",
   "mimetype": "text/x-python",
   "name": "python",
   "nbconvert_exporter": "python",
   "pygments_lexer": "ipython3",
   "version": "3.10.9"
  }
 },
 "nbformat": 4,
 "nbformat_minor": 5
}
